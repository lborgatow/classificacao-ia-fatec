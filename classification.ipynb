{
  "cells": [
    {
      "cell_type": "markdown",
      "metadata": {
        "id": "mwvEFh1r0Fqe"
      },
      "source": [
        "# **Classificação de extinção de incêndio com ondas sonoras baseada no tamanho das chamas e nas configurações do dispositivo emissor das ondas**\n",
        "\n",
        "**Dataset:** https://www.kaggle.com/datasets/muratkokludataset/acoustic-extinguisher-fire-dataset"
      ]
    },
    {
      "cell_type": "markdown",
      "metadata": {
        "id": "HujAxfK9q6QN"
      },
      "source": [
        "Essa base de dados é o resultado de experimentos conduzidos para determinar o estado de extinção de chamas de combustível usando um sistema de extinção de incêndio por ondas sonoras. O objetivo é prever se uma chama será extinta ou não com base em várias características relacionadas à configuração dos dispositivos emissores das ondas e às condições experimentais.\n",
        "\n",
        "- O sistema inclui quatro subwoofers (alto-falante que reproduz frequências baixas) com uma potência total de 4.000 watts, colocados em um gabinete colimador (estrutura que direciona/concentra fluxos de energia);\n",
        "\n",
        "- O sistema de ondas sonoras é alimentado por dois amplificadores e uma fonte de alimentação, com um circuito de filtro para transmitir as frequências sonoras adequadas;\n",
        "\n",
        "- Um anemômetro mede o fluxo de ar resultante das ondas sonoras, um medidor de decibéis mede a intensidade do som e um termômetro infravermelho mede a temperatura da chama e do combustível;\n",
        "\n",
        "- Uma câmera é usada para detectar o tempo de extinção da chama;\n",
        "\n",
        "- Um total de 17.442 testes foram conduzidos usando essa configuração.\n",
        "\n"
      ]
    },
    {
      "cell_type": "markdown",
      "metadata": {
        "id": "2RrIbvEINK6y"
      },
      "source": [
        "# **Importação das Bibliotecas e Pré-definições**"
      ]
    },
    {
      "cell_type": "code",
      "execution_count": 1,
      "metadata": {},
      "outputs": [
        {
          "name": "stdout",
          "output_type": "stream",
          "text": [
            "Note: you may need to restart the kernel to use updated packages.\n"
          ]
        },
        {
          "name": "stderr",
          "output_type": "stream",
          "text": [
            "\n",
            "[notice] A new release of pip is available: 23.3.1 -> 24.0\n",
            "[notice] To update, run: python.exe -m pip install --upgrade pip\n"
          ]
        }
      ],
      "source": [
        "# Necessário instalar o tensorflow usando o pip\n",
        "\n",
        "%pip install tensorflow==2.11.1 -q"
      ]
    },
    {
      "cell_type": "code",
      "execution_count": 2,
      "metadata": {},
      "outputs": [],
      "source": [
        "# Garantir reproducibilidade nos resultados\n",
        "\n",
        "SEED = 42\n",
        "\n",
        "import os\n",
        "os.environ['PYTHONHASHSEED']=str(SEED)\n",
        "\n",
        "import random\n",
        "random.seed(SEED)\n",
        "\n",
        "import numpy as np\n",
        "np.random.seed(SEED)\n",
        "\n",
        "import tensorflow as tf\n",
        "tf.compat.v1.set_random_seed(SEED)\n",
        "\n",
        "session_conf = tf.compat.v1.ConfigProto(intra_op_parallelism_threads=1, inter_op_parallelism_threads=1)\n",
        "sess = tf.compat.v1.Session(graph=tf.compat.v1.get_default_graph(), config=session_conf)\n",
        "tf.compat.v1.keras.backend.set_session(sess)"
      ]
    },
    {
      "cell_type": "code",
      "execution_count": 3,
      "metadata": {
        "id": "dXYFznw_fArh"
      },
      "outputs": [
        {
          "name": "stderr",
          "output_type": "stream",
          "text": [
            "c:\\Users\\lborg\\Desktop\\ProjetosDS\\classificacao-ia-fatec\\.venv\\lib\\site-packages\\tqdm\\auto.py:21: TqdmWarning: IProgress not found. Please update jupyter and ipywidgets. See https://ipywidgets.readthedocs.io/en/stable/user_install.html\n",
            "  from .autonotebook import tqdm as notebook_tqdm\n"
          ]
        }
      ],
      "source": [
        "from typing import List, Tuple, Dict, Callable, Any, Union\n",
        "import warnings\n",
        "\n",
        "import pandas as pd\n",
        "import matplotlib.pyplot as plt\n",
        "import seaborn as sns\n",
        "import category_encoders as ce\n",
        "import optuna\n",
        "\n",
        "from sklearn.feature_selection import mutual_info_classif\n",
        "from sklearn.compose import ColumnTransformer\n",
        "from sklearn.preprocessing import MinMaxScaler\n",
        "from sklearn.pipeline import Pipeline, make_pipeline\n",
        "from sklearn.model_selection import train_test_split, GridSearchCV, StratifiedKFold, cross_validate\n",
        "from sklearn.metrics import get_scorer_names, accuracy_score, precision_score, recall_score, \\\n",
        "                            f1_score, roc_auc_score, confusion_matrix\n",
        "from sklearn.neighbors import KNeighborsClassifier\n",
        "from sklearn.naive_bayes import GaussianNB, MultinomialNB, BernoulliNB\n",
        "from sklearn.metrics import RocCurveDisplay, auc\n",
        "from sklearn.neural_network import MLPClassifier\n",
        "\n",
        "from tensorflow.keras.models import Sequential\n",
        "from tensorflow.keras.layers import  Input, Dense, Dropout\n",
        "from tensorflow.keras.optimizers import Adam, RMSprop"
      ]
    },
    {
      "cell_type": "code",
      "execution_count": 4,
      "metadata": {},
      "outputs": [],
      "source": [
        "# Suprimir warnings\n",
        "\n",
        "warnings.filterwarnings('ignore', category=np.VisibleDeprecationWarning)\n",
        "warnings.filterwarnings('ignore',)"
      ]
    },
    {
      "cell_type": "code",
      "execution_count": 5,
      "metadata": {
        "id": "jTDqDS72Bqt3"
      },
      "outputs": [],
      "source": [
        "import contextlib\n",
        "\n",
        "@contextlib.contextmanager\n",
        "def suppress_stdout():\n",
        "    \"\"\"Suprimir a saída redirecionando-a para o \"devnull\".\n",
        "    \"\"\"\n",
        "\n",
        "    with open(os.devnull, 'w') as fnull:\n",
        "        with contextlib.redirect_stdout(fnull):\n",
        "            yield"
      ]
    },
    {
      "cell_type": "markdown",
      "metadata": {
        "id": "3RFuRAAKN1Zv"
      },
      "source": [
        "# **Leitura dos Dados**"
      ]
    },
    {
      "cell_type": "code",
      "execution_count": 6,
      "metadata": {
        "id": "PTrmuiOIU9SJ"
      },
      "outputs": [
        {
          "data": {
            "text/html": [
              "<div>\n",
              "<style scoped>\n",
              "    .dataframe tbody tr th:only-of-type {\n",
              "        vertical-align: middle;\n",
              "    }\n",
              "\n",
              "    .dataframe tbody tr th {\n",
              "        vertical-align: top;\n",
              "    }\n",
              "\n",
              "    .dataframe thead th {\n",
              "        text-align: right;\n",
              "    }\n",
              "</style>\n",
              "<table border=\"1\" class=\"dataframe\">\n",
              "  <thead>\n",
              "    <tr style=\"text-align: right;\">\n",
              "      <th></th>\n",
              "      <th>SIZE</th>\n",
              "      <th>FUEL</th>\n",
              "      <th>DISTANCE</th>\n",
              "      <th>DESIBEL</th>\n",
              "      <th>AIRFLOW</th>\n",
              "      <th>FREQUENCY</th>\n",
              "      <th>STATUS</th>\n",
              "    </tr>\n",
              "  </thead>\n",
              "  <tbody>\n",
              "    <tr>\n",
              "      <th>0</th>\n",
              "      <td>1</td>\n",
              "      <td>gasoline</td>\n",
              "      <td>10</td>\n",
              "      <td>96</td>\n",
              "      <td>0.0</td>\n",
              "      <td>75</td>\n",
              "      <td>0</td>\n",
              "    </tr>\n",
              "    <tr>\n",
              "      <th>1</th>\n",
              "      <td>1</td>\n",
              "      <td>gasoline</td>\n",
              "      <td>10</td>\n",
              "      <td>96</td>\n",
              "      <td>0.0</td>\n",
              "      <td>72</td>\n",
              "      <td>1</td>\n",
              "    </tr>\n",
              "    <tr>\n",
              "      <th>2</th>\n",
              "      <td>1</td>\n",
              "      <td>gasoline</td>\n",
              "      <td>10</td>\n",
              "      <td>96</td>\n",
              "      <td>2.6</td>\n",
              "      <td>70</td>\n",
              "      <td>1</td>\n",
              "    </tr>\n",
              "    <tr>\n",
              "      <th>3</th>\n",
              "      <td>1</td>\n",
              "      <td>gasoline</td>\n",
              "      <td>10</td>\n",
              "      <td>96</td>\n",
              "      <td>3.2</td>\n",
              "      <td>68</td>\n",
              "      <td>1</td>\n",
              "    </tr>\n",
              "    <tr>\n",
              "      <th>4</th>\n",
              "      <td>1</td>\n",
              "      <td>gasoline</td>\n",
              "      <td>10</td>\n",
              "      <td>109</td>\n",
              "      <td>4.5</td>\n",
              "      <td>67</td>\n",
              "      <td>1</td>\n",
              "    </tr>\n",
              "    <tr>\n",
              "      <th>...</th>\n",
              "      <td>...</td>\n",
              "      <td>...</td>\n",
              "      <td>...</td>\n",
              "      <td>...</td>\n",
              "      <td>...</td>\n",
              "      <td>...</td>\n",
              "      <td>...</td>\n",
              "    </tr>\n",
              "    <tr>\n",
              "      <th>17437</th>\n",
              "      <td>7</td>\n",
              "      <td>lpg</td>\n",
              "      <td>190</td>\n",
              "      <td>86</td>\n",
              "      <td>2.2</td>\n",
              "      <td>5</td>\n",
              "      <td>0</td>\n",
              "    </tr>\n",
              "    <tr>\n",
              "      <th>17438</th>\n",
              "      <td>7</td>\n",
              "      <td>lpg</td>\n",
              "      <td>190</td>\n",
              "      <td>84</td>\n",
              "      <td>2.0</td>\n",
              "      <td>4</td>\n",
              "      <td>0</td>\n",
              "    </tr>\n",
              "    <tr>\n",
              "      <th>17439</th>\n",
              "      <td>7</td>\n",
              "      <td>lpg</td>\n",
              "      <td>190</td>\n",
              "      <td>80</td>\n",
              "      <td>1.5</td>\n",
              "      <td>3</td>\n",
              "      <td>0</td>\n",
              "    </tr>\n",
              "    <tr>\n",
              "      <th>17440</th>\n",
              "      <td>7</td>\n",
              "      <td>lpg</td>\n",
              "      <td>190</td>\n",
              "      <td>76</td>\n",
              "      <td>0.4</td>\n",
              "      <td>2</td>\n",
              "      <td>0</td>\n",
              "    </tr>\n",
              "    <tr>\n",
              "      <th>17441</th>\n",
              "      <td>7</td>\n",
              "      <td>lpg</td>\n",
              "      <td>190</td>\n",
              "      <td>72</td>\n",
              "      <td>0.0</td>\n",
              "      <td>1</td>\n",
              "      <td>0</td>\n",
              "    </tr>\n",
              "  </tbody>\n",
              "</table>\n",
              "<p>17442 rows × 7 columns</p>\n",
              "</div>"
            ],
            "text/plain": [
              "       SIZE      FUEL  DISTANCE  DESIBEL  AIRFLOW  FREQUENCY  STATUS\n",
              "0         1  gasoline        10       96      0.0         75       0\n",
              "1         1  gasoline        10       96      0.0         72       1\n",
              "2         1  gasoline        10       96      2.6         70       1\n",
              "3         1  gasoline        10       96      3.2         68       1\n",
              "4         1  gasoline        10      109      4.5         67       1\n",
              "...     ...       ...       ...      ...      ...        ...     ...\n",
              "17437     7       lpg       190       86      2.2          5       0\n",
              "17438     7       lpg       190       84      2.0          4       0\n",
              "17439     7       lpg       190       80      1.5          3       0\n",
              "17440     7       lpg       190       76      0.4          2       0\n",
              "17441     7       lpg       190       72      0.0          1       0\n",
              "\n",
              "[17442 rows x 7 columns]"
            ]
          },
          "execution_count": 6,
          "metadata": {},
          "output_type": "execute_result"
        }
      ],
      "source": [
        "path = './dados/Acoustic_Extinguisher_Fire_Dataset.xlsx'\n",
        "\n",
        "df = pd.read_excel(path)\n",
        "df"
      ]
    },
    {
      "cell_type": "markdown",
      "metadata": {
        "id": "9MbLF9uSN5JO"
      },
      "source": [
        "# **Exploração, Análise e Tratamento dos Dados**"
      ]
    },
    {
      "cell_type": "code",
      "execution_count": 7,
      "metadata": {
        "id": "50M0wDfji9mX"
      },
      "outputs": [],
      "source": [
        "df_analysis = df.copy()"
      ]
    },
    {
      "cell_type": "markdown",
      "metadata": {
        "id": "aIMYErZ9jTp4"
      },
      "source": [
        "## **Quantidade de resgistros (linhas) e variáveis (colunas)**"
      ]
    },
    {
      "cell_type": "code",
      "execution_count": 8,
      "metadata": {
        "id": "EgulyOysiopH"
      },
      "outputs": [
        {
          "data": {
            "text/plain": [
              "(17442, 7)"
            ]
          },
          "execution_count": 8,
          "metadata": {},
          "output_type": "execute_result"
        }
      ],
      "source": [
        "df_analysis.shape"
      ]
    },
    {
      "cell_type": "markdown",
      "metadata": {
        "id": "dNg9R10JR70g"
      },
      "source": [
        "## **Tipo das Variáveis**"
      ]
    },
    {
      "cell_type": "code",
      "execution_count": 9,
      "metadata": {
        "id": "BP5ox6h_iq55"
      },
      "outputs": [
        {
          "data": {
            "text/plain": [
              "SIZE           int64\n",
              "FUEL          object\n",
              "DISTANCE       int64\n",
              "DESIBEL        int64\n",
              "AIRFLOW      float64\n",
              "FREQUENCY      int64\n",
              "STATUS         int64\n",
              "dtype: object"
            ]
          },
          "execution_count": 9,
          "metadata": {},
          "output_type": "execute_result"
        }
      ],
      "source": [
        "df_analysis.dtypes"
      ]
    },
    {
      "cell_type": "markdown",
      "metadata": {
        "id": "5CiTPR4Dh-98"
      },
      "source": [
        "### **Transformação da variável categórica \"FUEL\" em variável numérica para as análises**"
      ]
    },
    {
      "cell_type": "code",
      "execution_count": 10,
      "metadata": {
        "id": "tE3RFlqyjkL4"
      },
      "outputs": [
        {
          "data": {
            "text/plain": [
              "array(['gasoline', 'thinner', 'kerosene', 'lpg'], dtype=object)"
            ]
          },
          "execution_count": 10,
          "metadata": {},
          "output_type": "execute_result"
        }
      ],
      "source": [
        "df_analysis['FUEL'].unique()"
      ]
    },
    {
      "cell_type": "code",
      "execution_count": 11,
      "metadata": {
        "id": "p_iEF-DaiH1b"
      },
      "outputs": [],
      "source": [
        "df_analysis['FUEL'] = df_analysis['FUEL'].replace({'gasoline': 1,\n",
        "                                                   'thinner': 2,\n",
        "                                                   'kerosene': 3,\n",
        "                                                   'lpg': 4})"
      ]
    },
    {
      "cell_type": "markdown",
      "metadata": {
        "id": "Y1b-gTRzljGg"
      },
      "source": [
        "## **Quantidade de registros distintos por coluna**"
      ]
    },
    {
      "cell_type": "code",
      "execution_count": 12,
      "metadata": {
        "id": "awO0WQunizzX"
      },
      "outputs": [
        {
          "data": {
            "text/plain": [
              "SIZE           7\n",
              "FUEL           4\n",
              "DISTANCE      19\n",
              "DESIBEL       39\n",
              "AIRFLOW      127\n",
              "FREQUENCY     54\n",
              "STATUS         2\n",
              "dtype: int64"
            ]
          },
          "execution_count": 12,
          "metadata": {},
          "output_type": "execute_result"
        }
      ],
      "source": [
        "df_analysis.nunique()"
      ]
    },
    {
      "cell_type": "markdown",
      "metadata": {
        "id": "7nbengufAQPc"
      },
      "source": [
        "## **Valores Missing (NAN)**"
      ]
    },
    {
      "cell_type": "code",
      "execution_count": 13,
      "metadata": {
        "id": "O1Chk8yAAOta"
      },
      "outputs": [
        {
          "data": {
            "text/plain": [
              "SIZE         0\n",
              "FUEL         0\n",
              "DISTANCE     0\n",
              "DESIBEL      0\n",
              "AIRFLOW      0\n",
              "FREQUENCY    0\n",
              "STATUS       0\n",
              "dtype: int64"
            ]
          },
          "execution_count": 13,
          "metadata": {},
          "output_type": "execute_result"
        }
      ],
      "source": [
        "df_analysis.isna().sum()"
      ]
    },
    {
      "cell_type": "markdown",
      "metadata": {
        "id": "it3yq-8G9n49"
      },
      "source": [
        "## **Análise de Outliers**"
      ]
    },
    {
      "cell_type": "code",
      "execution_count": 14,
      "metadata": {
        "id": "gHuNJ9SH9rrx"
      },
      "outputs": [
        {
          "name": "stdout",
          "output_type": "stream",
          "text": [
            "SIZE   FUEL   DISTANCE  DESIBEL  AIRFLOW  FREQUENCY  STATUS\n",
            "False  False  False     False    False    False      False     17442\n",
            "dtype: int64\n"
          ]
        }
      ],
      "source": [
        "limit = 1.5\n",
        "\n",
        "Q1 = df_analysis.quantile(0.25)\n",
        "Q3 = df_analysis.quantile(0.75)\n",
        "\n",
        "IQR = Q3 - Q1\n",
        "\n",
        "inf_limit = Q1 - limit * IQR\n",
        "up_limit = Q3 + limit * IQR\n",
        "\n",
        "outliers = (df_analysis < inf_limit) | (df_analysis > up_limit)\n",
        "\n",
        "print(outliers.value_counts())"
      ]
    },
    {
      "cell_type": "markdown",
      "metadata": {
        "id": "40XpXjUscROI"
      },
      "source": [
        "## **Análises estatísticas**"
      ]
    },
    {
      "cell_type": "code",
      "execution_count": 15,
      "metadata": {
        "id": "zj7G6Mto8pbx"
      },
      "outputs": [],
      "source": [
        "features = df_analysis.iloc[:, :-1]\n",
        "target = df_analysis.iloc[:, -1]"
      ]
    },
    {
      "cell_type": "code",
      "execution_count": 16,
      "metadata": {
        "id": "RTMKo8F7cVr6"
      },
      "outputs": [
        {
          "data": {
            "text/html": [
              "<div>\n",
              "<style scoped>\n",
              "    .dataframe tbody tr th:only-of-type {\n",
              "        vertical-align: middle;\n",
              "    }\n",
              "\n",
              "    .dataframe tbody tr th {\n",
              "        vertical-align: top;\n",
              "    }\n",
              "\n",
              "    .dataframe thead th {\n",
              "        text-align: right;\n",
              "    }\n",
              "</style>\n",
              "<table border=\"1\" class=\"dataframe\">\n",
              "  <thead>\n",
              "    <tr style=\"text-align: right;\">\n",
              "      <th></th>\n",
              "      <th>SIZE</th>\n",
              "      <th>FUEL</th>\n",
              "      <th>DISTANCE</th>\n",
              "      <th>DESIBEL</th>\n",
              "      <th>AIRFLOW</th>\n",
              "      <th>FREQUENCY</th>\n",
              "      <th>STATUS</th>\n",
              "    </tr>\n",
              "  </thead>\n",
              "  <tbody>\n",
              "    <tr>\n",
              "      <th>count</th>\n",
              "      <td>17442.000000</td>\n",
              "      <td>17442.000000</td>\n",
              "      <td>17442.000000</td>\n",
              "      <td>17442.000000</td>\n",
              "      <td>17442.000000</td>\n",
              "      <td>17442.000000</td>\n",
              "      <td>17442.000000</td>\n",
              "    </tr>\n",
              "    <tr>\n",
              "      <th>mean</th>\n",
              "      <td>3.411765</td>\n",
              "      <td>2.235294</td>\n",
              "      <td>100.000000</td>\n",
              "      <td>96.379142</td>\n",
              "      <td>6.975634</td>\n",
              "      <td>31.611111</td>\n",
              "      <td>0.497821</td>\n",
              "    </tr>\n",
              "    <tr>\n",
              "      <th>std</th>\n",
              "      <td>1.750977</td>\n",
              "      <td>1.001757</td>\n",
              "      <td>54.773826</td>\n",
              "      <td>8.164096</td>\n",
              "      <td>4.736169</td>\n",
              "      <td>20.939149</td>\n",
              "      <td>0.500010</td>\n",
              "    </tr>\n",
              "    <tr>\n",
              "      <th>min</th>\n",
              "      <td>1.000000</td>\n",
              "      <td>1.000000</td>\n",
              "      <td>10.000000</td>\n",
              "      <td>72.000000</td>\n",
              "      <td>0.000000</td>\n",
              "      <td>1.000000</td>\n",
              "      <td>0.000000</td>\n",
              "    </tr>\n",
              "    <tr>\n",
              "      <th>25%</th>\n",
              "      <td>2.000000</td>\n",
              "      <td>1.000000</td>\n",
              "      <td>50.000000</td>\n",
              "      <td>90.000000</td>\n",
              "      <td>3.200000</td>\n",
              "      <td>14.000000</td>\n",
              "      <td>0.000000</td>\n",
              "    </tr>\n",
              "    <tr>\n",
              "      <th>50%</th>\n",
              "      <td>3.000000</td>\n",
              "      <td>2.000000</td>\n",
              "      <td>100.000000</td>\n",
              "      <td>95.000000</td>\n",
              "      <td>5.800000</td>\n",
              "      <td>27.500000</td>\n",
              "      <td>0.000000</td>\n",
              "    </tr>\n",
              "    <tr>\n",
              "      <th>75%</th>\n",
              "      <td>5.000000</td>\n",
              "      <td>3.000000</td>\n",
              "      <td>150.000000</td>\n",
              "      <td>104.000000</td>\n",
              "      <td>11.200000</td>\n",
              "      <td>47.000000</td>\n",
              "      <td>1.000000</td>\n",
              "    </tr>\n",
              "    <tr>\n",
              "      <th>max</th>\n",
              "      <td>7.000000</td>\n",
              "      <td>4.000000</td>\n",
              "      <td>190.000000</td>\n",
              "      <td>113.000000</td>\n",
              "      <td>17.000000</td>\n",
              "      <td>75.000000</td>\n",
              "      <td>1.000000</td>\n",
              "    </tr>\n",
              "  </tbody>\n",
              "</table>\n",
              "</div>"
            ],
            "text/plain": [
              "               SIZE          FUEL      DISTANCE       DESIBEL       AIRFLOW  \\\n",
              "count  17442.000000  17442.000000  17442.000000  17442.000000  17442.000000   \n",
              "mean       3.411765      2.235294    100.000000     96.379142      6.975634   \n",
              "std        1.750977      1.001757     54.773826      8.164096      4.736169   \n",
              "min        1.000000      1.000000     10.000000     72.000000      0.000000   \n",
              "25%        2.000000      1.000000     50.000000     90.000000      3.200000   \n",
              "50%        3.000000      2.000000    100.000000     95.000000      5.800000   \n",
              "75%        5.000000      3.000000    150.000000    104.000000     11.200000   \n",
              "max        7.000000      4.000000    190.000000    113.000000     17.000000   \n",
              "\n",
              "          FREQUENCY        STATUS  \n",
              "count  17442.000000  17442.000000  \n",
              "mean      31.611111      0.497821  \n",
              "std       20.939149      0.500010  \n",
              "min        1.000000      0.000000  \n",
              "25%       14.000000      0.000000  \n",
              "50%       27.500000      0.000000  \n",
              "75%       47.000000      1.000000  \n",
              "max       75.000000      1.000000  "
            ]
          },
          "execution_count": 16,
          "metadata": {},
          "output_type": "execute_result"
        }
      ],
      "source": [
        "df_analysis.describe()"
      ]
    },
    {
      "cell_type": "markdown",
      "metadata": {
        "id": "Uvoa4UxwhM5q"
      },
      "source": [
        "### **Correlações**"
      ]
    },
    {
      "cell_type": "code",
      "execution_count": 17,
      "metadata": {
        "id": "bxNd_Fn95Sx_"
      },
      "outputs": [
        {
          "data": {
            "text/plain": [
              "AIRFLOW      0.758515\n",
              "DESIBEL      0.149350\n",
              "FUEL        -0.028799\n",
              "SIZE        -0.107757\n",
              "FREQUENCY   -0.196645\n",
              "DISTANCE    -0.644051\n",
              "dtype: float64"
            ]
          },
          "execution_count": 17,
          "metadata": {},
          "output_type": "execute_result"
        }
      ],
      "source": [
        "features.corrwith(target, method = 'spearman').sort_values(ascending=False)"
      ]
    },
    {
      "cell_type": "markdown",
      "metadata": {
        "id": "j9mqL1Oc8TRL"
      },
      "source": [
        "### **Importância das Features**"
      ]
    },
    {
      "cell_type": "code",
      "execution_count": 18,
      "metadata": {
        "id": "GAP9mcN25okb"
      },
      "outputs": [
        {
          "data": {
            "text/html": [
              "<div>\n",
              "<style scoped>\n",
              "    .dataframe tbody tr th:only-of-type {\n",
              "        vertical-align: middle;\n",
              "    }\n",
              "\n",
              "    .dataframe tbody tr th {\n",
              "        vertical-align: top;\n",
              "    }\n",
              "\n",
              "    .dataframe thead th {\n",
              "        text-align: right;\n",
              "    }\n",
              "</style>\n",
              "<table border=\"1\" class=\"dataframe\">\n",
              "  <thead>\n",
              "    <tr style=\"text-align: right;\">\n",
              "      <th></th>\n",
              "      <th>Importância</th>\n",
              "    </tr>\n",
              "  </thead>\n",
              "  <tbody>\n",
              "    <tr>\n",
              "      <th>AIRFLOW</th>\n",
              "      <td>0.398927</td>\n",
              "    </tr>\n",
              "    <tr>\n",
              "      <th>DISTANCE</th>\n",
              "      <td>0.253301</td>\n",
              "    </tr>\n",
              "    <tr>\n",
              "      <th>DESIBEL</th>\n",
              "      <td>0.167375</td>\n",
              "    </tr>\n",
              "    <tr>\n",
              "      <th>FREQUENCY</th>\n",
              "      <td>0.108088</td>\n",
              "    </tr>\n",
              "    <tr>\n",
              "      <th>SIZE</th>\n",
              "      <td>0.014603</td>\n",
              "    </tr>\n",
              "    <tr>\n",
              "      <th>FUEL</th>\n",
              "      <td>0.000200</td>\n",
              "    </tr>\n",
              "  </tbody>\n",
              "</table>\n",
              "</div>"
            ],
            "text/plain": [
              "           Importância\n",
              "AIRFLOW       0.398927\n",
              "DISTANCE      0.253301\n",
              "DESIBEL       0.167375\n",
              "FREQUENCY     0.108088\n",
              "SIZE          0.014603\n",
              "FUEL          0.000200"
            ]
          },
          "execution_count": 18,
          "metadata": {},
          "output_type": "execute_result"
        }
      ],
      "source": [
        "feat_weight = mutual_info_classif(features, target)\n",
        "pd.DataFrame(feat_weight, index=features.columns.tolist(),\n",
        "             columns=['Importância']).sort_values(by='Importância', ascending=False)"
      ]
    },
    {
      "cell_type": "markdown",
      "metadata": {
        "id": "fh88_USG5rH4"
      },
      "source": [
        "## **Análise das Variáveis**"
      ]
    },
    {
      "cell_type": "markdown",
      "metadata": {
        "id": "Bt8sHAzR51OG"
      },
      "source": [
        "### **SIZE**"
      ]
    },
    {
      "cell_type": "code",
      "execution_count": 19,
      "metadata": {
        "id": "xzD3GYV450Y2"
      },
      "outputs": [
        {
          "data": {
            "text/plain": [
              "1    3078\n",
              "2    3078\n",
              "3    3078\n",
              "4    3078\n",
              "5    3078\n",
              "6    1026\n",
              "7    1026\n",
              "Name: SIZE, dtype: int64"
            ]
          },
          "execution_count": 19,
          "metadata": {},
          "output_type": "execute_result"
        }
      ],
      "source": [
        "df_analysis['SIZE'].value_counts().sort_index()"
      ]
    },
    {
      "cell_type": "markdown",
      "metadata": {
        "id": "vqZpaRLq6Hz0"
      },
      "source": [
        "### **FUEL**"
      ]
    },
    {
      "cell_type": "code",
      "execution_count": 20,
      "metadata": {
        "id": "AWNKcjuF6TH8"
      },
      "outputs": [
        {
          "data": {
            "text/plain": [
              "1    5130\n",
              "2    5130\n",
              "3    5130\n",
              "4    2052\n",
              "Name: FUEL, dtype: int64"
            ]
          },
          "execution_count": 20,
          "metadata": {},
          "output_type": "execute_result"
        }
      ],
      "source": [
        "df_analysis['FUEL'].value_counts().sort_index()"
      ]
    },
    {
      "cell_type": "markdown",
      "metadata": {
        "id": "kjIZo0Qd7RTE"
      },
      "source": [
        "### **DISTANCE**"
      ]
    },
    {
      "cell_type": "code",
      "execution_count": 21,
      "metadata": {
        "id": "55dc9rNC7RTF"
      },
      "outputs": [
        {
          "data": {
            "text/plain": [
              "10     918\n",
              "20     918\n",
              "30     918\n",
              "40     918\n",
              "50     918\n",
              "60     918\n",
              "70     918\n",
              "80     918\n",
              "90     918\n",
              "100    918\n",
              "110    918\n",
              "120    918\n",
              "130    918\n",
              "140    918\n",
              "150    918\n",
              "160    918\n",
              "170    918\n",
              "180    918\n",
              "190    918\n",
              "Name: DISTANCE, dtype: int64"
            ]
          },
          "execution_count": 21,
          "metadata": {},
          "output_type": "execute_result"
        }
      ],
      "source": [
        "df_analysis['DISTANCE'].value_counts().sort_index()"
      ]
    },
    {
      "cell_type": "markdown",
      "metadata": {
        "id": "ICV2FQGO7jUC"
      },
      "source": [
        "### **DESIBEL**"
      ]
    },
    {
      "cell_type": "code",
      "execution_count": 22,
      "metadata": {
        "id": "Z1JuXjOv7jUD"
      },
      "outputs": [
        {
          "data": {
            "text/plain": [
              "92     1462\n",
              "96     1360\n",
              "106    1360\n",
              "90     1105\n",
              "105    1071\n",
              "91      969\n",
              "104     867\n",
              "89      782\n",
              "93      765\n",
              "95      765\n",
              "94      646\n",
              "108     646\n",
              "107     612\n",
              "102     612\n",
              "103     595\n",
              "88      561\n",
              "86      442\n",
              "87      425\n",
              "97      272\n",
              "110     272\n",
              "101     255\n",
              "85      238\n",
              "109     187\n",
              "75      136\n",
              "80      119\n",
              "100     119\n",
              "84      119\n",
              "74      119\n",
              "111     102\n",
              "78       85\n",
              "83       85\n",
              "76       51\n",
              "98       51\n",
              "79       51\n",
              "112      34\n",
              "82       34\n",
              "99       34\n",
              "113      17\n",
              "72       17\n",
              "Name: DESIBEL, dtype: int64"
            ]
          },
          "execution_count": 22,
          "metadata": {},
          "output_type": "execute_result"
        }
      ],
      "source": [
        "df_analysis['DESIBEL'].value_counts()"
      ]
    },
    {
      "cell_type": "markdown",
      "metadata": {
        "id": "aqxjGJxA75Hb"
      },
      "source": [
        "### **AIRFLOW**"
      ]
    },
    {
      "cell_type": "code",
      "execution_count": 23,
      "metadata": {
        "id": "Ftok5Uyh75Hr"
      },
      "outputs": [
        {
          "data": {
            "text/plain": [
              "0.0     1632\n",
              "0.4       51\n",
              "0.8       34\n",
              "1.0       85\n",
              "1.1       34\n",
              "        ... \n",
              "16.0     102\n",
              "16.1      17\n",
              "16.3      34\n",
              "16.6      17\n",
              "17.0      17\n",
              "Name: AIRFLOW, Length: 127, dtype: int64"
            ]
          },
          "execution_count": 23,
          "metadata": {},
          "output_type": "execute_result"
        }
      ],
      "source": [
        "df_analysis['AIRFLOW'].value_counts().sort_index()"
      ]
    },
    {
      "cell_type": "code",
      "execution_count": 24,
      "metadata": {
        "id": "b1nN1tPc8TUJ"
      },
      "outputs": [
        {
          "data": {
            "text/plain": [
              "0    1614\n",
              "1      18\n",
              "Name: STATUS, dtype: int64"
            ]
          },
          "execution_count": 24,
          "metadata": {},
          "output_type": "execute_result"
        }
      ],
      "source": [
        "df_analysis[df_analysis['AIRFLOW'] == 0.0]['STATUS'].value_counts()"
      ]
    },
    {
      "cell_type": "markdown",
      "metadata": {
        "id": "SUD1X5Xr85PY"
      },
      "source": [
        "### **FREQUENCY**"
      ]
    },
    {
      "cell_type": "code",
      "execution_count": 25,
      "metadata": {
        "id": "yZxMMVDc85Pr"
      },
      "outputs": [
        {
          "data": {
            "text/plain": [
              "1     323\n",
              "2     323\n",
              "3     323\n",
              "4     323\n",
              "5     323\n",
              "6     323\n",
              "7     323\n",
              "8     323\n",
              "9     323\n",
              "10    323\n",
              "11    323\n",
              "12    323\n",
              "13    323\n",
              "14    323\n",
              "15    323\n",
              "16    323\n",
              "17    323\n",
              "18    323\n",
              "19    323\n",
              "20    323\n",
              "21    323\n",
              "22    323\n",
              "23    323\n",
              "24    323\n",
              "25    323\n",
              "26    323\n",
              "27    323\n",
              "28    323\n",
              "30    323\n",
              "32    323\n",
              "33    323\n",
              "34    323\n",
              "35    323\n",
              "36    323\n",
              "38    323\n",
              "40    323\n",
              "42    323\n",
              "44    323\n",
              "45    323\n",
              "46    323\n",
              "47    323\n",
              "48    323\n",
              "50    323\n",
              "51    323\n",
              "52    323\n",
              "55    323\n",
              "60    323\n",
              "65    323\n",
              "66    323\n",
              "67    323\n",
              "68    323\n",
              "70    323\n",
              "72    323\n",
              "75    323\n",
              "Name: FREQUENCY, dtype: int64"
            ]
          },
          "execution_count": 25,
          "metadata": {},
          "output_type": "execute_result"
        }
      ],
      "source": [
        "df_analysis['FREQUENCY'].value_counts().sort_index()"
      ]
    },
    {
      "cell_type": "markdown",
      "metadata": {
        "id": "JXl_zqhm-Eu0"
      },
      "source": [
        "### **STATUS**"
      ]
    },
    {
      "cell_type": "code",
      "execution_count": 26,
      "metadata": {
        "id": "_W6-p9DB-Eu9"
      },
      "outputs": [
        {
          "data": {
            "text/plain": [
              "0    8759\n",
              "1    8683\n",
              "Name: STATUS, dtype: int64"
            ]
          },
          "execution_count": 26,
          "metadata": {},
          "output_type": "execute_result"
        }
      ],
      "source": [
        "df_analysis['STATUS'].value_counts().sort_index()"
      ]
    },
    {
      "cell_type": "code",
      "execution_count": 27,
      "metadata": {
        "id": "e8BOEfLi-Eu-"
      },
      "outputs": [
        {
          "name": "stdout",
          "output_type": "stream",
          "text": [
            "STATUS = 0 --> 50.22 %\n",
            "STATUS = 1 --> 49.78 %\n"
          ]
        }
      ],
      "source": [
        "distribuicao_status = df_analysis['STATUS'].value_counts(normalize=True)\n",
        "\n",
        "print(f'STATUS = 0 --> {distribuicao_status[0]*100:.2f} %')\n",
        "print(f'STATUS = 1 --> {distribuicao_status[1]*100:.2f} %')"
      ]
    },
    {
      "cell_type": "markdown",
      "metadata": {
        "id": "rN71ChqyQpyW"
      },
      "source": [
        "## **Histogramas**"
      ]
    },
    {
      "cell_type": "code",
      "execution_count": 28,
      "metadata": {
        "id": "NkKLvT3slYT3"
      },
      "outputs": [
        {
          "data": {
            "image/png": "[encoded data removed]",
            "text/plain": [
              "<Figure size 1080x576 with 8 Axes>"
            ]
          },
          "metadata": {
            "needs_background": "light"
          },
          "output_type": "display_data"
        }
      ],
      "source": [
        "fig, axs = plt.subplots(2, 4, figsize=(15, 8))\n",
        "sns.histplot(df_analysis, x='SIZE', bins='auto', color='red', stat='count', ax=axs[0, 0])\n",
        "sns.histplot(df, x='FUEL', bins='auto', color='blue', stat='count', ax=axs[0, 1])\n",
        "sns.histplot(df_analysis, x='DISTANCE', bins='auto', color='green', stat='count', ax=axs[0, 2])\n",
        "sns.histplot(df_analysis, x='DESIBEL', bins='auto', color='violet', stat='count', ax=axs[0, 3])\n",
        "sns.histplot(df_analysis, x='AIRFLOW', bins='auto', color='gray', stat='count', ax=axs[1, 0])\n",
        "sns.histplot(df_analysis, x='FREQUENCY', bins='auto', color='cyan', stat='count', ax=axs[1, 1])\n",
        "sns.countplot(data=df_analysis, x='STATUS', color='orange', ax=axs[1, 2])\n",
        "\n",
        "# Remove os labels y (Count)\n",
        "for ax_row in axs:\n",
        "    for ax in ax_row:\n",
        "        ax.set_ylabel('')\n",
        "\n",
        "plt.tight_layout()\n",
        "plt.show()"
      ]
    },
    {
      "cell_type": "markdown",
      "metadata": {
        "id": "pOlzA2TqjvCg"
      },
      "source": [
        "## **Legenda**\n",
        "\n",
        "SIZE: Tamanho da lata de combustível usada para atingir tamanhos diferentes de chamas nos experimentos;\n",
        "- Combustível líquido --> 1 = 7cm, 2 = 12cm, 3 = 14cm, 4 = 16cm, 5 = 20cm;\n",
        "- Gás --> 6 = \"meio-gás\", 7 = \"gás total\".\n",
        "\n",
        "FUEL: Tipo de combustível;\n",
        "- Gasolina, Solvente, Querosene, Gás LPG.\n",
        "\n",
        "DISTANCE: Distância entre o dispositivo e as chamas;\n",
        "- 10 a 190 cm. Com incrementos de 10 em 10.\n",
        "\n",
        "DESIBEL: Intensidade sonora em decibéis (dB);\n",
        "- 72 a 113 dB.\n",
        "\n",
        "AIRFLOW: Medição do fluxo de ar, resultante das ondas sonoras, em metros por segundo (m/s);\n",
        "- 0 a 17m/s.\n",
        "\n",
        "FREQUENCY: Frequência da onda sonora em Hertz (Hz);\n",
        "- 1 a 75 Hz.\n",
        "\n",
        "STATUS: Indica o estado de extinção das chamas;\n",
        "- 0 = não extinção, 1 = extinção.\n",
        "\n"
      ]
    },
    {
      "cell_type": "markdown",
      "metadata": {
        "id": "1l-kFlwZ8weu"
      },
      "source": [
        "# **Pré-processamento**"
      ]
    },
    {
      "cell_type": "markdown",
      "metadata": {
        "id": "vAZT_NVdnyZM"
      },
      "source": [
        "## **Separação das colunas em listas**"
      ]
    },
    {
      "cell_type": "code",
      "execution_count": 29,
      "metadata": {
        "id": "jekvFDMi7PKo"
      },
      "outputs": [],
      "source": [
        "TARGET = 'STATUS'\n",
        "CATEGORY_FT = ['FUEL']\n",
        "NUMERICAL_FT = [col for col in df.columns if (col not in CATEGORY_FT) and (col != TARGET)]\n",
        "FEATURES = CATEGORY_FT + NUMERICAL_FT\n",
        "COLS = df.columns.tolist()"
      ]
    },
    {
      "cell_type": "markdown",
      "metadata": {
        "id": "Zfwr6FhA-MvG"
      },
      "source": [
        "## **Divisão em previsores (X) e alvo (y)**"
      ]
    },
    {
      "cell_type": "code",
      "execution_count": 30,
      "metadata": {
        "id": "znt7Svs0-NUk"
      },
      "outputs": [],
      "source": [
        "X = df[FEATURES]\n",
        "y = df[TARGET]"
      ]
    },
    {
      "cell_type": "markdown",
      "metadata": {
        "id": "N_W-Bi7Ui5Tc"
      },
      "source": [
        "## **Transformação e Escalonamento via Pipeline**"
      ]
    },
    {
      "cell_type": "code",
      "execution_count": 31,
      "metadata": {
        "id": "KbvClYZ_wqoe"
      },
      "outputs": [],
      "source": [
        "def create_pipeline(model: Any, params: Dict[str, Union[None, int, float, str, bool, Tuple[int]]] = {}, keras: bool = False) -> Pipeline:\n",
        "    \"\"\"Criar um pipeline para padronizar transformações dos dados e criação dos modelos.\n",
        "\n",
        "    Args:\n",
        "        model (Any): Modelo usado para as previsões.\n",
        "        params (Dict[str, Union[None, int, float, str, bool, Tuple[int]]], optional): Dicionário com os parâmetros do modelo. \n",
        "        Defaults to {}.\n",
        "        keras (bool, optional): \"True\" para pipeline de um modelo Keras e \"False\" para outros\n",
        "        modelos. Defaults to False.\n",
        "\n",
        "    Returns:\n",
        "        Pipeline: Pipeline usado para as previsões.\n",
        "    \"\"\"\n",
        "\n",
        "    categorical_encoder = ce.OneHotEncoder(cols=CATEGORY_FT, use_cat_names=True)\n",
        "    numerical_pipe = make_pipeline(MinMaxScaler())\n",
        "\n",
        "    preprocessing = ColumnTransformer(\n",
        "        [\n",
        "            (\"cat\", categorical_encoder, CATEGORY_FT),\n",
        "            (\"num\", numerical_pipe, NUMERICAL_FT),\n",
        "        ],\n",
        "        remainder='passthrough',\n",
        "        verbose_feature_names_out=False,\n",
        "    )\n",
        "\n",
        "    if keras:\n",
        "        pipeline = Pipeline(\n",
        "        [\n",
        "            (\"preprocess\", preprocessing),\n",
        "            (\"classifier\", model),\n",
        "        ]\n",
        "    )\n",
        "    else:\n",
        "        pipeline = Pipeline(\n",
        "            [\n",
        "                (\"preprocess\", preprocessing),\n",
        "                (\"classifier\", model(**params)),\n",
        "            ]\n",
        "        )\n",
        "\n",
        "    return pipeline"
      ]
    },
    {
      "cell_type": "markdown",
      "metadata": {
        "id": "XuBqlY3eNN6t"
      },
      "source": [
        "## **Definição do método de Validação Cruzada**"
      ]
    },
    {
      "cell_type": "code",
      "execution_count": 32,
      "metadata": {
        "id": "S2O2gKmbNRFV"
      },
      "outputs": [],
      "source": [
        "cv = StratifiedKFold(n_splits=10, shuffle=True, random_state=42)"
      ]
    },
    {
      "cell_type": "markdown",
      "metadata": {
        "id": "K1jz72PZhtJt"
      },
      "source": [
        "## **Definição das funções**"
      ]
    },
    {
      "cell_type": "code",
      "execution_count": 33,
      "metadata": {
        "id": "KTy2qeS_GgHi"
      },
      "outputs": [],
      "source": [
        "def get_pipeline_gscv_results(grid_search: GridSearchCV) -> Dict[str, Union[None, int, float, str, bool, Tuple[int]]]:\n",
        "    \"\"\"Obter os melhores parâmetros e resultados do GridSearchCV com pipeline.\n",
        "\n",
        "    Args:\n",
        "        grid_search (GridSearchCV): GridSearchCV usado para treinamento do modelo.\n",
        "\n",
        "    Returns:\n",
        "        Dict[str, Union[None, int, float, str, bool, Tuple[int]]]: Dicionário com os melhores parâmetros do modelo.\n",
        "    \"\"\"\n",
        "\n",
        "    target_metric = 'mean_test_accuracy'\n",
        "\n",
        "    best_params = grid_search.cv_results_['params'][np.argmax(grid_search.cv_results_[target_metric])]\n",
        "    accuracy = grid_search.cv_results_['mean_test_accuracy'][np.argmax(grid_search.cv_results_[target_metric])]\n",
        "    precision = grid_search.cv_results_['mean_test_precision'][np.argmax(grid_search.cv_results_[target_metric])]\n",
        "    recall = grid_search.cv_results_['mean_test_recall'][np.argmax(grid_search.cv_results_[target_metric])]\n",
        "    f1 = grid_search.cv_results_['mean_test_f1'][np.argmax(grid_search.cv_results_[target_metric])]\n",
        "    roc_auc = grid_search.cv_results_['mean_test_roc_auc'][np.argmax(grid_search.cv_results_[target_metric])]\n",
        "\n",
        "    print(f'Principal métrica: {target_metric}\\n')\n",
        "\n",
        "    best_params_ = {}\n",
        "    print(f'Melhores parâmetros: ')\n",
        "    for k, i in best_params.items():\n",
        "        k = k[12:]\n",
        "        best_params_[k] = i\n",
        "        print(f'\\t{k}={i}')\n",
        "    print('Melhores métricas:')\n",
        "    print(f'\\tAcurácia: {accuracy * 100.0:.2f}%')\n",
        "    print(f'\\tPrecisão: {precision * 100.0:.2f}%')\n",
        "    print(f'\\tRecall: {recall * 100.0:.2f}%')\n",
        "    print(f'\\tF1: {f1 * 100.0:.2f}%')\n",
        "    print(f'\\tROC-AUC: {roc_auc * 100.0:.2f}%')\n",
        "\n",
        "    return best_params_"
      ]
    },
    {
      "cell_type": "code",
      "execution_count": 34,
      "metadata": {
        "id": "T-BqVS4TPe5P"
      },
      "outputs": [],
      "source": [
        "def print_best_results(params: Dict[str, Union[None, int, float, str, bool, Tuple[int]]], metrics: List[float]) -> None:\n",
        "    \"\"\"Imprimir os melhores parâmetros e métricas de desempenho do modelo.\n",
        "\n",
        "    Args:\n",
        "        params (Dict[str, Union[None, int, float, str, bool, Tuple[int]]]): Dicionário com os parâmetros do modelo.\n",
        "        metrics (List[float]): Lista com as métricas de desempenho do modelo.\n",
        "\n",
        "    Returns:\n",
        "        None\n",
        "    \"\"\"\n",
        "\n",
        "    accuracy = metrics[0]\n",
        "    precision = metrics[1]\n",
        "    recall = metrics[2]\n",
        "    f1 = metrics[3]\n",
        "    roc_auc = metrics[4]\n",
        "\n",
        "    print(f'Principal métrica: Acurácia')\n",
        "\n",
        "    print('\\nMelhores parâmetros: ')\n",
        "    for k, i in params.items():\n",
        "        print(f'\\t{k}={i}')\n",
        "    print('\\nMelhores métricas:')\n",
        "    print(f'\\tAcurácia: {accuracy * 100.0:.2f}%')\n",
        "    print(f'\\tPrecisão: {precision * 100.0:.2f}%')\n",
        "    print(f'\\tRecall: {recall * 100.0:.2f}%')\n",
        "    print(f'\\tF1: {f1 * 100.0:.2f}%')\n",
        "    print(f'\\tROC-AUC: {roc_auc * 100.0:.2f}%')"
      ]
    },
    {
      "cell_type": "code",
      "execution_count": 35,
      "metadata": {
        "id": "vPx1qPiJDoOV"
      },
      "outputs": [],
      "source": [
        "def plot_confusion_matrix(y_test: np.ndarray, y_pred: np.ndarray) -> None:\n",
        "    \"\"\"Plotar a matriz de confusão das previsões dos modelos.\n",
        "\n",
        "    Args:\n",
        "        y_test (np.ndarray): Array com os dados de teste.\n",
        "        y_pred (np.ndarray): Array com as previsões.\n",
        "\n",
        "    Returns:\n",
        "        None\n",
        "    \"\"\"\n",
        "\n",
        "    cm = confusion_matrix(y_test, y_pred)\n",
        "    cmn = confusion_matrix(y_test, y_pred, normalize='true')\n",
        "    cms = [cm, cmn]\n",
        "    for i, conf_matrix in enumerate(cms):\n",
        "        class_names = ['0', '1']\n",
        "        plt.figure(figsize=(4, 3))\n",
        "        if i == 0:\n",
        "            fmt = 'd'\n",
        "            plt.title('Matriz de Confusão')\n",
        "        else:\n",
        "            fmt = '.2f'\n",
        "            plt.title('Matriz de Confusão Normalizada')\n",
        "        sns.heatmap(conf_matrix, annot=True,fmt=fmt, cmap='Blues',\n",
        "                    xticklabels=class_names, yticklabels=class_names)\n",
        "        plt.xlabel('Previsto')\n",
        "        plt.ylabel('Verdadeiro')\n",
        "        plt.show()\n",
        "        print()"
      ]
    },
    {
      "cell_type": "code",
      "execution_count": 36,
      "metadata": {
        "id": "c3mk7gfMQ-5W"
      },
      "outputs": [],
      "source": [
        "def plot_roc_auc_cv_curve(X: pd.DataFrame, y: pd.Series, model: Any,\n",
        "                          params: Dict[str, Union[None, int, float, str, bool, Tuple[int]]], \n",
        "                          cv: StratifiedKFold) -> None:\n",
        "    \"\"\"Plotar o gráficp com a curva ROC-AUC pela validação cruzada.\n",
        "\n",
        "    Args:\n",
        "        X (pd.DataFrame): DataFrame com os previsores.\n",
        "        y (pd.Series): Série com os alvos.\n",
        "        model (Any): Modelo usado para as previsões.\n",
        "        params (Dict[str, Union[None, int, float, str, bool, Tuple[int]]]): Dicionário com os \n",
        "        parâmetros do modelo.\n",
        "        cv (StratifiedKFold): Splitter da validação cruzada.\n",
        "\n",
        "    Returns:\n",
        "        None\n",
        "    \"\"\"\n",
        "\n",
        "    classifier = create_pipeline(model, params)\n",
        "\n",
        "    tprs = []\n",
        "    aucs = []\n",
        "    mean_fpr = np.linspace(0, 1, 100)\n",
        "\n",
        "    fig, ax = plt.subplots(figsize=(6, 6))\n",
        "    for fold, (train, test) in enumerate(cv.split(X, y)):\n",
        "        X_train = df.iloc[train, :-1]\n",
        "        y_train = df.iloc[train, -1]\n",
        "        X_test = df.iloc[test, :-1]\n",
        "        y_test = df.iloc[test, -1]\n",
        "\n",
        "        classifier.fit(X_train, y_train)\n",
        "        viz = RocCurveDisplay.from_estimator(\n",
        "            classifier,\n",
        "            X_test,\n",
        "            y_test,\n",
        "            name=f\"ROC fold {fold}\",\n",
        "            alpha=0.3,\n",
        "            lw=1,\n",
        "            ax=ax,\n",
        "            plot_chance_level=(fold == len(list(cv.split(X, y))) - 1),\n",
        "        )\n",
        "        interp_tpr = np.interp(mean_fpr, viz.fpr, viz.tpr)\n",
        "        interp_tpr[0] = 0.0\n",
        "        tprs.append(interp_tpr)\n",
        "        aucs.append(viz.roc_auc)\n",
        "\n",
        "    mean_tpr = np.mean(tprs, axis=0)\n",
        "    mean_tpr[-1] = 1.0\n",
        "    mean_auc = auc(mean_fpr, mean_tpr)\n",
        "    std_auc = np.std(aucs)\n",
        "    ax.plot(\n",
        "        mean_fpr,\n",
        "        mean_tpr,\n",
        "        color=\"b\",\n",
        "        label=r\"Mean ROC (AUC = %0.2f $\\pm$ %0.2f)\" % (mean_auc, std_auc),\n",
        "        lw=2,\n",
        "        alpha=0.8,\n",
        "    )\n",
        "\n",
        "    std_tpr = np.std(tprs, axis=0)\n",
        "    tprs_upper = np.minimum(mean_tpr + std_tpr, 1)\n",
        "    tprs_lower = np.maximum(mean_tpr - std_tpr, 0)\n",
        "    ax.fill_between(\n",
        "        mean_fpr,\n",
        "        tprs_lower,\n",
        "        tprs_upper,\n",
        "        color=\"grey\",\n",
        "        alpha=0.2,\n",
        "        label=r\"$\\pm$ 1 std. dev.\",\n",
        "    )\n",
        "\n",
        "    ax.set(\n",
        "        xlim=[-0.05, 1.05],\n",
        "        ylim=[-0.05, 1.05],\n",
        "        xlabel=\"False Positive Rate\",\n",
        "        ylabel=\"True Positive Rate\",\n",
        "        title=f\"Mean ROC curve with variability\\n(Positive label '{1}')\",\n",
        "    )\n",
        "\n",
        "    ax.axis(\"square\")\n",
        "    ax.legend(loc=\"lower right\")\n",
        "    plt.show()"
      ]
    },
    {
      "cell_type": "code",
      "execution_count": 37,
      "metadata": {
        "id": "vShXf4KCoQA_"
      },
      "outputs": [],
      "source": [
        "def get_optuna_study(objective_func: Callable, trials: int,\n",
        "                     multiple_directions: bool = True) -> optuna.Study:\n",
        "    \"\"\"Obter estudo da otimização do optuna.\n",
        "\n",
        "    Args:\n",
        "        objective (Callable): Função objetiva.\n",
        "        trials (int): Número de experimentos do estudo.\n",
        "        multiple_directions (bool): \"True\" para usar múltiplas direções e\n",
        "        \"False\" para usar apenas uma direção.\n",
        "\n",
        "    Returns:\n",
        "        optuna.Study: Estudo da otimização do optuna.\n",
        "    \"\"\"\n",
        "\n",
        "    if multiple_directions:\n",
        "        study = optuna.create_study(\n",
        "            directions=['maximize', 'maximize', 'maximize', 'maximize', 'maximize'],\n",
        "            sampler=optuna.samplers.TPESampler(\n",
        "                seed=42, multivariate=True, warn_independent_sampling=False\n",
        "            ),\n",
        "        )\n",
        "    else:\n",
        "         study = optuna.create_study(\n",
        "            direction='maximize',\n",
        "            sampler=optuna.samplers.TPESampler(\n",
        "                seed=42, multivariate=True, warn_independent_sampling=False\n",
        "            ),\n",
        "        )\n",
        "\n",
        "    study.optimize(objective_func, n_trials=trials)\n",
        "\n",
        "    return study"
      ]
    },
    {
      "cell_type": "code",
      "execution_count": 38,
      "metadata": {
        "id": "7VFT-sf1gKmx"
      },
      "outputs": [],
      "source": [
        "def get_best_trial_results(study: optuna.Study, metric_idx: int) -> \\\n",
        "    Dict[str, Union[Dict[str, Union[None, int, float, str, bool, Tuple[int]]], List[float]]]:\n",
        "    \"\"\"Obter os parâmetros e as métricas do melhor experimento do estudo do optuna.\n",
        "\n",
        "    Args:\n",
        "        study (optuna.Study): Estudo da otimização do optuna.\n",
        "        metric_idx (int): Índice da métrica principal.\n",
        "\n",
        "    Returns:\n",
        "        Dict[str, Union[Dict[str, Union[None, int, float, str, bool, Tuple[int]]], List[float]]]: \n",
        "        Tupla com os parâmetros e as métricas de desempenho do melhor experimento do estudo do optuna.\n",
        "    \"\"\"\n",
        "\n",
        "    trial_with_highest_metric = max(study.best_trials, key=lambda t: t.values[metric_idx])\n",
        "\n",
        "    params = trial_with_highest_metric.params\n",
        "    trial_acc = trial_with_highest_metric.values[0]\n",
        "    trial_precision = trial_with_highest_metric.values[1]\n",
        "    trial_recall = trial_with_highest_metric.values[2]\n",
        "    trial_f1 = trial_with_highest_metric.values[3]\n",
        "    trial_roc_auc = trial_with_highest_metric.values[4]\n",
        "\n",
        "    return {\n",
        "        'params': params,\n",
        "        'trial_metrics': [trial_acc, trial_precision, trial_recall, trial_f1, trial_roc_auc]\n",
        "    }"
      ]
    },
    {
      "cell_type": "code",
      "execution_count": 39,
      "metadata": {
        "id": "FgJ1-nShD2FV"
      },
      "outputs": [],
      "source": [
        "def build_keras_model_optuna(trial: Any, X: np.ndarray)-> Sequential:\n",
        "    \"\"\"Criar um modelo Sequencial do Keras para ser otimizado pelo optuna.\n",
        "\n",
        "    Args:\n",
        "        trial (Any): Experimento do estudo optuna.\n",
        "        X (np.ndarray): Array com os dados previsores.\n",
        "\n",
        "    Returns:\n",
        "        Sequential:  Modelo Sequencial do Keras otimizado pelo\n",
        "        optuna.\n",
        "    \"\"\"\n",
        "\n",
        "    n_input = len(X[0])\n",
        "    n_output = 1\n",
        "    min_num_hidden = 1\n",
        "    max_num_hidden = 2*n_input/3 + n_output\n",
        "    model = Sequential()\n",
        "    model.add(Input(shape=(n_input,)))\n",
        "    n_layers = trial.suggest_int('n_layers', 1, 2)\n",
        "    for i in range(1, n_layers+1):\n",
        "        num_hidden = trial.suggest_int(f'n_units_l{i}', min_num_hidden, max_num_hidden)\n",
        "        model.add(Dense(num_hidden, activation='relu'))\n",
        "        dropout = trial.suggest_float(f'dropout_l{i}', 0.0, 0.5, step=0.1)\n",
        "        model.add(Dropout(rate=dropout))\n",
        "    model.add(Dense(n_output, activation='sigmoid'))\n",
        "\n",
        "    lr = trial.suggest_float('learning_rate', 1e-05, 1e-01, log=True)\n",
        "    opt_name = trial.suggest_categorical('optimizer_name', ['adam', 'rmsprop'])\n",
        "    if opt_name == 'adam':\n",
        "        optimizer = Adam(learning_rate=lr)\n",
        "    if opt_name == 'rmsprop':\n",
        "        optimizer = RMSprop(learning_rate=lr)\n",
        "\n",
        "    model.compile(loss='binary_crossentropy',\n",
        "                  optimizer=optimizer,\n",
        "                  metrics=['accuracy'])\n",
        "\n",
        "    return model"
      ]
    },
    {
      "cell_type": "code",
      "execution_count": 40,
      "metadata": {
        "id": "1gbIB8tMD8L9"
      },
      "outputs": [],
      "source": [
        "def build_keras_model(n_input: int,\n",
        "                      n_layers: int,\n",
        "                      hidden_layers_details: Dict[int, List[Union[int, str]]],\n",
        "                      n_output: int,\n",
        "                      out_l_act_func: str,\n",
        "                      optimizer: Union[Adam, RMSprop],\n",
        "                      loss_function: str = 'binary_crossentropy',\n",
        "                      metrics: List[str] = ['accuracy']) -> Sequential:\n",
        "    \"\"\"Construir modelo Sequencial usando camadas do Tensorflow/Keras.\n",
        "\n",
        "    Args:\n",
        "        n_input (int): Quantidade de neurônios da camada de entrada.\n",
        "        n_layers (int): Quantidade de camadas ocultas.\n",
        "        hidden_layers_details (Dict[int, List[Union[int, str]]]): Dicionário com os\n",
        "        detalhes de cada camada oculta.\n",
        "        n_output (int): Quantidade de neurônios da camada de saída.\n",
        "        out_l_act_func (str): Função de ativação da camada de saída.\n",
        "        optimizer (Union[Adam, RMSprop]): Otimizador para compilar o modelo.\n",
        "        loss_function (str, optional): Função de perda para compilar o modelo.\n",
        "        Defaults to 'binary_crossentropy'.\n",
        "        metrics (List[str], optional): Lista com as métricas de desempenho para compilar\n",
        "        o modelo. Defaults to ['accuracy'].\n",
        "\n",
        "    Returns:\n",
        "        Sequential: Modelo Sequencial do Keras.\n",
        "    \"\"\"\n",
        "\n",
        "    model = Sequential()\n",
        "    model.add(Input(shape=(n_input,)))\n",
        "    for i in range(1,n_layers+1):\n",
        "        num_hidden = hidden_layers_details[i][0]\n",
        "        act_func_hidden = hidden_layers_details[i][1]\n",
        "        dropout = hidden_layers_details[i][2]\n",
        "        model.add(Dense(num_hidden, activation=act_func_hidden))\n",
        "        model.add(Dropout(dropout))\n",
        "    model.add(Dense(n_output, activation=out_l_act_func))\n",
        "    model.compile(loss=loss_function, optimizer=optimizer, metrics=metrics)\n",
        "\n",
        "    return model"
      ]
    },
    {
      "cell_type": "markdown",
      "metadata": {
        "id": "85ThZ5_3MDij"
      },
      "source": [
        "**Métricas de desempenho disponíveis**"
      ]
    },
    {
      "cell_type": "code",
      "execution_count": 41,
      "metadata": {
        "id": "ANF-PR7yX7NQ"
      },
      "outputs": [
        {
          "data": {
            "text/plain": [
              "['accuracy',\n",
              " 'adjusted_mutual_info_score',\n",
              " 'adjusted_rand_score',\n",
              " 'average_precision',\n",
              " 'balanced_accuracy',\n",
              " 'completeness_score',\n",
              " 'explained_variance',\n",
              " 'f1',\n",
              " 'f1_macro',\n",
              " 'f1_micro',\n",
              " 'f1_samples',\n",
              " 'f1_weighted',\n",
              " 'fowlkes_mallows_score',\n",
              " 'homogeneity_score',\n",
              " 'jaccard',\n",
              " 'jaccard_macro',\n",
              " 'jaccard_micro',\n",
              " 'jaccard_samples',\n",
              " 'jaccard_weighted',\n",
              " 'matthews_corrcoef',\n",
              " 'max_error',\n",
              " 'mutual_info_score',\n",
              " 'neg_brier_score',\n",
              " 'neg_log_loss',\n",
              " 'neg_mean_absolute_error',\n",
              " 'neg_mean_absolute_percentage_error',\n",
              " 'neg_mean_gamma_deviance',\n",
              " 'neg_mean_poisson_deviance',\n",
              " 'neg_mean_squared_error',\n",
              " 'neg_mean_squared_log_error',\n",
              " 'neg_median_absolute_error',\n",
              " 'neg_negative_likelihood_ratio',\n",
              " 'neg_root_mean_squared_error',\n",
              " 'neg_root_mean_squared_log_error',\n",
              " 'normalized_mutual_info_score',\n",
              " 'positive_likelihood_ratio',\n",
              " 'precision',\n",
              " 'precision_macro',\n",
              " 'precision_micro',\n",
              " 'precision_samples',\n",
              " 'precision_weighted',\n",
              " 'r2',\n",
              " 'rand_score',\n",
              " 'recall',\n",
              " 'recall_macro',\n",
              " 'recall_micro',\n",
              " 'recall_samples',\n",
              " 'recall_weighted',\n",
              " 'roc_auc',\n",
              " 'roc_auc_ovo',\n",
              " 'roc_auc_ovo_weighted',\n",
              " 'roc_auc_ovr',\n",
              " 'roc_auc_ovr_weighted',\n",
              " 'top_k_accuracy',\n",
              " 'v_measure_score']"
            ]
          },
          "execution_count": 41,
          "metadata": {},
          "output_type": "execute_result"
        }
      ],
      "source": [
        "get_scorer_names()"
      ]
    },
    {
      "cell_type": "markdown",
      "metadata": {
        "id": "pDPB23Fah2kb"
      },
      "source": [
        "# **Classificação - Modelos Comuns**"
      ]
    },
    {
      "cell_type": "markdown",
      "metadata": {
        "id": "s08a6W2Sh6Ez"
      },
      "source": [
        "## **1-NN (1-Nearest Neighbor)**"
      ]
    },
    {
      "cell_type": "code",
      "execution_count": 42,
      "metadata": {
        "id": "OKoJtLJp6uSu"
      },
      "outputs": [],
      "source": [
        "params = {\n",
        "    'n_neighbors': 1,\n",
        "    'n_jobs': -1\n",
        "}"
      ]
    },
    {
      "cell_type": "markdown",
      "metadata": {
        "id": "Lsskq3YwG2b2"
      },
      "source": [
        "### **Sem a biblioteca scikit-learn**"
      ]
    },
    {
      "cell_type": "code",
      "execution_count": 43,
      "metadata": {
        "id": "KxjlziCr-Kae"
      },
      "outputs": [],
      "source": [
        "# Transformação de variáveis categóricas\n",
        "encoder = ce.OneHotEncoder(cols=CATEGORY_FT, use_cat_names=True)\n",
        "X_ = encoder.fit_transform(X, y)\n",
        "\n",
        "# Transformação em arrays\n",
        "X_ = X_.values\n",
        "\n",
        "X_train, X_test, y_train, y_test = train_test_split(X_, y, stratify=y, test_size=0.2,\n",
        "                                                        shuffle=True, random_state=42)"
      ]
    },
    {
      "cell_type": "code",
      "execution_count": 44,
      "metadata": {
        "id": "cUQaAPkLEKHI"
      },
      "outputs": [
        {
          "name": "stdout",
          "output_type": "stream",
          "text": [
            "Acurácia: 89.74%\n"
          ]
        }
      ],
      "source": [
        "# Converter as séries de entrada em matrizes NumPy para facilitar as operações\n",
        "y_train = np.array(y_train)\n",
        "y_test = np.array(y_test)\n",
        "\n",
        "# Calcular as distâncias de todos os pontos em X_test para todos os pontos em X_train\n",
        "dists = np.linalg.norm(X_train[:, np.newaxis] - X_test, axis=2)\n",
        "\n",
        "# Encontrar o índice do valor mínimo em cada linha de dists\n",
        "min_indices = np.argmin(dists, axis=0)\n",
        "\n",
        "# Usar os índices mínimos para obter os valores correspondentes em y_train\n",
        "preds = y_train[min_indices]\n",
        "\n",
        "# Calcular a acurácia\n",
        "hits = np.sum(y_test.ravel() == preds.ravel())\n",
        "total = len(preds)\n",
        "print(f'Acurácia: {(hits / total) * 100.0:.2f}%')"
      ]
    },
    {
      "cell_type": "markdown",
      "metadata": {
        "id": "lsXPV7QLG52w"
      },
      "source": [
        "### **Com a biblioteca scikit-learn**"
      ]
    },
    {
      "cell_type": "code",
      "execution_count": 45,
      "metadata": {},
      "outputs": [],
      "source": [
        "X_train, X_test, y_train, y_test = train_test_split(X, y, stratify=y, test_size=0.2,\n",
        "                                                    shuffle=True, random_state=42)\n",
        "\n",
        "y_train = y_train.values\n",
        "y_test = y_test.values"
      ]
    },
    {
      "cell_type": "code",
      "execution_count": 46,
      "metadata": {
        "id": "WuzWONRdVzoK"
      },
      "outputs": [
        {
          "name": "stdout",
          "output_type": "stream",
          "text": [
            "Acurácia: 96.30%\n",
            "Precisão: 96.53%\n",
            "Recall: 96.03%\n",
            "F1: 96.28%\n",
            "ROC-AUC: 96.30%\n"
          ]
        }
      ],
      "source": [
        "model = create_pipeline(KNeighborsClassifier, params)\n",
        "model.fit(X_train, y_train)\n",
        "preds = model.predict(X_test)\n",
        "\n",
        "accuracy = accuracy_score(y_test, preds)\n",
        "precision = precision_score(y_test, preds)\n",
        "recall = recall_score(y_test, preds)\n",
        "f1 = f1_score(y_test, preds)\n",
        "roc_auc = roc_auc_score(y_test, preds)\n",
        "\n",
        "print(f'Acurácia: {(accuracy) * 100.0:.2f}%')\n",
        "print(f'Precisão: {(precision) * 100.0:.2f}%')\n",
        "print(f'Recall: {(recall) * 100.0:.2f}%')\n",
        "print(f'F1: {(f1) * 100.0:.2f}%')\n",
        "print(f'ROC-AUC: {(roc_auc) * 100.0:.2f}%')"
      ]
    },
    {
      "cell_type": "markdown",
      "metadata": {
        "id": "hbFEAjPBD9Nv"
      },
      "source": [
        "### **Matriz de Confusão**"
      ]
    },
    {
      "cell_type": "code",
      "execution_count": 47,
      "metadata": {
        "id": "nM70rgoL1elg"
      },
      "outputs": [
        {
          "data": {
            "image/png": "[encoded data removed]",
            "text/plain": [
              "<Figure size 288x216 with 2 Axes>"
            ]
          },
          "metadata": {
            "needs_background": "light"
          },
          "output_type": "display_data"
        },
        {
          "name": "stdout",
          "output_type": "stream",
          "text": [
            "\n"
          ]
        },
        {
          "data": {
            "image/png": "[encoded data removed]",
            "text/plain": [
              "<Figure size 288x216 with 2 Axes>"
            ]
          },
          "metadata": {
            "needs_background": "light"
          },
          "output_type": "display_data"
        },
        {
          "name": "stdout",
          "output_type": "stream",
          "text": [
            "\n"
          ]
        }
      ],
      "source": [
        "plot_confusion_matrix(y_test, preds)"
      ]
    },
    {
      "cell_type": "markdown",
      "metadata": {
        "id": "Eb5YNbm3aAAo"
      },
      "source": [
        "### **Validação Cruzada**"
      ]
    },
    {
      "cell_type": "code",
      "execution_count": 48,
      "metadata": {
        "id": "Ru7mE5oTDSZ4"
      },
      "outputs": [
        {
          "name": "stdout",
          "output_type": "stream",
          "text": [
            "Acurácias em cada fold: \n",
            "\tFold 0 --> 96.79%\n",
            "\tFold 1 --> 96.79%\n",
            "\tFold 2 --> 96.62%\n",
            "\tFold 3 --> 97.25%\n",
            "\tFold 4 --> 96.96%\n",
            "\tFold 5 --> 97.02%\n",
            "\tFold 6 --> 96.33%\n",
            "\tFold 7 --> 96.96%\n",
            "\tFold 8 --> 95.70%\n",
            "\tFold 9 --> 95.99%\n",
            "\n",
            "Acurácia Média: 96.64%\n",
            "Precisão Média: 96.60%\n",
            "Recall Médio: 96.66%\n",
            "F1 Médio: 96.63%\n",
            "ROC-AUC Médio: 96.64%\n"
          ]
        }
      ],
      "source": [
        "model = create_pipeline(KNeighborsClassifier, params)\n",
        "scores = cross_validate(model, X, y,  scoring=['accuracy', 'precision',\n",
        "                                               'recall', 'f1', 'roc_auc'],\n",
        "                        cv=cv, n_jobs=-1)\n",
        "accuracy = scores['test_accuracy']\n",
        "precision = scores['test_precision']\n",
        "recall = scores['test_recall']\n",
        "f1 = scores['test_f1']\n",
        "roc_auc = scores['test_roc_auc']\n",
        "\n",
        "print('Acurácias em cada fold: ')\n",
        "for i, score in enumerate(accuracy):\n",
        "    print(f'\\tFold {i} --> {score * 100:.2f}%')\n",
        "print(f'\\nAcurácia Média: {accuracy.mean() * 100:.2f}%')\n",
        "print(f'Precisão Média: {precision.mean() * 100:.2f}%')\n",
        "print(f'Recall Médio: {recall.mean() * 100:.2f}%')\n",
        "print(f'F1 Médio: {f1.mean() * 100:.2f}%')\n",
        "print(f'ROC-AUC Médio: {roc_auc.mean() * 100:.2f}%')"
      ]
    },
    {
      "cell_type": "markdown",
      "metadata": {
        "id": "oLJC9iMgRzgr"
      },
      "source": [
        "### **Curva ROC-AUC**"
      ]
    },
    {
      "cell_type": "code",
      "execution_count": 49,
      "metadata": {
        "id": "TB4VzO0zRoTD"
      },
      "outputs": [
        {
          "data": {
            "image/png": "[encoded data removed]",
            "text/plain": [
              "<Figure size 432x432 with 1 Axes>"
            ]
          },
          "metadata": {
            "needs_background": "light"
          },
          "output_type": "display_data"
        }
      ],
      "source": [
        "plot_roc_auc_cv_curve(X, y, KNeighborsClassifier, params, cv)"
      ]
    },
    {
      "cell_type": "markdown",
      "metadata": {
        "id": "ecwTENyq6npb"
      },
      "source": [
        "## **K-NN (K-Nearest Neighbors)**"
      ]
    },
    {
      "cell_type": "markdown",
      "metadata": {
        "id": "TDEE0x3G-e-X"
      },
      "source": [
        "### **Otimização de Hiperparâmetros com Optuna**"
      ]
    },
    {
      "cell_type": "code",
      "execution_count": 50,
      "metadata": {
        "id": "xe6HtkR3-hRX"
      },
      "outputs": [
        {
          "name": "stderr",
          "output_type": "stream",
          "text": [
            "[I 2024-02-17 09:38:20,989] A new study created in memory with name: no-name-b1387488-54ab-44e9-83c8-baaf70ff0dfa\n",
            "[I 2024-02-17 09:38:23,824] Trial 0 finished with values: [0.9621028298414869, 0.9615967670184553, 0.962340313830718, 0.9619548150529349, 0.9949089976164893] and parameters: {'n_neighbors': 13, 'weights': 'uniform', 'metric': 'euclidean', 'p': 4, 'leaf_size': 32}. \n",
            "[I 2024-02-17 09:38:24,511] Trial 1 finished with values: [0.963994933098499, 0.9636542299797352, 0.9640676289818796, 0.9638488071554814, 0.9957868050227849] and parameters: {'n_neighbors': 21, 'weights': 'distance', 'metric': 'euclidean', 'p': 2, 'leaf_size': 31}. \n",
            "[I 2024-02-17 09:38:25,054] Trial 2 finished with values: [0.9611850371967089, 0.9598351034713624, 0.962340313830718, 0.9610713282628076, 0.994757956349741] and parameters: {'n_neighbors': 15, 'weights': 'distance', 'metric': 'chebyshev', 'p': 4, 'leaf_size': 24}. \n",
            "[I 2024-02-17 09:38:25,894] Trial 3 finished with values: [0.9549931652690518, 0.9531175848892541, 0.9566959479883123, 0.9548823260125386, 0.992932552689586] and parameters: {'n_neighbors': 17, 'weights': 'uniform', 'metric': 'chebyshev', 'p': 4, 'leaf_size': 36}. \n",
            "[I 2024-02-17 09:38:26,615] Trial 4 finished with values: [0.9658867734812441, 0.964660873263367, 0.9669470178657601, 0.9657834891461539, 0.995284081923072] and parameters: {'n_neighbors': 11, 'weights': 'distance', 'metric': 'minkowski', 'p': 4, 'leaf_size': 25}. \n",
            "[I 2024-02-17 09:38:27,669] Trial 5 finished with values: [0.962160070713178, 0.9614974449758729, 0.9625701982786505, 0.9620214982736712, 0.995264070843463] and parameters: {'n_neighbors': 21, 'weights': 'distance', 'metric': 'minkowski', 'p': 4, 'leaf_size': 38}. \n",
            "[I 2024-02-17 09:38:28,566] Trial 6 finished with values: [0.9548211140611447, 0.9520711718447286, 0.9575023996012154, 0.9547620745847686, 0.9927403747272807] and parameters: {'n_neighbors': 19, 'weights': 'uniform', 'metric': 'chebyshev', 'p': 2, 'leaf_size': 37}. \n",
            "[I 2024-02-17 09:38:29,063] Trial 7 finished with values: [0.9623892970742093, 0.9607790518593344, 0.9638381422579055, 0.9622872960130946, 0.9948177171633954] and parameters: {'n_neighbors': 11, 'weights': 'distance', 'metric': 'chebyshev', 'p': 4, 'leaf_size': 24}. \n",
            "[I 2024-02-17 09:38:29,782] Trial 8 finished with values: [0.9694411950264188, 0.9716701365545338, 0.9668316779178354, 0.9692303183407811, 0.992262708775718] and parameters: {'n_neighbors': 3, 'weights': 'uniform', 'metric': 'manhattan', 'p': 1, 'leaf_size': 38}. \n",
            "[I 2024-02-17 09:38:30,850] Trial 9 finished with values: [0.9592933939696644, 0.957451415546856, 0.9609583556500667, 0.9591909190083001, 0.9939805262327462] and parameters: {'n_neighbors': 19, 'weights': 'uniform', 'metric': 'minkowski', 'p': 4, 'leaf_size': 29}. \n",
            "[I 2024-02-17 09:38:31,817] Trial 10 finished with values: [0.9634788123340605, 0.9664076212120213, 0.9600360337906275, 0.9631972076505395, 0.9956166330938008] and parameters: {'n_neighbors': 11, 'weights': 'uniform', 'metric': 'manhattan', 'p': 1, 'leaf_size': 34}. \n",
            "[I 2024-02-17 09:38:32,695] Trial 11 finished with values: [0.9694411950264188, 0.9716701365545338, 0.9668316779178354, 0.9692303183407811, 0.992262708775718] and parameters: {'n_neighbors': 3, 'weights': 'uniform', 'metric': 'manhattan', 'p': 1, 'leaf_size': 40}. \n",
            "[I 2024-02-17 09:38:33,229] Trial 12 finished with values: [0.963994933098499, 0.9636542299797352, 0.9640676289818796, 0.9638488071554814, 0.9957868050227849] and parameters: {'n_neighbors': 21, 'weights': 'distance', 'metric': 'euclidean', 'p': 1, 'leaf_size': 33}. \n",
            "[I 2024-02-17 09:38:33,719] Trial 13 finished with values: [0.9678932599037882, 0.9683269430408572, 0.9671769023136928, 0.9677357303709057, 0.9946121114112827] and parameters: {'n_neighbors': 5, 'weights': 'distance', 'metric': 'minkowski', 'p': 2, 'leaf_size': 36}. \n",
            "[I 2024-02-17 09:38:34,508] Trial 14 finished with values: [0.966345554796141, 0.9659686388802436, 0.9664872489698949, 0.9662092514223429, 0.990771070300234] and parameters: {'n_neighbors': 3, 'weights': 'uniform', 'metric': 'euclidean', 'p': 2, 'leaf_size': 29}. \n",
            "[I 2024-02-17 09:38:35,075] Trial 15 finished with values: [0.9626190820430587, 0.9632343051295054, 0.9616489370164338, 0.9624272406225225, 0.9952924347781742] and parameters: {'n_neighbors': 27, 'weights': 'distance', 'metric': 'euclidean', 'p': 3, 'leaf_size': 35}. \n",
            "[I 2024-02-17 09:38:35,846] Trial 16 finished with values: [0.9606122341683972, 0.9600954875856527, 0.9608427505528361, 0.9604569569651116, 0.9946029968463941] and parameters: {'n_neighbors': 19, 'weights': 'uniform', 'metric': 'euclidean', 'p': 1, 'leaf_size': 20}. \n",
            "[I 2024-02-17 09:38:36,424] Trial 17 finished with values: [0.957860137746116, 0.957248468504396, 0.9581937764154997, 0.9577033901984053, 0.993921806196101] and parameters: {'n_neighbors': 27, 'weights': 'distance', 'metric': 'chebyshev', 'p': 2, 'leaf_size': 27}. \n",
            "[I 2024-02-17 09:38:37,000] Trial 18 finished with values: [0.9699573486501405, 0.971682769166032, 0.9678685442772826, 0.9697655536851153, 0.9966429519228374] and parameters: {'n_neighbors': 9, 'weights': 'distance', 'metric': 'manhattan', 'p': 1, 'leaf_size': 22}. \n",
            "[I 2024-02-17 09:38:37,707] Trial 19 finished with values: [0.9670905404694935, 0.9685913271291513, 0.9652185095427234, 0.9668913445775713, 0.9955757734399189] and parameters: {'n_neighbors': 7, 'weights': 'uniform', 'metric': 'manhattan', 'p': 1, 'leaf_size': 21}. \n",
            "[I 2024-02-17 09:38:38,335] Trial 20 finished with values: [0.9692692752556452, 0.9712066405941917, 0.9669463549924963, 0.9690657561537057, 0.9967386285308353] and parameters: {'n_neighbors': 13, 'weights': 'distance', 'metric': 'manhattan', 'p': 2, 'leaf_size': 23}. \n",
            "[I 2024-02-17 09:38:38,950] Trial 21 finished with values: [0.9699573486501405, 0.971682769166032, 0.9678685442772826, 0.9697655536851153, 0.9966429519228374] and parameters: {'n_neighbors': 9, 'weights': 'distance', 'metric': 'manhattan', 'p': 2, 'leaf_size': 25}. \n",
            "[I 2024-02-17 09:38:39,565] Trial 22 finished with values: [0.9679507965090297, 0.9689702354045251, 0.9666009980219862, 0.9677724499194849, 0.9965860634177328] and parameters: {'n_neighbors': 17, 'weights': 'distance', 'metric': 'manhattan', 'p': 2, 'leaf_size': 23}. \n",
            "[I 2024-02-17 09:38:40,201] Trial 23 finished with values: [0.968122847716937, 0.9699511626648134, 0.9659104166556187, 0.9679163513097123, 0.9966621789450532] and parameters: {'n_neighbors': 15, 'weights': 'distance', 'metric': 'minkowski', 'p': 1, 'leaf_size': 27}. \n",
            "[I 2024-02-17 09:38:40,720] Trial 24 finished with values: [0.9623892970742093, 0.9607790518593344, 0.9638381422579055, 0.9622872960130946, 0.9948177171633954] and parameters: {'n_neighbors': 11, 'weights': 'distance', 'metric': 'chebyshev', 'p': 1, 'leaf_size': 21}. \n",
            "[I 2024-02-17 09:38:41,357] Trial 25 finished with values: [0.9705304802712863, 0.972169689920938, 0.9685588604943444, 0.9703474584200193, 0.995898518667734] and parameters: {'n_neighbors': 5, 'weights': 'distance', 'metric': 'manhattan', 'p': 2, 'leaf_size': 25}. \n",
            "[I 2024-02-17 09:38:42,164] Trial 26 finished with values: [0.9694411950264188, 0.9716701365545338, 0.9668316779178354, 0.9692303183407811, 0.9922065517570113] and parameters: {'n_neighbors': 3, 'weights': 'uniform', 'metric': 'manhattan', 'p': 3, 'leaf_size': 24}. \n",
            "[I 2024-02-17 09:38:42,695] Trial 27 finished with values: [0.966689460056255, 0.9659884661286174, 0.9671776977616094, 0.966566806832126, 0.991324040553] and parameters: {'n_neighbors': 3, 'weights': 'distance', 'metric': 'minkowski', 'p': 2, 'leaf_size': 28}. \n",
            "[I 2024-02-17 09:38:43,219] Trial 28 finished with values: [0.9697278922741253, 0.9720100988772554, 0.9670619600897264, 0.9695161289288583, 0.9927284316918605] and parameters: {'n_neighbors': 3, 'weights': 'distance', 'metric': 'manhattan', 'p': 3, 'leaf_size': 32}. \n",
            "[I 2024-02-17 09:38:43,708] Trial 29 finished with values: [0.9697278922741253, 0.9720100988772554, 0.9670619600897264, 0.9695161289288583, 0.9926733925529174] and parameters: {'n_neighbors': 3, 'weights': 'distance', 'metric': 'manhattan', 'p': 4, 'leaf_size': 21}. \n",
            "[I 2024-02-17 09:38:44,191] Trial 30 finished with values: [0.966574584001472, 0.9674794406017589, 0.965334512363912, 0.9663943692865706, 0.9957870301357564] and parameters: {'n_neighbors': 9, 'weights': 'distance', 'metric': 'euclidean', 'p': 2, 'leaf_size': 24}. \n",
            "[I 2024-02-17 09:38:44,663] Trial 31 finished with values: [0.9697278922741253, 0.9720100988772554, 0.9670619600897264, 0.9695161289288583, 0.9926733925529174] and parameters: {'n_neighbors': 3, 'weights': 'distance', 'metric': 'manhattan', 'p': 2, 'leaf_size': 23}. \n",
            "[I 2024-02-17 09:38:45,287] Trial 32 finished with values: [0.9699573486501405, 0.971682769166032, 0.9678685442772826, 0.9697655536851153, 0.9966429519228374] and parameters: {'n_neighbors': 9, 'weights': 'distance', 'metric': 'manhattan', 'p': 2, 'leaf_size': 25}. \n",
            "[I 2024-02-17 09:38:46,097] Trial 33 finished with values: [0.9556814686785311, 0.9551575450543839, 0.955889496375409, 0.9555051943325206, 0.9932953394549162] and parameters: {'n_neighbors': 29, 'weights': 'uniform', 'metric': 'euclidean', 'p': 3, 'leaf_size': 24}. \n",
            "[I 2024-02-17 09:38:46,996] Trial 34 finished with values: [0.9588923135564261, 0.9597341175821121, 0.9576181372730985, 0.9586661734554964, 0.9946022737309658] and parameters: {'n_neighbors': 25, 'weights': 'uniform', 'metric': 'manhattan', 'p': 3, 'leaf_size': 39}. \n",
            "[I 2024-02-17 09:38:47,486] Trial 35 finished with values: [0.9634787137562103, 0.9624666783466168, 0.9642975134298123, 0.963357326926171, 0.9930423828894238] and parameters: {'n_neighbors': 5, 'weights': 'distance', 'metric': 'chebyshev', 'p': 2, 'leaf_size': 25}. \n",
            "[I 2024-02-17 09:38:48,593] Trial 36 finished with values: [0.9599813030677428, 0.9586845861778694, 0.9610726350007688, 0.9598609761319844, 0.9943987301866576] and parameters: {'n_neighbors': 11, 'weights': 'uniform', 'metric': 'minkowski', 'p': 3, 'leaf_size': 39}. \n",
            "[I 2024-02-17 09:38:49,334] Trial 37 finished with values: [0.966345554796141, 0.9659686388802436, 0.9664872489698949, 0.9662092514223429, 0.9907758048498205] and parameters: {'n_neighbors': 3, 'weights': 'uniform', 'metric': 'euclidean', 'p': 4, 'leaf_size': 39}. \n",
            "[I 2024-02-17 09:38:49,980] Trial 38 finished with values: [0.9674922123498331, 0.9681829308028144, 0.966485923223367, 0.9673222518803787, 0.9964494290003651] and parameters: {'n_neighbors': 21, 'weights': 'distance', 'metric': 'manhattan', 'p': 4, 'leaf_size': 25}. \n",
            "[I 2024-02-17 09:38:50,732] Trial 39 finished with values: [0.9563117097342342, 0.953746833989298, 0.9587695481325534, 0.9562376804566659, 0.9932705210706889] and parameters: {'n_neighbors': 15, 'weights': 'uniform', 'metric': 'chebyshev', 'p': 3, 'leaf_size': 21}. \n",
            "[I 2024-02-17 09:38:51,328] Trial 40 finished with values: [0.9705304802712863, 0.972169689920938, 0.9685588604943444, 0.9703474584200193, 0.995898518667734] and parameters: {'n_neighbors': 5, 'weights': 'distance', 'metric': 'manhattan', 'p': 1, 'leaf_size': 26}. \n",
            "[I 2024-02-17 09:38:51,913] Trial 41 finished with values: [0.9699573486501405, 0.971682769166032, 0.9678685442772826, 0.9697655536851153, 0.9966429519228374] and parameters: {'n_neighbors': 9, 'weights': 'distance', 'metric': 'manhattan', 'p': 3, 'leaf_size': 26}. \n",
            "[I 2024-02-17 09:38:52,799] Trial 42 finished with values: [0.9614147235877079, 0.9619615154189478, 0.9604965981344094, 0.9612149030500167, 0.9948139763595059] and parameters: {'n_neighbors': 15, 'weights': 'uniform', 'metric': 'minkowski', 'p': 2, 'leaf_size': 27}. \n",
            "[I 2024-02-17 09:38:53,572] Trial 43 finished with values: [0.9573440498409612, 0.9561496569985624, 0.958309911811341, 0.9572115141925238, 0.9928143073003449] and parameters: {'n_neighbors': 7, 'weights': 'uniform', 'metric': 'chebyshev', 'p': 4, 'leaf_size': 28}. \n",
            "[I 2024-02-17 09:38:54,365] Trial 44 finished with values: [0.9580320246576062, 0.9576812897406601, 0.9580788341915334, 0.9578642001627147, 0.9936897885172771] and parameters: {'n_neighbors': 29, 'weights': 'distance', 'metric': 'chebyshev', 'p': 1, 'leaf_size': 37}. \n",
            "[I 2024-02-17 09:38:54,868] Trial 45 finished with values: [0.9650840540469494, 0.9646886879897913, 0.9652187746920291, 0.9649384401580889, 0.995943215519385] and parameters: {'n_neighbors': 15, 'weights': 'distance', 'metric': 'euclidean', 'p': 4, 'leaf_size': 30}. \n",
            "[I 2024-02-17 09:38:55,724] Trial 46 finished with values: [0.951094444152362, 0.9491105732054766, 0.9528954304168676, 0.9509788888784747, 0.9914330063182779] and parameters: {'n_neighbors': 29, 'weights': 'uniform', 'metric': 'chebyshev', 'p': 4, 'leaf_size': 33}. \n",
            "[I 2024-02-17 09:38:56,322] Trial 47 finished with values: [0.9695560382219185, 0.9714520166484946, 0.9672926399855758, 0.9693568236359293, 0.9966663977047805] and parameters: {'n_neighbors': 11, 'weights': 'distance', 'metric': 'manhattan', 'p': 2, 'leaf_size': 32}. \n",
            "[I 2024-02-17 09:38:57,094] Trial 48 finished with values: [0.9657720945821614, 0.9660455533262523, 0.965219437565293, 0.9656157637466982, 0.9940475194362313] and parameters: {'n_neighbors': 5, 'weights': 'distance', 'metric': 'minkowski', 'p': 4, 'leaf_size': 38}. \n",
            "[I 2024-02-17 09:38:57,677] Trial 49 finished with values: [0.9692692752556452, 0.9712066405941917, 0.9669463549924963, 0.9690657561537057, 0.9967388915613677] and parameters: {'n_neighbors': 13, 'weights': 'distance', 'metric': 'manhattan', 'p': 2, 'leaf_size': 32}. \n"
          ]
        }
      ],
      "source": [
        "def objective(trial):\n",
        "    params = {\n",
        "        'n_neighbors': trial.suggest_int('n_neighbors', 3, 29, 2),\n",
        "        'weights': trial.suggest_categorical('weights', ['uniform', 'distance']),\n",
        "        'metric': trial.suggest_categorical('metric', ['euclidean', 'manhattan', 'minkowski', 'chebyshev']),\n",
        "        'p': trial.suggest_int('p', 1, 4),\n",
        "        'leaf_size': trial.suggest_int('leaf_size', 20, 40),\n",
        "        'n_jobs': -1,\n",
        "    }\n",
        "\n",
        "    knn = create_pipeline(KNeighborsClassifier, params)\n",
        "    scores = cross_validate(knn, X, y, scoring=['accuracy', 'precision', 'recall', 'f1', 'roc_auc'], cv=cv, n_jobs=-1)\n",
        "    accuracy = scores['test_accuracy'].mean()\n",
        "    precision = scores['test_precision'].mean()\n",
        "    recall = scores['test_recall'].mean()\n",
        "    f1 = scores['test_f1'].mean()\n",
        "    roc_auc = scores['test_roc_auc'].mean()\n",
        "\n",
        "    return accuracy, precision, recall, f1, roc_auc\n",
        "\n",
        "study = get_optuna_study(objective, 50)"
      ]
    },
    {
      "cell_type": "code",
      "execution_count": 51,
      "metadata": {
        "id": "cVItaPb_jZK6"
      },
      "outputs": [
        {
          "name": "stdout",
          "output_type": "stream",
          "text": [
            "Principal métrica: Acurácia\n",
            "\n",
            "Melhores parâmetros: \n",
            "\tn_neighbors=5\n",
            "\tweights=distance\n",
            "\tmetric=manhattan\n",
            "\tp=2\n",
            "\tleaf_size=25\n",
            "\n",
            "Melhores métricas:\n",
            "\tAcurácia: 97.05%\n",
            "\tPrecisão: 97.22%\n",
            "\tRecall: 96.86%\n",
            "\tF1: 97.03%\n",
            "\tROC-AUC: 99.59%\n"
          ]
        }
      ],
      "source": [
        "knn_results = get_best_trial_results(study, 0)\n",
        "best_params_knn, metrics_knn = knn_results['params'], knn_results['trial_metrics']\n",
        "print_best_results(best_params_knn, metrics_knn)"
      ]
    },
    {
      "cell_type": "markdown",
      "metadata": {
        "id": "4BJNkTDkiLje"
      },
      "source": [
        "### **Matriz de Confusão**"
      ]
    },
    {
      "cell_type": "code",
      "execution_count": 52,
      "metadata": {
        "id": "mbiA7fdeE2cm"
      },
      "outputs": [
        {
          "data": {
            "image/png": "[encoded data removed]",
            "text/plain": [
              "<Figure size 288x216 with 2 Axes>"
            ]
          },
          "metadata": {
            "needs_background": "light"
          },
          "output_type": "display_data"
        },
        {
          "name": "stdout",
          "output_type": "stream",
          "text": [
            "\n"
          ]
        },
        {
          "data": {
            "image/png": "[encoded data removed]",
            "text/plain": [
              "<Figure size 288x216 with 2 Axes>"
            ]
          },
          "metadata": {
            "needs_background": "light"
          },
          "output_type": "display_data"
        },
        {
          "name": "stdout",
          "output_type": "stream",
          "text": [
            "\n"
          ]
        }
      ],
      "source": [
        "knn = create_pipeline(KNeighborsClassifier, best_params_knn)\n",
        "knn.fit(X_train, y_train)\n",
        "preds = knn.predict(X_test)\n",
        "plot_confusion_matrix(y_test, preds)"
      ]
    },
    {
      "cell_type": "markdown",
      "metadata": {
        "id": "PAngtUUHTOe1"
      },
      "source": [
        "### **Curva ROC-AUC**"
      ]
    },
    {
      "cell_type": "code",
      "execution_count": 53,
      "metadata": {
        "id": "IcSaz39sTRDz"
      },
      "outputs": [
        {
          "data": {
            "image/png": "[encoded data removed]",
            "text/plain": [
              "<Figure size 432x432 with 1 Axes>"
            ]
          },
          "metadata": {
            "needs_background": "light"
          },
          "output_type": "display_data"
        }
      ],
      "source": [
        "plot_roc_auc_cv_curve(X, y, KNeighborsClassifier, best_params_knn, cv)"
      ]
    },
    {
      "cell_type": "markdown",
      "metadata": {
        "id": "VnnMethuGmzL"
      },
      "source": [
        "## **Naive Bayes**"
      ]
    },
    {
      "cell_type": "code",
      "execution_count": 54,
      "metadata": {
        "id": "C_F-0g64PLnc"
      },
      "outputs": [],
      "source": [
        "SCORING = ['accuracy', 'precision', 'recall', 'f1', 'roc_auc']"
      ]
    },
    {
      "cell_type": "markdown",
      "metadata": {
        "id": "qLqT_WuwB2Us"
      },
      "source": [
        "### **Gaussian**\n",
        "\n",
        "Trabalha melhor com dados reais (float)."
      ]
    },
    {
      "cell_type": "markdown",
      "metadata": {
        "id": "LSfOTWNSGkCt"
      },
      "source": [
        "#### **GridSearchCV**"
      ]
    },
    {
      "cell_type": "code",
      "execution_count": 55,
      "metadata": {
        "id": "zy9poAMGGkC5"
      },
      "outputs": [
        {
          "data": {
            "text/html": [
              "<style>#sk-container-id-1 {\n",
              "  /* Definition of color scheme common for light and dark mode */\n",
              "  --sklearn-color-text: black;\n",
              "  --sklearn-color-line: gray;\n",
              "  /* Definition of color scheme for unfitted estimators */\n",
              "  --sklearn-color-unfitted-level-0: #fff5e6;\n",
              "  --sklearn-color-unfitted-level-1: #f6e4d2;\n",
              "  --sklearn-color-unfitted-level-2: #ffe0b3;\n",
              "  --sklearn-color-unfitted-level-3: chocolate;\n",
              "  /* Definition of color scheme for fitted estimators */\n",
              "  --sklearn-color-fitted-level-0: #f0f8ff;\n",
              "  --sklearn-color-fitted-level-1: #d4ebff;\n",
              "  --sklearn-color-fitted-level-2: #b3dbfd;\n",
              "  --sklearn-color-fitted-level-3: cornflowerblue;\n",
              "\n",
              "  /* Specific color for light theme */\n",
              "  --sklearn-color-text-on-default-background: var(--sg-text-color, var(--theme-code-foreground, var(--jp-content-font-color1, black)));\n",
              "  --sklearn-color-background: var(--sg-background-color, var(--theme-background, var(--jp-layout-color0, white)));\n",
              "  --sklearn-color-border-box: var(--sg-text-color, var(--theme-code-foreground, var(--jp-content-font-color1, black)));\n",
              "  --sklearn-color-icon: #696969;\n",
              "\n",
              "  @media (prefers-color-scheme: dark) {\n",
              "    /* Redefinition of color scheme for dark theme */\n",
              "    --sklearn-color-text-on-default-background: var(--sg-text-color, var(--theme-code-foreground, var(--jp-content-font-color1, white)));\n",
              "    --sklearn-color-background: var(--sg-background-color, var(--theme-background, var(--jp-layout-color0, #111)));\n",
              "    --sklearn-color-border-box: var(--sg-text-color, var(--theme-code-foreground, var(--jp-content-font-color1, white)));\n",
              "    --sklearn-color-icon: #878787;\n",
              "  }\n",
              "}\n",
              "\n",
              "#sk-container-id-1 {\n",
              "  color: var(--sklearn-color-text);\n",
              "}\n",
              "\n",
              "#sk-container-id-1 pre {\n",
              "  padding: 0;\n",
              "}\n",
              "\n",
              "#sk-container-id-1 input.sk-hidden--visually {\n",
              "  border: 0;\n",
              "  clip: rect(1px 1px 1px 1px);\n",
              "  clip: rect(1px, 1px, 1px, 1px);\n",
              "  height: 1px;\n",
              "  margin: -1px;\n",
              "  overflow: hidden;\n",
              "  padding: 0;\n",
              "  position: absolute;\n",
              "  width: 1px;\n",
              "}\n",
              "\n",
              "#sk-container-id-1 div.sk-dashed-wrapped {\n",
              "  border: 1px dashed var(--sklearn-color-line);\n",
              "  margin: 0 0.4em 0.5em 0.4em;\n",
              "  box-sizing: border-box;\n",
              "  padding-bottom: 0.4em;\n",
              "  background-color: var(--sklearn-color-background);\n",
              "}\n",
              "\n",
              "#sk-container-id-1 div.sk-container {\n",
              "  /* jupyter's `normalize.less` sets `[hidden] { display: none; }`\n",
              "     but bootstrap.min.css set `[hidden] { display: none !important; }`\n",
              "     so we also need the `!important` here to be able to override the\n",
              "     default hidden behavior on the sphinx rendered scikit-learn.org.\n",
              "     See: https://github.com/scikit-learn/scikit-learn/issues/21755 */\n",
              "  display: inline-block !important;\n",
              "  position: relative;\n",
              "}\n",
              "\n",
              "#sk-container-id-1 div.sk-text-repr-fallback {\n",
              "  display: none;\n",
              "}\n",
              "\n",
              "div.sk-parallel-item,\n",
              "div.sk-serial,\n",
              "div.sk-item {\n",
              "  /* draw centered vertical line to link estimators */\n",
              "  background-image: linear-gradient(var(--sklearn-color-text-on-default-background), var(--sklearn-color-text-on-default-background));\n",
              "  background-size: 2px 100%;\n",
              "  background-repeat: no-repeat;\n",
              "  background-position: center center;\n",
              "}\n",
              "\n",
              "/* Parallel-specific style estimator block */\n",
              "\n",
              "#sk-container-id-1 div.sk-parallel-item::after {\n",
              "  content: \"\";\n",
              "  width: 100%;\n",
              "  border-bottom: 2px solid var(--sklearn-color-text-on-default-background);\n",
              "  flex-grow: 1;\n",
              "}\n",
              "\n",
              "#sk-container-id-1 div.sk-parallel {\n",
              "  display: flex;\n",
              "  align-items: stretch;\n",
              "  justify-content: center;\n",
              "  background-color: var(--sklearn-color-background);\n",
              "  position: relative;\n",
              "}\n",
              "\n",
              "#sk-container-id-1 div.sk-parallel-item {\n",
              "  display: flex;\n",
              "  flex-direction: column;\n",
              "}\n",
              "\n",
              "#sk-container-id-1 div.sk-parallel-item:first-child::after {\n",
              "  align-self: flex-end;\n",
              "  width: 50%;\n",
              "}\n",
              "\n",
              "#sk-container-id-1 div.sk-parallel-item:last-child::after {\n",
              "  align-self: flex-start;\n",
              "  width: 50%;\n",
              "}\n",
              "\n",
              "#sk-container-id-1 div.sk-parallel-item:only-child::after {\n",
              "  width: 0;\n",
              "}\n",
              "\n",
              "/* Serial-specific style estimator block */\n",
              "\n",
              "#sk-container-id-1 div.sk-serial {\n",
              "  display: flex;\n",
              "  flex-direction: column;\n",
              "  align-items: center;\n",
              "  background-color: var(--sklearn-color-background);\n",
              "  padding-right: 1em;\n",
              "  padding-left: 1em;\n",
              "}\n",
              "\n",
              "\n",
              "/* Toggleable style: style used for estimator/Pipeline/ColumnTransformer box that is\n",
              "clickable and can be expanded/collapsed.\n",
              "- Pipeline and ColumnTransformer use this feature and define the default style\n",
              "- Estimators will overwrite some part of the style using the `sk-estimator` class\n",
              "*/\n",
              "\n",
              "/* Pipeline and ColumnTransformer style (default) */\n",
              "\n",
              "#sk-container-id-1 div.sk-toggleable {\n",
              "  /* Default theme specific background. It is overwritten whether we have a\n",
              "  specific estimator or a Pipeline/ColumnTransformer */\n",
              "  background-color: var(--sklearn-color-background);\n",
              "}\n",
              "\n",
              "/* Toggleable label */\n",
              "#sk-container-id-1 label.sk-toggleable__label {\n",
              "  cursor: pointer;\n",
              "  display: block;\n",
              "  width: 100%;\n",
              "  margin-bottom: 0;\n",
              "  padding: 0.5em;\n",
              "  box-sizing: border-box;\n",
              "  text-align: center;\n",
              "}\n",
              "\n",
              "#sk-container-id-1 label.sk-toggleable__label-arrow:before {\n",
              "  /* Arrow on the left of the label */\n",
              "  content: \"▸\";\n",
              "  float: left;\n",
              "  margin-right: 0.25em;\n",
              "  color: var(--sklearn-color-icon);\n",
              "}\n",
              "\n",
              "#sk-container-id-1 label.sk-toggleable__label-arrow:hover:before {\n",
              "  color: var(--sklearn-color-text);\n",
              "}\n",
              "\n",
              "/* Toggleable content - dropdown */\n",
              "\n",
              "#sk-container-id-1 div.sk-toggleable__content {\n",
              "  max-height: 0;\n",
              "  max-width: 0;\n",
              "  overflow: hidden;\n",
              "  text-align: left;\n",
              "  /* unfitted */\n",
              "  background-color: var(--sklearn-color-unfitted-level-0);\n",
              "}\n",
              "\n",
              "#sk-container-id-1 div.sk-toggleable__content.fitted {\n",
              "  /* fitted */\n",
              "  background-color: var(--sklearn-color-fitted-level-0);\n",
              "}\n",
              "\n",
              "#sk-container-id-1 div.sk-toggleable__content pre {\n",
              "  margin: 0.2em;\n",
              "  border-radius: 0.25em;\n",
              "  color: var(--sklearn-color-text);\n",
              "  /* unfitted */\n",
              "  background-color: var(--sklearn-color-unfitted-level-0);\n",
              "}\n",
              "\n",
              "#sk-container-id-1 div.sk-toggleable__content.fitted pre {\n",
              "  /* unfitted */\n",
              "  background-color: var(--sklearn-color-fitted-level-0);\n",
              "}\n",
              "\n",
              "#sk-container-id-1 input.sk-toggleable__control:checked~div.sk-toggleable__content {\n",
              "  /* Expand drop-down */\n",
              "  max-height: 200px;\n",
              "  max-width: 100%;\n",
              "  overflow: auto;\n",
              "}\n",
              "\n",
              "#sk-container-id-1 input.sk-toggleable__control:checked~label.sk-toggleable__label-arrow:before {\n",
              "  content: \"▾\";\n",
              "}\n",
              "\n",
              "/* Pipeline/ColumnTransformer-specific style */\n",
              "\n",
              "#sk-container-id-1 div.sk-label input.sk-toggleable__control:checked~label.sk-toggleable__label {\n",
              "  color: var(--sklearn-color-text);\n",
              "  background-color: var(--sklearn-color-unfitted-level-2);\n",
              "}\n",
              "\n",
              "#sk-container-id-1 div.sk-label.fitted input.sk-toggleable__control:checked~label.sk-toggleable__label {\n",
              "  background-color: var(--sklearn-color-fitted-level-2);\n",
              "}\n",
              "\n",
              "/* Estimator-specific style */\n",
              "\n",
              "/* Colorize estimator box */\n",
              "#sk-container-id-1 div.sk-estimator input.sk-toggleable__control:checked~label.sk-toggleable__label {\n",
              "  /* unfitted */\n",
              "  background-color: var(--sklearn-color-unfitted-level-2);\n",
              "}\n",
              "\n",
              "#sk-container-id-1 div.sk-estimator.fitted input.sk-toggleable__control:checked~label.sk-toggleable__label {\n",
              "  /* fitted */\n",
              "  background-color: var(--sklearn-color-fitted-level-2);\n",
              "}\n",
              "\n",
              "#sk-container-id-1 div.sk-label label.sk-toggleable__label,\n",
              "#sk-container-id-1 div.sk-label label {\n",
              "  /* The background is the default theme color */\n",
              "  color: var(--sklearn-color-text-on-default-background);\n",
              "}\n",
              "\n",
              "/* On hover, darken the color of the background */\n",
              "#sk-container-id-1 div.sk-label:hover label.sk-toggleable__label {\n",
              "  color: var(--sklearn-color-text);\n",
              "  background-color: var(--sklearn-color-unfitted-level-2);\n",
              "}\n",
              "\n",
              "/* Label box, darken color on hover, fitted */\n",
              "#sk-container-id-1 div.sk-label.fitted:hover label.sk-toggleable__label.fitted {\n",
              "  color: var(--sklearn-color-text);\n",
              "  background-color: var(--sklearn-color-fitted-level-2);\n",
              "}\n",
              "\n",
              "/* Estimator label */\n",
              "\n",
              "#sk-container-id-1 div.sk-label label {\n",
              "  font-family: monospace;\n",
              "  font-weight: bold;\n",
              "  display: inline-block;\n",
              "  line-height: 1.2em;\n",
              "}\n",
              "\n",
              "#sk-container-id-1 div.sk-label-container {\n",
              "  text-align: center;\n",
              "}\n",
              "\n",
              "/* Estimator-specific */\n",
              "#sk-container-id-1 div.sk-estimator {\n",
              "  font-family: monospace;\n",
              "  border: 1px dotted var(--sklearn-color-border-box);\n",
              "  border-radius: 0.25em;\n",
              "  box-sizing: border-box;\n",
              "  margin-bottom: 0.5em;\n",
              "  /* unfitted */\n",
              "  background-color: var(--sklearn-color-unfitted-level-0);\n",
              "}\n",
              "\n",
              "#sk-container-id-1 div.sk-estimator.fitted {\n",
              "  /* fitted */\n",
              "  background-color: var(--sklearn-color-fitted-level-0);\n",
              "}\n",
              "\n",
              "/* on hover */\n",
              "#sk-container-id-1 div.sk-estimator:hover {\n",
              "  /* unfitted */\n",
              "  background-color: var(--sklearn-color-unfitted-level-2);\n",
              "}\n",
              "\n",
              "#sk-container-id-1 div.sk-estimator.fitted:hover {\n",
              "  /* fitted */\n",
              "  background-color: var(--sklearn-color-fitted-level-2);\n",
              "}\n",
              "\n",
              "/* Specification for estimator info (e.g. \"i\" and \"?\") */\n",
              "\n",
              "/* Common style for \"i\" and \"?\" */\n",
              "\n",
              ".sk-estimator-doc-link,\n",
              "a:link.sk-estimator-doc-link,\n",
              "a:visited.sk-estimator-doc-link {\n",
              "  float: right;\n",
              "  font-size: smaller;\n",
              "  line-height: 1em;\n",
              "  font-family: monospace;\n",
              "  background-color: var(--sklearn-color-background);\n",
              "  border-radius: 1em;\n",
              "  height: 1em;\n",
              "  width: 1em;\n",
              "  text-decoration: none !important;\n",
              "  margin-left: 1ex;\n",
              "  /* unfitted */\n",
              "  border: var(--sklearn-color-unfitted-level-1) 1pt solid;\n",
              "  color: var(--sklearn-color-unfitted-level-1);\n",
              "}\n",
              "\n",
              ".sk-estimator-doc-link.fitted,\n",
              "a:link.sk-estimator-doc-link.fitted,\n",
              "a:visited.sk-estimator-doc-link.fitted {\n",
              "  /* fitted */\n",
              "  border: var(--sklearn-color-fitted-level-1) 1pt solid;\n",
              "  color: var(--sklearn-color-fitted-level-1);\n",
              "}\n",
              "\n",
              "/* On hover */\n",
              "div.sk-estimator:hover .sk-estimator-doc-link:hover,\n",
              ".sk-estimator-doc-link:hover,\n",
              "div.sk-label-container:hover .sk-estimator-doc-link:hover,\n",
              ".sk-estimator-doc-link:hover {\n",
              "  /* unfitted */\n",
              "  background-color: var(--sklearn-color-unfitted-level-3);\n",
              "  color: var(--sklearn-color-background);\n",
              "  text-decoration: none;\n",
              "}\n",
              "\n",
              "div.sk-estimator.fitted:hover .sk-estimator-doc-link.fitted:hover,\n",
              ".sk-estimator-doc-link.fitted:hover,\n",
              "div.sk-label-container:hover .sk-estimator-doc-link.fitted:hover,\n",
              ".sk-estimator-doc-link.fitted:hover {\n",
              "  /* fitted */\n",
              "  background-color: var(--sklearn-color-fitted-level-3);\n",
              "  color: var(--sklearn-color-background);\n",
              "  text-decoration: none;\n",
              "}\n",
              "\n",
              "/* Span, style for the box shown on hovering the info icon */\n",
              ".sk-estimator-doc-link span {\n",
              "  display: none;\n",
              "  z-index: 9999;\n",
              "  position: relative;\n",
              "  font-weight: normal;\n",
              "  right: .2ex;\n",
              "  padding: .5ex;\n",
              "  margin: .5ex;\n",
              "  width: min-content;\n",
              "  min-width: 20ex;\n",
              "  max-width: 50ex;\n",
              "  color: var(--sklearn-color-text);\n",
              "  box-shadow: 2pt 2pt 4pt #999;\n",
              "  /* unfitted */\n",
              "  background: var(--sklearn-color-unfitted-level-0);\n",
              "  border: .5pt solid var(--sklearn-color-unfitted-level-3);\n",
              "}\n",
              "\n",
              ".sk-estimator-doc-link.fitted span {\n",
              "  /* fitted */\n",
              "  background: var(--sklearn-color-fitted-level-0);\n",
              "  border: var(--sklearn-color-fitted-level-3);\n",
              "}\n",
              "\n",
              ".sk-estimator-doc-link:hover span {\n",
              "  display: block;\n",
              "}\n",
              "\n",
              "/* \"?\"-specific style due to the `<a>` HTML tag */\n",
              "\n",
              "#sk-container-id-1 a.estimator_doc_link {\n",
              "  float: right;\n",
              "  font-size: 1rem;\n",
              "  line-height: 1em;\n",
              "  font-family: monospace;\n",
              "  background-color: var(--sklearn-color-background);\n",
              "  border-radius: 1rem;\n",
              "  height: 1rem;\n",
              "  width: 1rem;\n",
              "  text-decoration: none;\n",
              "  /* unfitted */\n",
              "  color: var(--sklearn-color-unfitted-level-1);\n",
              "  border: var(--sklearn-color-unfitted-level-1) 1pt solid;\n",
              "}\n",
              "\n",
              "#sk-container-id-1 a.estimator_doc_link.fitted {\n",
              "  /* fitted */\n",
              "  border: var(--sklearn-color-fitted-level-1) 1pt solid;\n",
              "  color: var(--sklearn-color-fitted-level-1);\n",
              "}\n",
              "\n",
              "/* On hover */\n",
              "#sk-container-id-1 a.estimator_doc_link:hover {\n",
              "  /* unfitted */\n",
              "  background-color: var(--sklearn-color-unfitted-level-3);\n",
              "  color: var(--sklearn-color-background);\n",
              "  text-decoration: none;\n",
              "}\n",
              "\n",
              "#sk-container-id-1 a.estimator_doc_link.fitted:hover {\n",
              "  /* fitted */\n",
              "  background-color: var(--sklearn-color-fitted-level-3);\n",
              "}\n",
              "</style><div id=\"sk-container-id-1\" class=\"sk-top-container\"><div class=\"sk-text-repr-fallback\"><pre>GridSearchCV(cv=StratifiedKFold(n_splits=10, random_state=42, shuffle=True),\n",
              "             estimator=Pipeline(steps=[(&#x27;preprocess&#x27;,\n",
              "                                        ColumnTransformer(remainder=&#x27;passthrough&#x27;,\n",
              "                                                          transformers=[(&#x27;cat&#x27;,\n",
              "                                                                         OneHotEncoder(cols=[&#x27;FUEL&#x27;],\n",
              "                                                                                       use_cat_names=True),\n",
              "                                                                         [&#x27;FUEL&#x27;]),\n",
              "                                                                        (&#x27;num&#x27;,\n",
              "                                                                         Pipeline(steps=[(&#x27;minmaxscaler&#x27;,\n",
              "                                                                                          MinMaxScaler())]),\n",
              "                                                                         [&#x27;SIZE&#x27;,\n",
              "                                                                          &#x27;DISTANCE&#x27;,\n",
              "                                                                          &#x27;DESIBEL&#x27;,\n",
              "                                                                          &#x27;AIRFLOW&#x27;,\n",
              "                                                                          &#x27;FREQUENCY&#x27;])],\n",
              "                                                          verb...\n",
              "       5.33669923e-08, 4.32876128e-08, 3.51119173e-08, 2.84803587e-08,\n",
              "       2.31012970e-08, 1.87381742e-08, 1.51991108e-08, 1.23284674e-08,\n",
              "       1.00000000e-08, 8.11130831e-09, 6.57933225e-09, 5.33669923e-09,\n",
              "       4.32876128e-09, 3.51119173e-09, 2.84803587e-09, 2.31012970e-09,\n",
              "       1.87381742e-09, 1.51991108e-09, 1.23284674e-09, 1.00000000e-09])},\n",
              "             refit=False,\n",
              "             scoring=[&#x27;accuracy&#x27;, &#x27;precision&#x27;, &#x27;recall&#x27;, &#x27;f1&#x27;, &#x27;roc_auc&#x27;])</pre><b>In a Jupyter environment, please rerun this cell to show the HTML representation or trust the notebook. <br />On GitHub, the HTML representation is unable to render, please try loading this page with nbviewer.org.</b></div><div class=\"sk-container\" hidden><div class=\"sk-item sk-dashed-wrapped\"><div class=\"sk-label-container\"><div class=\"sk-label fitted sk-toggleable\"><input class=\"sk-toggleable__control sk-hidden--visually\" id=\"sk-estimator-id-1\" type=\"checkbox\" ><label for=\"sk-estimator-id-1\" class=\"sk-toggleable__label fitted sk-toggleable__label-arrow fitted\">&nbsp;&nbsp;GridSearchCV<a class=\"sk-estimator-doc-link fitted\" rel=\"noreferrer\" target=\"_blank\" href=\"https://scikit-learn.org/1.4/modules/generated/sklearn.model_selection.GridSearchCV.html\">?<span>Documentation for GridSearchCV</span></a><span class=\"sk-estimator-doc-link fitted\">i<span>Fitted</span></span></label><div class=\"sk-toggleable__content fitted\"><pre>GridSearchCV(cv=StratifiedKFold(n_splits=10, random_state=42, shuffle=True),\n",
              "             estimator=Pipeline(steps=[(&#x27;preprocess&#x27;,\n",
              "                                        ColumnTransformer(remainder=&#x27;passthrough&#x27;,\n",
              "                                                          transformers=[(&#x27;cat&#x27;,\n",
              "                                                                         OneHotEncoder(cols=[&#x27;FUEL&#x27;],\n",
              "                                                                                       use_cat_names=True),\n",
              "                                                                         [&#x27;FUEL&#x27;]),\n",
              "                                                                        (&#x27;num&#x27;,\n",
              "                                                                         Pipeline(steps=[(&#x27;minmaxscaler&#x27;,\n",
              "                                                                                          MinMaxScaler())]),\n",
              "                                                                         [&#x27;SIZE&#x27;,\n",
              "                                                                          &#x27;DISTANCE&#x27;,\n",
              "                                                                          &#x27;DESIBEL&#x27;,\n",
              "                                                                          &#x27;AIRFLOW&#x27;,\n",
              "                                                                          &#x27;FREQUENCY&#x27;])],\n",
              "                                                          verb...\n",
              "       5.33669923e-08, 4.32876128e-08, 3.51119173e-08, 2.84803587e-08,\n",
              "       2.31012970e-08, 1.87381742e-08, 1.51991108e-08, 1.23284674e-08,\n",
              "       1.00000000e-08, 8.11130831e-09, 6.57933225e-09, 5.33669923e-09,\n",
              "       4.32876128e-09, 3.51119173e-09, 2.84803587e-09, 2.31012970e-09,\n",
              "       1.87381742e-09, 1.51991108e-09, 1.23284674e-09, 1.00000000e-09])},\n",
              "             refit=False,\n",
              "             scoring=[&#x27;accuracy&#x27;, &#x27;precision&#x27;, &#x27;recall&#x27;, &#x27;f1&#x27;, &#x27;roc_auc&#x27;])</pre></div> </div></div><div class=\"sk-parallel\"><div class=\"sk-parallel-item\"><div class=\"sk-item\"><div class=\"sk-label-container\"><div class=\"sk-label fitted sk-toggleable\"><input class=\"sk-toggleable__control sk-hidden--visually\" id=\"sk-estimator-id-2\" type=\"checkbox\" ><label for=\"sk-estimator-id-2\" class=\"sk-toggleable__label fitted sk-toggleable__label-arrow fitted\">estimator: Pipeline</label><div class=\"sk-toggleable__content fitted\"><pre>Pipeline(steps=[(&#x27;preprocess&#x27;,\n",
              "                 ColumnTransformer(remainder=&#x27;passthrough&#x27;,\n",
              "                                   transformers=[(&#x27;cat&#x27;,\n",
              "                                                  OneHotEncoder(cols=[&#x27;FUEL&#x27;],\n",
              "                                                                use_cat_names=True),\n",
              "                                                  [&#x27;FUEL&#x27;]),\n",
              "                                                 (&#x27;num&#x27;,\n",
              "                                                  Pipeline(steps=[(&#x27;minmaxscaler&#x27;,\n",
              "                                                                   MinMaxScaler())]),\n",
              "                                                  [&#x27;SIZE&#x27;, &#x27;DISTANCE&#x27;,\n",
              "                                                   &#x27;DESIBEL&#x27;, &#x27;AIRFLOW&#x27;,\n",
              "                                                   &#x27;FREQUENCY&#x27;])],\n",
              "                                   verbose_feature_names_out=False)),\n",
              "                (&#x27;classifier&#x27;, GaussianNB())])</pre></div> </div></div><div class=\"sk-serial\"><div class=\"sk-item\"><div class=\"sk-serial\"><div class=\"sk-item sk-dashed-wrapped\"><div class=\"sk-label-container\"><div class=\"sk-label fitted sk-toggleable\"><input class=\"sk-toggleable__control sk-hidden--visually\" id=\"sk-estimator-id-3\" type=\"checkbox\" ><label for=\"sk-estimator-id-3\" class=\"sk-toggleable__label fitted sk-toggleable__label-arrow fitted\">&nbsp;preprocess: ColumnTransformer<a class=\"sk-estimator-doc-link fitted\" rel=\"noreferrer\" target=\"_blank\" href=\"https://scikit-learn.org/1.4/modules/generated/sklearn.compose.ColumnTransformer.html\">?<span>Documentation for preprocess: ColumnTransformer</span></a></label><div class=\"sk-toggleable__content fitted\"><pre>ColumnTransformer(remainder=&#x27;passthrough&#x27;,\n",
              "                  transformers=[(&#x27;cat&#x27;,\n",
              "                                 OneHotEncoder(cols=[&#x27;FUEL&#x27;],\n",
              "                                               use_cat_names=True),\n",
              "                                 [&#x27;FUEL&#x27;]),\n",
              "                                (&#x27;num&#x27;,\n",
              "                                 Pipeline(steps=[(&#x27;minmaxscaler&#x27;,\n",
              "                                                  MinMaxScaler())]),\n",
              "                                 [&#x27;SIZE&#x27;, &#x27;DISTANCE&#x27;, &#x27;DESIBEL&#x27;, &#x27;AIRFLOW&#x27;,\n",
              "                                  &#x27;FREQUENCY&#x27;])],\n",
              "                  verbose_feature_names_out=False)</pre></div> </div></div><div class=\"sk-parallel\"><div class=\"sk-parallel-item\"><div class=\"sk-item\"><div class=\"sk-label-container\"><div class=\"sk-label fitted sk-toggleable\"><input class=\"sk-toggleable__control sk-hidden--visually\" id=\"sk-estimator-id-4\" type=\"checkbox\" ><label for=\"sk-estimator-id-4\" class=\"sk-toggleable__label fitted sk-toggleable__label-arrow fitted\">cat</label><div class=\"sk-toggleable__content fitted\"><pre>[&#x27;FUEL&#x27;]</pre></div> </div></div><div class=\"sk-serial\"><div class=\"sk-item\"><div class=\"sk-estimator fitted sk-toggleable\"><input class=\"sk-toggleable__control sk-hidden--visually\" id=\"sk-estimator-id-5\" type=\"checkbox\" ><label for=\"sk-estimator-id-5\" class=\"sk-toggleable__label fitted sk-toggleable__label-arrow fitted\">OneHotEncoder</label><div class=\"sk-toggleable__content fitted\"><pre>OneHotEncoder(cols=[&#x27;FUEL&#x27;], use_cat_names=True)</pre></div> </div></div></div></div></div><div class=\"sk-parallel-item\"><div class=\"sk-item\"><div class=\"sk-label-container\"><div class=\"sk-label fitted sk-toggleable\"><input class=\"sk-toggleable__control sk-hidden--visually\" id=\"sk-estimator-id-6\" type=\"checkbox\" ><label for=\"sk-estimator-id-6\" class=\"sk-toggleable__label fitted sk-toggleable__label-arrow fitted\">num</label><div class=\"sk-toggleable__content fitted\"><pre>[&#x27;SIZE&#x27;, &#x27;DISTANCE&#x27;, &#x27;DESIBEL&#x27;, &#x27;AIRFLOW&#x27;, &#x27;FREQUENCY&#x27;]</pre></div> </div></div><div class=\"sk-serial\"><div class=\"sk-item\"><div class=\"sk-serial\"><div class=\"sk-item\"><div class=\"sk-estimator fitted sk-toggleable\"><input class=\"sk-toggleable__control sk-hidden--visually\" id=\"sk-estimator-id-7\" type=\"checkbox\" ><label for=\"sk-estimator-id-7\" class=\"sk-toggleable__label fitted sk-toggleable__label-arrow fitted\">&nbsp;MinMaxScaler<a class=\"sk-estimator-doc-link fitted\" rel=\"noreferrer\" target=\"_blank\" href=\"https://scikit-learn.org/1.4/modules/generated/sklearn.preprocessing.MinMaxScaler.html\">?<span>Documentation for MinMaxScaler</span></a></label><div class=\"sk-toggleable__content fitted\"><pre>MinMaxScaler()</pre></div> </div></div></div></div></div></div></div><div class=\"sk-parallel-item\"><div class=\"sk-item\"><div class=\"sk-label-container\"><div class=\"sk-label fitted sk-toggleable\"><input class=\"sk-toggleable__control sk-hidden--visually\" id=\"sk-estimator-id-8\" type=\"checkbox\" ><label for=\"sk-estimator-id-8\" class=\"sk-toggleable__label fitted sk-toggleable__label-arrow fitted\">remainder</label><div class=\"sk-toggleable__content fitted\"><pre></pre></div> </div></div><div class=\"sk-serial\"><div class=\"sk-item\"><div class=\"sk-estimator fitted sk-toggleable\"><input class=\"sk-toggleable__control sk-hidden--visually\" id=\"sk-estimator-id-9\" type=\"checkbox\" ><label for=\"sk-estimator-id-9\" class=\"sk-toggleable__label fitted sk-toggleable__label-arrow fitted\">passthrough</label><div class=\"sk-toggleable__content fitted\"><pre>passthrough</pre></div> </div></div></div></div></div></div></div><div class=\"sk-item\"><div class=\"sk-estimator fitted sk-toggleable\"><input class=\"sk-toggleable__control sk-hidden--visually\" id=\"sk-estimator-id-10\" type=\"checkbox\" ><label for=\"sk-estimator-id-10\" class=\"sk-toggleable__label fitted sk-toggleable__label-arrow fitted\">&nbsp;GaussianNB<a class=\"sk-estimator-doc-link fitted\" rel=\"noreferrer\" target=\"_blank\" href=\"https://scikit-learn.org/1.4/modules/generated/sklearn.naive_bayes.GaussianNB.html\">?<span>Documentation for GaussianNB</span></a></label><div class=\"sk-toggleable__content fitted\"><pre>GaussianNB()</pre></div> </div></div></div></div></div></div></div></div></div></div></div>"
            ],
            "text/plain": [
              "GridSearchCV(cv=StratifiedKFold(n_splits=10, random_state=42, shuffle=True),\n",
              "             estimator=Pipeline(steps=[('preprocess',\n",
              "                                        ColumnTransformer(remainder='passthrough',\n",
              "                                                          transformers=[('cat',\n",
              "                                                                         OneHotEncoder(cols=['FUEL'],\n",
              "                                                                                       use_cat_names=True),\n",
              "                                                                         ['FUEL']),\n",
              "                                                                        ('num',\n",
              "                                                                         Pipeline(steps=[('minmaxscaler',\n",
              "                                                                                          MinMaxScaler())]),\n",
              "                                                                         ['SIZE',\n",
              "                                                                          'DISTANCE',\n",
              "                                                                          'DESIBEL',\n",
              "                                                                          'AIRFLOW',\n",
              "                                                                          'FREQUENCY'])],\n",
              "                                                          verb...\n",
              "       5.33669923e-08, 4.32876128e-08, 3.51119173e-08, 2.84803587e-08,\n",
              "       2.31012970e-08, 1.87381742e-08, 1.51991108e-08, 1.23284674e-08,\n",
              "       1.00000000e-08, 8.11130831e-09, 6.57933225e-09, 5.33669923e-09,\n",
              "       4.32876128e-09, 3.51119173e-09, 2.84803587e-09, 2.31012970e-09,\n",
              "       1.87381742e-09, 1.51991108e-09, 1.23284674e-09, 1.00000000e-09])},\n",
              "             refit=False,\n",
              "             scoring=['accuracy', 'precision', 'recall', 'f1', 'roc_auc'])"
            ]
          },
          "execution_count": 55,
          "metadata": {},
          "output_type": "execute_result"
        }
      ],
      "source": [
        "param_grid = {\n",
        "    'classifier__var_smoothing': np.logspace(0,-9, num=100),\n",
        "}\n",
        "\n",
        "gs_NB = create_pipeline(GaussianNB)\n",
        "\n",
        "grid_search = GridSearchCV(gs_NB, param_grid, scoring=SCORING, cv=cv, n_jobs=-1, refit=False)\n",
        "grid_search.fit(X, y)"
      ]
    },
    {
      "cell_type": "code",
      "execution_count": 56,
      "metadata": {
        "id": "gcUiatP9GkC5"
      },
      "outputs": [
        {
          "name": "stdout",
          "output_type": "stream",
          "text": [
            "Principal métrica: mean_test_accuracy\n",
            "\n",
            "Melhores parâmetros: \n",
            "\tvar_smoothing=0.657933224657568\n",
            "Melhores métricas:\n",
            "\tAcurácia: 87.79%\n",
            "\tPrecisão: 90.18%\n",
            "\tRecall: 84.71%\n",
            "\tF1: 87.35%\n",
            "\tROC-AUC: 95.53%\n"
          ]
        }
      ],
      "source": [
        "best_params_gsnb = get_pipeline_gscv_results(grid_search)"
      ]
    },
    {
      "cell_type": "markdown",
      "metadata": {
        "id": "29cPLB5AGkC5"
      },
      "source": [
        "#### **Matriz de Confusão**"
      ]
    },
    {
      "cell_type": "code",
      "execution_count": 57,
      "metadata": {
        "id": "EN1ywR27MYzn"
      },
      "outputs": [
        {
          "data": {
            "image/png": "[encoded data removed]",
            "text/plain": [
              "<Figure size 288x216 with 2 Axes>"
            ]
          },
          "metadata": {
            "needs_background": "light"
          },
          "output_type": "display_data"
        },
        {
          "name": "stdout",
          "output_type": "stream",
          "text": [
            "\n"
          ]
        },
        {
          "data": {
            "image/png": "[encoded data removed]",
            "text/plain": [
              "<Figure size 288x216 with 2 Axes>"
            ]
          },
          "metadata": {
            "needs_background": "light"
          },
          "output_type": "display_data"
        },
        {
          "name": "stdout",
          "output_type": "stream",
          "text": [
            "\n"
          ]
        }
      ],
      "source": [
        "gs_NB = create_pipeline(GaussianNB, best_params_gsnb)\n",
        "gs_NB.fit(X_train, y_train)\n",
        "preds = gs_NB.predict(X_test)\n",
        "plot_confusion_matrix(y_test, preds)"
      ]
    },
    {
      "cell_type": "markdown",
      "metadata": {
        "id": "T56WHGGxTZ5a"
      },
      "source": [
        "#### **Curva ROC-AUC**"
      ]
    },
    {
      "cell_type": "code",
      "execution_count": 58,
      "metadata": {
        "id": "_0WGDWjGTZ5l"
      },
      "outputs": [
        {
          "data": {
            "image/png": "[encoded data removed]",
            "text/plain": [
              "<Figure size 432x432 with 1 Axes>"
            ]
          },
          "metadata": {
            "needs_background": "light"
          },
          "output_type": "display_data"
        }
      ],
      "source": [
        "plot_roc_auc_cv_curve(X, y, GaussianNB, best_params_gsnb, cv)"
      ]
    },
    {
      "cell_type": "markdown",
      "metadata": {
        "id": "5R5C8w_mdEvp"
      },
      "source": [
        "### **Multinomial**\n",
        "\n",
        "Trabalha melhor com dados inteiros."
      ]
    },
    {
      "cell_type": "markdown",
      "metadata": {
        "id": "FyhCl8VndEv2"
      },
      "source": [
        "#### **GridSearchCV**"
      ]
    },
    {
      "cell_type": "code",
      "execution_count": 59,
      "metadata": {
        "id": "HfICO8DSdEv2"
      },
      "outputs": [
        {
          "data": {
            "text/html": [
              "<style>#sk-container-id-2 {\n",
              "  /* Definition of color scheme common for light and dark mode */\n",
              "  --sklearn-color-text: black;\n",
              "  --sklearn-color-line: gray;\n",
              "  /* Definition of color scheme for unfitted estimators */\n",
              "  --sklearn-color-unfitted-level-0: #fff5e6;\n",
              "  --sklearn-color-unfitted-level-1: #f6e4d2;\n",
              "  --sklearn-color-unfitted-level-2: #ffe0b3;\n",
              "  --sklearn-color-unfitted-level-3: chocolate;\n",
              "  /* Definition of color scheme for fitted estimators */\n",
              "  --sklearn-color-fitted-level-0: #f0f8ff;\n",
              "  --sklearn-color-fitted-level-1: #d4ebff;\n",
              "  --sklearn-color-fitted-level-2: #b3dbfd;\n",
              "  --sklearn-color-fitted-level-3: cornflowerblue;\n",
              "\n",
              "  /* Specific color for light theme */\n",
              "  --sklearn-color-text-on-default-background: var(--sg-text-color, var(--theme-code-foreground, var(--jp-content-font-color1, black)));\n",
              "  --sklearn-color-background: var(--sg-background-color, var(--theme-background, var(--jp-layout-color0, white)));\n",
              "  --sklearn-color-border-box: var(--sg-text-color, var(--theme-code-foreground, var(--jp-content-font-color1, black)));\n",
              "  --sklearn-color-icon: #696969;\n",
              "\n",
              "  @media (prefers-color-scheme: dark) {\n",
              "    /* Redefinition of color scheme for dark theme */\n",
              "    --sklearn-color-text-on-default-background: var(--sg-text-color, var(--theme-code-foreground, var(--jp-content-font-color1, white)));\n",
              "    --sklearn-color-background: var(--sg-background-color, var(--theme-background, var(--jp-layout-color0, #111)));\n",
              "    --sklearn-color-border-box: var(--sg-text-color, var(--theme-code-foreground, var(--jp-content-font-color1, white)));\n",
              "    --sklearn-color-icon: #878787;\n",
              "  }\n",
              "}\n",
              "\n",
              "#sk-container-id-2 {\n",
              "  color: var(--sklearn-color-text);\n",
              "}\n",
              "\n",
              "#sk-container-id-2 pre {\n",
              "  padding: 0;\n",
              "}\n",
              "\n",
              "#sk-container-id-2 input.sk-hidden--visually {\n",
              "  border: 0;\n",
              "  clip: rect(1px 1px 1px 1px);\n",
              "  clip: rect(1px, 1px, 1px, 1px);\n",
              "  height: 1px;\n",
              "  margin: -1px;\n",
              "  overflow: hidden;\n",
              "  padding: 0;\n",
              "  position: absolute;\n",
              "  width: 1px;\n",
              "}\n",
              "\n",
              "#sk-container-id-2 div.sk-dashed-wrapped {\n",
              "  border: 1px dashed var(--sklearn-color-line);\n",
              "  margin: 0 0.4em 0.5em 0.4em;\n",
              "  box-sizing: border-box;\n",
              "  padding-bottom: 0.4em;\n",
              "  background-color: var(--sklearn-color-background);\n",
              "}\n",
              "\n",
              "#sk-container-id-2 div.sk-container {\n",
              "  /* jupyter's `normalize.less` sets `[hidden] { display: none; }`\n",
              "     but bootstrap.min.css set `[hidden] { display: none !important; }`\n",
              "     so we also need the `!important` here to be able to override the\n",
              "     default hidden behavior on the sphinx rendered scikit-learn.org.\n",
              "     See: https://github.com/scikit-learn/scikit-learn/issues/21755 */\n",
              "  display: inline-block !important;\n",
              "  position: relative;\n",
              "}\n",
              "\n",
              "#sk-container-id-2 div.sk-text-repr-fallback {\n",
              "  display: none;\n",
              "}\n",
              "\n",
              "div.sk-parallel-item,\n",
              "div.sk-serial,\n",
              "div.sk-item {\n",
              "  /* draw centered vertical line to link estimators */\n",
              "  background-image: linear-gradient(var(--sklearn-color-text-on-default-background), var(--sklearn-color-text-on-default-background));\n",
              "  background-size: 2px 100%;\n",
              "  background-repeat: no-repeat;\n",
              "  background-position: center center;\n",
              "}\n",
              "\n",
              "/* Parallel-specific style estimator block */\n",
              "\n",
              "#sk-container-id-2 div.sk-parallel-item::after {\n",
              "  content: \"\";\n",
              "  width: 100%;\n",
              "  border-bottom: 2px solid var(--sklearn-color-text-on-default-background);\n",
              "  flex-grow: 1;\n",
              "}\n",
              "\n",
              "#sk-container-id-2 div.sk-parallel {\n",
              "  display: flex;\n",
              "  align-items: stretch;\n",
              "  justify-content: center;\n",
              "  background-color: var(--sklearn-color-background);\n",
              "  position: relative;\n",
              "}\n",
              "\n",
              "#sk-container-id-2 div.sk-parallel-item {\n",
              "  display: flex;\n",
              "  flex-direction: column;\n",
              "}\n",
              "\n",
              "#sk-container-id-2 div.sk-parallel-item:first-child::after {\n",
              "  align-self: flex-end;\n",
              "  width: 50%;\n",
              "}\n",
              "\n",
              "#sk-container-id-2 div.sk-parallel-item:last-child::after {\n",
              "  align-self: flex-start;\n",
              "  width: 50%;\n",
              "}\n",
              "\n",
              "#sk-container-id-2 div.sk-parallel-item:only-child::after {\n",
              "  width: 0;\n",
              "}\n",
              "\n",
              "/* Serial-specific style estimator block */\n",
              "\n",
              "#sk-container-id-2 div.sk-serial {\n",
              "  display: flex;\n",
              "  flex-direction: column;\n",
              "  align-items: center;\n",
              "  background-color: var(--sklearn-color-background);\n",
              "  padding-right: 1em;\n",
              "  padding-left: 1em;\n",
              "}\n",
              "\n",
              "\n",
              "/* Toggleable style: style used for estimator/Pipeline/ColumnTransformer box that is\n",
              "clickable and can be expanded/collapsed.\n",
              "- Pipeline and ColumnTransformer use this feature and define the default style\n",
              "- Estimators will overwrite some part of the style using the `sk-estimator` class\n",
              "*/\n",
              "\n",
              "/* Pipeline and ColumnTransformer style (default) */\n",
              "\n",
              "#sk-container-id-2 div.sk-toggleable {\n",
              "  /* Default theme specific background. It is overwritten whether we have a\n",
              "  specific estimator or a Pipeline/ColumnTransformer */\n",
              "  background-color: var(--sklearn-color-background);\n",
              "}\n",
              "\n",
              "/* Toggleable label */\n",
              "#sk-container-id-2 label.sk-toggleable__label {\n",
              "  cursor: pointer;\n",
              "  display: block;\n",
              "  width: 100%;\n",
              "  margin-bottom: 0;\n",
              "  padding: 0.5em;\n",
              "  box-sizing: border-box;\n",
              "  text-align: center;\n",
              "}\n",
              "\n",
              "#sk-container-id-2 label.sk-toggleable__label-arrow:before {\n",
              "  /* Arrow on the left of the label */\n",
              "  content: \"▸\";\n",
              "  float: left;\n",
              "  margin-right: 0.25em;\n",
              "  color: var(--sklearn-color-icon);\n",
              "}\n",
              "\n",
              "#sk-container-id-2 label.sk-toggleable__label-arrow:hover:before {\n",
              "  color: var(--sklearn-color-text);\n",
              "}\n",
              "\n",
              "/* Toggleable content - dropdown */\n",
              "\n",
              "#sk-container-id-2 div.sk-toggleable__content {\n",
              "  max-height: 0;\n",
              "  max-width: 0;\n",
              "  overflow: hidden;\n",
              "  text-align: left;\n",
              "  /* unfitted */\n",
              "  background-color: var(--sklearn-color-unfitted-level-0);\n",
              "}\n",
              "\n",
              "#sk-container-id-2 div.sk-toggleable__content.fitted {\n",
              "  /* fitted */\n",
              "  background-color: var(--sklearn-color-fitted-level-0);\n",
              "}\n",
              "\n",
              "#sk-container-id-2 div.sk-toggleable__content pre {\n",
              "  margin: 0.2em;\n",
              "  border-radius: 0.25em;\n",
              "  color: var(--sklearn-color-text);\n",
              "  /* unfitted */\n",
              "  background-color: var(--sklearn-color-unfitted-level-0);\n",
              "}\n",
              "\n",
              "#sk-container-id-2 div.sk-toggleable__content.fitted pre {\n",
              "  /* unfitted */\n",
              "  background-color: var(--sklearn-color-fitted-level-0);\n",
              "}\n",
              "\n",
              "#sk-container-id-2 input.sk-toggleable__control:checked~div.sk-toggleable__content {\n",
              "  /* Expand drop-down */\n",
              "  max-height: 200px;\n",
              "  max-width: 100%;\n",
              "  overflow: auto;\n",
              "}\n",
              "\n",
              "#sk-container-id-2 input.sk-toggleable__control:checked~label.sk-toggleable__label-arrow:before {\n",
              "  content: \"▾\";\n",
              "}\n",
              "\n",
              "/* Pipeline/ColumnTransformer-specific style */\n",
              "\n",
              "#sk-container-id-2 div.sk-label input.sk-toggleable__control:checked~label.sk-toggleable__label {\n",
              "  color: var(--sklearn-color-text);\n",
              "  background-color: var(--sklearn-color-unfitted-level-2);\n",
              "}\n",
              "\n",
              "#sk-container-id-2 div.sk-label.fitted input.sk-toggleable__control:checked~label.sk-toggleable__label {\n",
              "  background-color: var(--sklearn-color-fitted-level-2);\n",
              "}\n",
              "\n",
              "/* Estimator-specific style */\n",
              "\n",
              "/* Colorize estimator box */\n",
              "#sk-container-id-2 div.sk-estimator input.sk-toggleable__control:checked~label.sk-toggleable__label {\n",
              "  /* unfitted */\n",
              "  background-color: var(--sklearn-color-unfitted-level-2);\n",
              "}\n",
              "\n",
              "#sk-container-id-2 div.sk-estimator.fitted input.sk-toggleable__control:checked~label.sk-toggleable__label {\n",
              "  /* fitted */\n",
              "  background-color: var(--sklearn-color-fitted-level-2);\n",
              "}\n",
              "\n",
              "#sk-container-id-2 div.sk-label label.sk-toggleable__label,\n",
              "#sk-container-id-2 div.sk-label label {\n",
              "  /* The background is the default theme color */\n",
              "  color: var(--sklearn-color-text-on-default-background);\n",
              "}\n",
              "\n",
              "/* On hover, darken the color of the background */\n",
              "#sk-container-id-2 div.sk-label:hover label.sk-toggleable__label {\n",
              "  color: var(--sklearn-color-text);\n",
              "  background-color: var(--sklearn-color-unfitted-level-2);\n",
              "}\n",
              "\n",
              "/* Label box, darken color on hover, fitted */\n",
              "#sk-container-id-2 div.sk-label.fitted:hover label.sk-toggleable__label.fitted {\n",
              "  color: var(--sklearn-color-text);\n",
              "  background-color: var(--sklearn-color-fitted-level-2);\n",
              "}\n",
              "\n",
              "/* Estimator label */\n",
              "\n",
              "#sk-container-id-2 div.sk-label label {\n",
              "  font-family: monospace;\n",
              "  font-weight: bold;\n",
              "  display: inline-block;\n",
              "  line-height: 1.2em;\n",
              "}\n",
              "\n",
              "#sk-container-id-2 div.sk-label-container {\n",
              "  text-align: center;\n",
              "}\n",
              "\n",
              "/* Estimator-specific */\n",
              "#sk-container-id-2 div.sk-estimator {\n",
              "  font-family: monospace;\n",
              "  border: 1px dotted var(--sklearn-color-border-box);\n",
              "  border-radius: 0.25em;\n",
              "  box-sizing: border-box;\n",
              "  margin-bottom: 0.5em;\n",
              "  /* unfitted */\n",
              "  background-color: var(--sklearn-color-unfitted-level-0);\n",
              "}\n",
              "\n",
              "#sk-container-id-2 div.sk-estimator.fitted {\n",
              "  /* fitted */\n",
              "  background-color: var(--sklearn-color-fitted-level-0);\n",
              "}\n",
              "\n",
              "/* on hover */\n",
              "#sk-container-id-2 div.sk-estimator:hover {\n",
              "  /* unfitted */\n",
              "  background-color: var(--sklearn-color-unfitted-level-2);\n",
              "}\n",
              "\n",
              "#sk-container-id-2 div.sk-estimator.fitted:hover {\n",
              "  /* fitted */\n",
              "  background-color: var(--sklearn-color-fitted-level-2);\n",
              "}\n",
              "\n",
              "/* Specification for estimator info (e.g. \"i\" and \"?\") */\n",
              "\n",
              "/* Common style for \"i\" and \"?\" */\n",
              "\n",
              ".sk-estimator-doc-link,\n",
              "a:link.sk-estimator-doc-link,\n",
              "a:visited.sk-estimator-doc-link {\n",
              "  float: right;\n",
              "  font-size: smaller;\n",
              "  line-height: 1em;\n",
              "  font-family: monospace;\n",
              "  background-color: var(--sklearn-color-background);\n",
              "  border-radius: 1em;\n",
              "  height: 1em;\n",
              "  width: 1em;\n",
              "  text-decoration: none !important;\n",
              "  margin-left: 1ex;\n",
              "  /* unfitted */\n",
              "  border: var(--sklearn-color-unfitted-level-1) 1pt solid;\n",
              "  color: var(--sklearn-color-unfitted-level-1);\n",
              "}\n",
              "\n",
              ".sk-estimator-doc-link.fitted,\n",
              "a:link.sk-estimator-doc-link.fitted,\n",
              "a:visited.sk-estimator-doc-link.fitted {\n",
              "  /* fitted */\n",
              "  border: var(--sklearn-color-fitted-level-1) 1pt solid;\n",
              "  color: var(--sklearn-color-fitted-level-1);\n",
              "}\n",
              "\n",
              "/* On hover */\n",
              "div.sk-estimator:hover .sk-estimator-doc-link:hover,\n",
              ".sk-estimator-doc-link:hover,\n",
              "div.sk-label-container:hover .sk-estimator-doc-link:hover,\n",
              ".sk-estimator-doc-link:hover {\n",
              "  /* unfitted */\n",
              "  background-color: var(--sklearn-color-unfitted-level-3);\n",
              "  color: var(--sklearn-color-background);\n",
              "  text-decoration: none;\n",
              "}\n",
              "\n",
              "div.sk-estimator.fitted:hover .sk-estimator-doc-link.fitted:hover,\n",
              ".sk-estimator-doc-link.fitted:hover,\n",
              "div.sk-label-container:hover .sk-estimator-doc-link.fitted:hover,\n",
              ".sk-estimator-doc-link.fitted:hover {\n",
              "  /* fitted */\n",
              "  background-color: var(--sklearn-color-fitted-level-3);\n",
              "  color: var(--sklearn-color-background);\n",
              "  text-decoration: none;\n",
              "}\n",
              "\n",
              "/* Span, style for the box shown on hovering the info icon */\n",
              ".sk-estimator-doc-link span {\n",
              "  display: none;\n",
              "  z-index: 9999;\n",
              "  position: relative;\n",
              "  font-weight: normal;\n",
              "  right: .2ex;\n",
              "  padding: .5ex;\n",
              "  margin: .5ex;\n",
              "  width: min-content;\n",
              "  min-width: 20ex;\n",
              "  max-width: 50ex;\n",
              "  color: var(--sklearn-color-text);\n",
              "  box-shadow: 2pt 2pt 4pt #999;\n",
              "  /* unfitted */\n",
              "  background: var(--sklearn-color-unfitted-level-0);\n",
              "  border: .5pt solid var(--sklearn-color-unfitted-level-3);\n",
              "}\n",
              "\n",
              ".sk-estimator-doc-link.fitted span {\n",
              "  /* fitted */\n",
              "  background: var(--sklearn-color-fitted-level-0);\n",
              "  border: var(--sklearn-color-fitted-level-3);\n",
              "}\n",
              "\n",
              ".sk-estimator-doc-link:hover span {\n",
              "  display: block;\n",
              "}\n",
              "\n",
              "/* \"?\"-specific style due to the `<a>` HTML tag */\n",
              "\n",
              "#sk-container-id-2 a.estimator_doc_link {\n",
              "  float: right;\n",
              "  font-size: 1rem;\n",
              "  line-height: 1em;\n",
              "  font-family: monospace;\n",
              "  background-color: var(--sklearn-color-background);\n",
              "  border-radius: 1rem;\n",
              "  height: 1rem;\n",
              "  width: 1rem;\n",
              "  text-decoration: none;\n",
              "  /* unfitted */\n",
              "  color: var(--sklearn-color-unfitted-level-1);\n",
              "  border: var(--sklearn-color-unfitted-level-1) 1pt solid;\n",
              "}\n",
              "\n",
              "#sk-container-id-2 a.estimator_doc_link.fitted {\n",
              "  /* fitted */\n",
              "  border: var(--sklearn-color-fitted-level-1) 1pt solid;\n",
              "  color: var(--sklearn-color-fitted-level-1);\n",
              "}\n",
              "\n",
              "/* On hover */\n",
              "#sk-container-id-2 a.estimator_doc_link:hover {\n",
              "  /* unfitted */\n",
              "  background-color: var(--sklearn-color-unfitted-level-3);\n",
              "  color: var(--sklearn-color-background);\n",
              "  text-decoration: none;\n",
              "}\n",
              "\n",
              "#sk-container-id-2 a.estimator_doc_link.fitted:hover {\n",
              "  /* fitted */\n",
              "  background-color: var(--sklearn-color-fitted-level-3);\n",
              "}\n",
              "</style><div id=\"sk-container-id-2\" class=\"sk-top-container\"><div class=\"sk-text-repr-fallback\"><pre>GridSearchCV(cv=StratifiedKFold(n_splits=10, random_state=42, shuffle=True),\n",
              "             estimator=Pipeline(steps=[(&#x27;preprocess&#x27;,\n",
              "                                        ColumnTransformer(remainder=&#x27;passthrough&#x27;,\n",
              "                                                          transformers=[(&#x27;cat&#x27;,\n",
              "                                                                         OneHotEncoder(cols=[&#x27;FUEL&#x27;],\n",
              "                                                                                       use_cat_names=True),\n",
              "                                                                         [&#x27;FUEL&#x27;]),\n",
              "                                                                        (&#x27;num&#x27;,\n",
              "                                                                         Pipeline(steps=[(&#x27;minmaxscaler&#x27;,\n",
              "                                                                                          MinMaxScaler())]),\n",
              "                                                                         [&#x27;SIZE&#x27;,\n",
              "                                                                          &#x27;DISTANCE&#x27;,\n",
              "                                                                          &#x27;DESIBEL&#x27;,\n",
              "                                                                          &#x27;AIRFLOW&#x27;,\n",
              "                                                                          &#x27;FREQUENCY&#x27;])],\n",
              "                                                          verbose_feature_names_out=False)),\n",
              "                                       (&#x27;classifier&#x27;, MultinomialNB())]),\n",
              "             n_jobs=-1,\n",
              "             param_grid={&#x27;classifier__alpha&#x27;: [0.0, 0.001, 0.01, 0.05, 0.1, 0.5,\n",
              "                                               1.0, 2.0, 5.0, 10.0]},\n",
              "             refit=False,\n",
              "             scoring=[&#x27;accuracy&#x27;, &#x27;precision&#x27;, &#x27;recall&#x27;, &#x27;f1&#x27;, &#x27;roc_auc&#x27;])</pre><b>In a Jupyter environment, please rerun this cell to show the HTML representation or trust the notebook. <br />On GitHub, the HTML representation is unable to render, please try loading this page with nbviewer.org.</b></div><div class=\"sk-container\" hidden><div class=\"sk-item sk-dashed-wrapped\"><div class=\"sk-label-container\"><div class=\"sk-label fitted sk-toggleable\"><input class=\"sk-toggleable__control sk-hidden--visually\" id=\"sk-estimator-id-11\" type=\"checkbox\" ><label for=\"sk-estimator-id-11\" class=\"sk-toggleable__label fitted sk-toggleable__label-arrow fitted\">&nbsp;&nbsp;GridSearchCV<a class=\"sk-estimator-doc-link fitted\" rel=\"noreferrer\" target=\"_blank\" href=\"https://scikit-learn.org/1.4/modules/generated/sklearn.model_selection.GridSearchCV.html\">?<span>Documentation for GridSearchCV</span></a><span class=\"sk-estimator-doc-link fitted\">i<span>Fitted</span></span></label><div class=\"sk-toggleable__content fitted\"><pre>GridSearchCV(cv=StratifiedKFold(n_splits=10, random_state=42, shuffle=True),\n",
              "             estimator=Pipeline(steps=[(&#x27;preprocess&#x27;,\n",
              "                                        ColumnTransformer(remainder=&#x27;passthrough&#x27;,\n",
              "                                                          transformers=[(&#x27;cat&#x27;,\n",
              "                                                                         OneHotEncoder(cols=[&#x27;FUEL&#x27;],\n",
              "                                                                                       use_cat_names=True),\n",
              "                                                                         [&#x27;FUEL&#x27;]),\n",
              "                                                                        (&#x27;num&#x27;,\n",
              "                                                                         Pipeline(steps=[(&#x27;minmaxscaler&#x27;,\n",
              "                                                                                          MinMaxScaler())]),\n",
              "                                                                         [&#x27;SIZE&#x27;,\n",
              "                                                                          &#x27;DISTANCE&#x27;,\n",
              "                                                                          &#x27;DESIBEL&#x27;,\n",
              "                                                                          &#x27;AIRFLOW&#x27;,\n",
              "                                                                          &#x27;FREQUENCY&#x27;])],\n",
              "                                                          verbose_feature_names_out=False)),\n",
              "                                       (&#x27;classifier&#x27;, MultinomialNB())]),\n",
              "             n_jobs=-1,\n",
              "             param_grid={&#x27;classifier__alpha&#x27;: [0.0, 0.001, 0.01, 0.05, 0.1, 0.5,\n",
              "                                               1.0, 2.0, 5.0, 10.0]},\n",
              "             refit=False,\n",
              "             scoring=[&#x27;accuracy&#x27;, &#x27;precision&#x27;, &#x27;recall&#x27;, &#x27;f1&#x27;, &#x27;roc_auc&#x27;])</pre></div> </div></div><div class=\"sk-parallel\"><div class=\"sk-parallel-item\"><div class=\"sk-item\"><div class=\"sk-label-container\"><div class=\"sk-label fitted sk-toggleable\"><input class=\"sk-toggleable__control sk-hidden--visually\" id=\"sk-estimator-id-12\" type=\"checkbox\" ><label for=\"sk-estimator-id-12\" class=\"sk-toggleable__label fitted sk-toggleable__label-arrow fitted\">estimator: Pipeline</label><div class=\"sk-toggleable__content fitted\"><pre>Pipeline(steps=[(&#x27;preprocess&#x27;,\n",
              "                 ColumnTransformer(remainder=&#x27;passthrough&#x27;,\n",
              "                                   transformers=[(&#x27;cat&#x27;,\n",
              "                                                  OneHotEncoder(cols=[&#x27;FUEL&#x27;],\n",
              "                                                                use_cat_names=True),\n",
              "                                                  [&#x27;FUEL&#x27;]),\n",
              "                                                 (&#x27;num&#x27;,\n",
              "                                                  Pipeline(steps=[(&#x27;minmaxscaler&#x27;,\n",
              "                                                                   MinMaxScaler())]),\n",
              "                                                  [&#x27;SIZE&#x27;, &#x27;DISTANCE&#x27;,\n",
              "                                                   &#x27;DESIBEL&#x27;, &#x27;AIRFLOW&#x27;,\n",
              "                                                   &#x27;FREQUENCY&#x27;])],\n",
              "                                   verbose_feature_names_out=False)),\n",
              "                (&#x27;classifier&#x27;, MultinomialNB())])</pre></div> </div></div><div class=\"sk-serial\"><div class=\"sk-item\"><div class=\"sk-serial\"><div class=\"sk-item sk-dashed-wrapped\"><div class=\"sk-label-container\"><div class=\"sk-label fitted sk-toggleable\"><input class=\"sk-toggleable__control sk-hidden--visually\" id=\"sk-estimator-id-13\" type=\"checkbox\" ><label for=\"sk-estimator-id-13\" class=\"sk-toggleable__label fitted sk-toggleable__label-arrow fitted\">&nbsp;preprocess: ColumnTransformer<a class=\"sk-estimator-doc-link fitted\" rel=\"noreferrer\" target=\"_blank\" href=\"https://scikit-learn.org/1.4/modules/generated/sklearn.compose.ColumnTransformer.html\">?<span>Documentation for preprocess: ColumnTransformer</span></a></label><div class=\"sk-toggleable__content fitted\"><pre>ColumnTransformer(remainder=&#x27;passthrough&#x27;,\n",
              "                  transformers=[(&#x27;cat&#x27;,\n",
              "                                 OneHotEncoder(cols=[&#x27;FUEL&#x27;],\n",
              "                                               use_cat_names=True),\n",
              "                                 [&#x27;FUEL&#x27;]),\n",
              "                                (&#x27;num&#x27;,\n",
              "                                 Pipeline(steps=[(&#x27;minmaxscaler&#x27;,\n",
              "                                                  MinMaxScaler())]),\n",
              "                                 [&#x27;SIZE&#x27;, &#x27;DISTANCE&#x27;, &#x27;DESIBEL&#x27;, &#x27;AIRFLOW&#x27;,\n",
              "                                  &#x27;FREQUENCY&#x27;])],\n",
              "                  verbose_feature_names_out=False)</pre></div> </div></div><div class=\"sk-parallel\"><div class=\"sk-parallel-item\"><div class=\"sk-item\"><div class=\"sk-label-container\"><div class=\"sk-label fitted sk-toggleable\"><input class=\"sk-toggleable__control sk-hidden--visually\" id=\"sk-estimator-id-14\" type=\"checkbox\" ><label for=\"sk-estimator-id-14\" class=\"sk-toggleable__label fitted sk-toggleable__label-arrow fitted\">cat</label><div class=\"sk-toggleable__content fitted\"><pre>[&#x27;FUEL&#x27;]</pre></div> </div></div><div class=\"sk-serial\"><div class=\"sk-item\"><div class=\"sk-estimator fitted sk-toggleable\"><input class=\"sk-toggleable__control sk-hidden--visually\" id=\"sk-estimator-id-15\" type=\"checkbox\" ><label for=\"sk-estimator-id-15\" class=\"sk-toggleable__label fitted sk-toggleable__label-arrow fitted\">OneHotEncoder</label><div class=\"sk-toggleable__content fitted\"><pre>OneHotEncoder(cols=[&#x27;FUEL&#x27;], use_cat_names=True)</pre></div> </div></div></div></div></div><div class=\"sk-parallel-item\"><div class=\"sk-item\"><div class=\"sk-label-container\"><div class=\"sk-label fitted sk-toggleable\"><input class=\"sk-toggleable__control sk-hidden--visually\" id=\"sk-estimator-id-16\" type=\"checkbox\" ><label for=\"sk-estimator-id-16\" class=\"sk-toggleable__label fitted sk-toggleable__label-arrow fitted\">num</label><div class=\"sk-toggleable__content fitted\"><pre>[&#x27;SIZE&#x27;, &#x27;DISTANCE&#x27;, &#x27;DESIBEL&#x27;, &#x27;AIRFLOW&#x27;, &#x27;FREQUENCY&#x27;]</pre></div> </div></div><div class=\"sk-serial\"><div class=\"sk-item\"><div class=\"sk-serial\"><div class=\"sk-item\"><div class=\"sk-estimator fitted sk-toggleable\"><input class=\"sk-toggleable__control sk-hidden--visually\" id=\"sk-estimator-id-17\" type=\"checkbox\" ><label for=\"sk-estimator-id-17\" class=\"sk-toggleable__label fitted sk-toggleable__label-arrow fitted\">&nbsp;MinMaxScaler<a class=\"sk-estimator-doc-link fitted\" rel=\"noreferrer\" target=\"_blank\" href=\"https://scikit-learn.org/1.4/modules/generated/sklearn.preprocessing.MinMaxScaler.html\">?<span>Documentation for MinMaxScaler</span></a></label><div class=\"sk-toggleable__content fitted\"><pre>MinMaxScaler()</pre></div> </div></div></div></div></div></div></div><div class=\"sk-parallel-item\"><div class=\"sk-item\"><div class=\"sk-label-container\"><div class=\"sk-label fitted sk-toggleable\"><input class=\"sk-toggleable__control sk-hidden--visually\" id=\"sk-estimator-id-18\" type=\"checkbox\" ><label for=\"sk-estimator-id-18\" class=\"sk-toggleable__label fitted sk-toggleable__label-arrow fitted\">remainder</label><div class=\"sk-toggleable__content fitted\"><pre></pre></div> </div></div><div class=\"sk-serial\"><div class=\"sk-item\"><div class=\"sk-estimator fitted sk-toggleable\"><input class=\"sk-toggleable__control sk-hidden--visually\" id=\"sk-estimator-id-19\" type=\"checkbox\" ><label for=\"sk-estimator-id-19\" class=\"sk-toggleable__label fitted sk-toggleable__label-arrow fitted\">passthrough</label><div class=\"sk-toggleable__content fitted\"><pre>passthrough</pre></div> </div></div></div></div></div></div></div><div class=\"sk-item\"><div class=\"sk-estimator fitted sk-toggleable\"><input class=\"sk-toggleable__control sk-hidden--visually\" id=\"sk-estimator-id-20\" type=\"checkbox\" ><label for=\"sk-estimator-id-20\" class=\"sk-toggleable__label fitted sk-toggleable__label-arrow fitted\">&nbsp;MultinomialNB<a class=\"sk-estimator-doc-link fitted\" rel=\"noreferrer\" target=\"_blank\" href=\"https://scikit-learn.org/1.4/modules/generated/sklearn.naive_bayes.MultinomialNB.html\">?<span>Documentation for MultinomialNB</span></a></label><div class=\"sk-toggleable__content fitted\"><pre>MultinomialNB()</pre></div> </div></div></div></div></div></div></div></div></div></div></div>"
            ],
            "text/plain": [
              "GridSearchCV(cv=StratifiedKFold(n_splits=10, random_state=42, shuffle=True),\n",
              "             estimator=Pipeline(steps=[('preprocess',\n",
              "                                        ColumnTransformer(remainder='passthrough',\n",
              "                                                          transformers=[('cat',\n",
              "                                                                         OneHotEncoder(cols=['FUEL'],\n",
              "                                                                                       use_cat_names=True),\n",
              "                                                                         ['FUEL']),\n",
              "                                                                        ('num',\n",
              "                                                                         Pipeline(steps=[('minmaxscaler',\n",
              "                                                                                          MinMaxScaler())]),\n",
              "                                                                         ['SIZE',\n",
              "                                                                          'DISTANCE',\n",
              "                                                                          'DESIBEL',\n",
              "                                                                          'AIRFLOW',\n",
              "                                                                          'FREQUENCY'])],\n",
              "                                                          verbose_feature_names_out=False)),\n",
              "                                       ('classifier', MultinomialNB())]),\n",
              "             n_jobs=-1,\n",
              "             param_grid={'classifier__alpha': [0.0, 0.001, 0.01, 0.05, 0.1, 0.5,\n",
              "                                               1.0, 2.0, 5.0, 10.0]},\n",
              "             refit=False,\n",
              "             scoring=['accuracy', 'precision', 'recall', 'f1', 'roc_auc'])"
            ]
          },
          "execution_count": 59,
          "metadata": {},
          "output_type": "execute_result"
        }
      ],
      "source": [
        "param_grid = {\n",
        "    'classifier__alpha': [0.0, 0.001, 0.01, 0.05, 0.1, 0.5, 1.0, 2.0, 5.0, 10.0],\n",
        "}\n",
        "\n",
        "mt_NB = create_pipeline(MultinomialNB)\n",
        "\n",
        "grid_search = GridSearchCV(mt_NB, param_grid, scoring=SCORING, cv=cv, n_jobs=-1, refit=False)\n",
        "grid_search.fit(X, y)"
      ]
    },
    {
      "cell_type": "code",
      "execution_count": 60,
      "metadata": {
        "id": "2ShPVUgndEv3"
      },
      "outputs": [
        {
          "name": "stdout",
          "output_type": "stream",
          "text": [
            "Principal métrica: mean_test_accuracy\n",
            "\n",
            "Melhores parâmetros: \n",
            "\talpha=5.0\n",
            "Melhores métricas:\n",
            "\tAcurácia: 87.59%\n",
            "\tPrecisão: 89.56%\n",
            "\tRecall: 84.98%\n",
            "\tF1: 87.21%\n",
            "\tROC-AUC: 95.30%\n"
          ]
        }
      ],
      "source": [
        "best_params_mtnb = get_pipeline_gscv_results(grid_search)"
      ]
    },
    {
      "cell_type": "markdown",
      "metadata": {
        "id": "Ukj3Qh_jdEv3"
      },
      "source": [
        "#### **Matriz de Confusão**"
      ]
    },
    {
      "cell_type": "code",
      "execution_count": 61,
      "metadata": {
        "id": "ByEPXTrlMisf"
      },
      "outputs": [
        {
          "data": {
            "image/png": "[encoded data removed]",
            "text/plain": [
              "<Figure size 288x216 with 2 Axes>"
            ]
          },
          "metadata": {
            "needs_background": "light"
          },
          "output_type": "display_data"
        },
        {
          "name": "stdout",
          "output_type": "stream",
          "text": [
            "\n"
          ]
        },
        {
          "data": {
            "image/png": "[encoded data removed]",
            "text/plain": [
              "<Figure size 288x216 with 2 Axes>"
            ]
          },
          "metadata": {
            "needs_background": "light"
          },
          "output_type": "display_data"
        },
        {
          "name": "stdout",
          "output_type": "stream",
          "text": [
            "\n"
          ]
        }
      ],
      "source": [
        "mt_NB = create_pipeline(MultinomialNB, best_params_mtnb)\n",
        "mt_NB.fit(X_train, y_train)\n",
        "preds = mt_NB.predict(X_test)\n",
        "plot_confusion_matrix(y_test, preds)"
      ]
    },
    {
      "cell_type": "markdown",
      "metadata": {
        "id": "mJfphXXwUVof"
      },
      "source": [
        "#### **Curva ROC-AUC**"
      ]
    },
    {
      "cell_type": "code",
      "execution_count": 62,
      "metadata": {
        "id": "M-RdAJE8UVog"
      },
      "outputs": [
        {
          "data": {
            "image/png": "[encoded data removed]",
            "text/plain": [
              "<Figure size 432x432 with 1 Axes>"
            ]
          },
          "metadata": {
            "needs_background": "light"
          },
          "output_type": "display_data"
        }
      ],
      "source": [
        "plot_roc_auc_cv_curve(X, y, MultinomialNB, best_params_mtnb, cv)"
      ]
    },
    {
      "cell_type": "markdown",
      "metadata": {
        "id": "CD1dIFQCYcHa"
      },
      "source": [
        "### **Bernoulli**\n",
        "\n",
        "Trabalha melhor com dados binários."
      ]
    },
    {
      "cell_type": "markdown",
      "metadata": {
        "id": "wWJ_R9wvYcHb"
      },
      "source": [
        "#### **GridSearchCV**"
      ]
    },
    {
      "cell_type": "code",
      "execution_count": 63,
      "metadata": {
        "id": "VV5brzR-YcHb"
      },
      "outputs": [
        {
          "data": {
            "text/html": [
              "<style>#sk-container-id-3 {\n",
              "  /* Definition of color scheme common for light and dark mode */\n",
              "  --sklearn-color-text: black;\n",
              "  --sklearn-color-line: gray;\n",
              "  /* Definition of color scheme for unfitted estimators */\n",
              "  --sklearn-color-unfitted-level-0: #fff5e6;\n",
              "  --sklearn-color-unfitted-level-1: #f6e4d2;\n",
              "  --sklearn-color-unfitted-level-2: #ffe0b3;\n",
              "  --sklearn-color-unfitted-level-3: chocolate;\n",
              "  /* Definition of color scheme for fitted estimators */\n",
              "  --sklearn-color-fitted-level-0: #f0f8ff;\n",
              "  --sklearn-color-fitted-level-1: #d4ebff;\n",
              "  --sklearn-color-fitted-level-2: #b3dbfd;\n",
              "  --sklearn-color-fitted-level-3: cornflowerblue;\n",
              "\n",
              "  /* Specific color for light theme */\n",
              "  --sklearn-color-text-on-default-background: var(--sg-text-color, var(--theme-code-foreground, var(--jp-content-font-color1, black)));\n",
              "  --sklearn-color-background: var(--sg-background-color, var(--theme-background, var(--jp-layout-color0, white)));\n",
              "  --sklearn-color-border-box: var(--sg-text-color, var(--theme-code-foreground, var(--jp-content-font-color1, black)));\n",
              "  --sklearn-color-icon: #696969;\n",
              "\n",
              "  @media (prefers-color-scheme: dark) {\n",
              "    /* Redefinition of color scheme for dark theme */\n",
              "    --sklearn-color-text-on-default-background: var(--sg-text-color, var(--theme-code-foreground, var(--jp-content-font-color1, white)));\n",
              "    --sklearn-color-background: var(--sg-background-color, var(--theme-background, var(--jp-layout-color0, #111)));\n",
              "    --sklearn-color-border-box: var(--sg-text-color, var(--theme-code-foreground, var(--jp-content-font-color1, white)));\n",
              "    --sklearn-color-icon: #878787;\n",
              "  }\n",
              "}\n",
              "\n",
              "#sk-container-id-3 {\n",
              "  color: var(--sklearn-color-text);\n",
              "}\n",
              "\n",
              "#sk-container-id-3 pre {\n",
              "  padding: 0;\n",
              "}\n",
              "\n",
              "#sk-container-id-3 input.sk-hidden--visually {\n",
              "  border: 0;\n",
              "  clip: rect(1px 1px 1px 1px);\n",
              "  clip: rect(1px, 1px, 1px, 1px);\n",
              "  height: 1px;\n",
              "  margin: -1px;\n",
              "  overflow: hidden;\n",
              "  padding: 0;\n",
              "  position: absolute;\n",
              "  width: 1px;\n",
              "}\n",
              "\n",
              "#sk-container-id-3 div.sk-dashed-wrapped {\n",
              "  border: 1px dashed var(--sklearn-color-line);\n",
              "  margin: 0 0.4em 0.5em 0.4em;\n",
              "  box-sizing: border-box;\n",
              "  padding-bottom: 0.4em;\n",
              "  background-color: var(--sklearn-color-background);\n",
              "}\n",
              "\n",
              "#sk-container-id-3 div.sk-container {\n",
              "  /* jupyter's `normalize.less` sets `[hidden] { display: none; }`\n",
              "     but bootstrap.min.css set `[hidden] { display: none !important; }`\n",
              "     so we also need the `!important` here to be able to override the\n",
              "     default hidden behavior on the sphinx rendered scikit-learn.org.\n",
              "     See: https://github.com/scikit-learn/scikit-learn/issues/21755 */\n",
              "  display: inline-block !important;\n",
              "  position: relative;\n",
              "}\n",
              "\n",
              "#sk-container-id-3 div.sk-text-repr-fallback {\n",
              "  display: none;\n",
              "}\n",
              "\n",
              "div.sk-parallel-item,\n",
              "div.sk-serial,\n",
              "div.sk-item {\n",
              "  /* draw centered vertical line to link estimators */\n",
              "  background-image: linear-gradient(var(--sklearn-color-text-on-default-background), var(--sklearn-color-text-on-default-background));\n",
              "  background-size: 2px 100%;\n",
              "  background-repeat: no-repeat;\n",
              "  background-position: center center;\n",
              "}\n",
              "\n",
              "/* Parallel-specific style estimator block */\n",
              "\n",
              "#sk-container-id-3 div.sk-parallel-item::after {\n",
              "  content: \"\";\n",
              "  width: 100%;\n",
              "  border-bottom: 2px solid var(--sklearn-color-text-on-default-background);\n",
              "  flex-grow: 1;\n",
              "}\n",
              "\n",
              "#sk-container-id-3 div.sk-parallel {\n",
              "  display: flex;\n",
              "  align-items: stretch;\n",
              "  justify-content: center;\n",
              "  background-color: var(--sklearn-color-background);\n",
              "  position: relative;\n",
              "}\n",
              "\n",
              "#sk-container-id-3 div.sk-parallel-item {\n",
              "  display: flex;\n",
              "  flex-direction: column;\n",
              "}\n",
              "\n",
              "#sk-container-id-3 div.sk-parallel-item:first-child::after {\n",
              "  align-self: flex-end;\n",
              "  width: 50%;\n",
              "}\n",
              "\n",
              "#sk-container-id-3 div.sk-parallel-item:last-child::after {\n",
              "  align-self: flex-start;\n",
              "  width: 50%;\n",
              "}\n",
              "\n",
              "#sk-container-id-3 div.sk-parallel-item:only-child::after {\n",
              "  width: 0;\n",
              "}\n",
              "\n",
              "/* Serial-specific style estimator block */\n",
              "\n",
              "#sk-container-id-3 div.sk-serial {\n",
              "  display: flex;\n",
              "  flex-direction: column;\n",
              "  align-items: center;\n",
              "  background-color: var(--sklearn-color-background);\n",
              "  padding-right: 1em;\n",
              "  padding-left: 1em;\n",
              "}\n",
              "\n",
              "\n",
              "/* Toggleable style: style used for estimator/Pipeline/ColumnTransformer box that is\n",
              "clickable and can be expanded/collapsed.\n",
              "- Pipeline and ColumnTransformer use this feature and define the default style\n",
              "- Estimators will overwrite some part of the style using the `sk-estimator` class\n",
              "*/\n",
              "\n",
              "/* Pipeline and ColumnTransformer style (default) */\n",
              "\n",
              "#sk-container-id-3 div.sk-toggleable {\n",
              "  /* Default theme specific background. It is overwritten whether we have a\n",
              "  specific estimator or a Pipeline/ColumnTransformer */\n",
              "  background-color: var(--sklearn-color-background);\n",
              "}\n",
              "\n",
              "/* Toggleable label */\n",
              "#sk-container-id-3 label.sk-toggleable__label {\n",
              "  cursor: pointer;\n",
              "  display: block;\n",
              "  width: 100%;\n",
              "  margin-bottom: 0;\n",
              "  padding: 0.5em;\n",
              "  box-sizing: border-box;\n",
              "  text-align: center;\n",
              "}\n",
              "\n",
              "#sk-container-id-3 label.sk-toggleable__label-arrow:before {\n",
              "  /* Arrow on the left of the label */\n",
              "  content: \"▸\";\n",
              "  float: left;\n",
              "  margin-right: 0.25em;\n",
              "  color: var(--sklearn-color-icon);\n",
              "}\n",
              "\n",
              "#sk-container-id-3 label.sk-toggleable__label-arrow:hover:before {\n",
              "  color: var(--sklearn-color-text);\n",
              "}\n",
              "\n",
              "/* Toggleable content - dropdown */\n",
              "\n",
              "#sk-container-id-3 div.sk-toggleable__content {\n",
              "  max-height: 0;\n",
              "  max-width: 0;\n",
              "  overflow: hidden;\n",
              "  text-align: left;\n",
              "  /* unfitted */\n",
              "  background-color: var(--sklearn-color-unfitted-level-0);\n",
              "}\n",
              "\n",
              "#sk-container-id-3 div.sk-toggleable__content.fitted {\n",
              "  /* fitted */\n",
              "  background-color: var(--sklearn-color-fitted-level-0);\n",
              "}\n",
              "\n",
              "#sk-container-id-3 div.sk-toggleable__content pre {\n",
              "  margin: 0.2em;\n",
              "  border-radius: 0.25em;\n",
              "  color: var(--sklearn-color-text);\n",
              "  /* unfitted */\n",
              "  background-color: var(--sklearn-color-unfitted-level-0);\n",
              "}\n",
              "\n",
              "#sk-container-id-3 div.sk-toggleable__content.fitted pre {\n",
              "  /* unfitted */\n",
              "  background-color: var(--sklearn-color-fitted-level-0);\n",
              "}\n",
              "\n",
              "#sk-container-id-3 input.sk-toggleable__control:checked~div.sk-toggleable__content {\n",
              "  /* Expand drop-down */\n",
              "  max-height: 200px;\n",
              "  max-width: 100%;\n",
              "  overflow: auto;\n",
              "}\n",
              "\n",
              "#sk-container-id-3 input.sk-toggleable__control:checked~label.sk-toggleable__label-arrow:before {\n",
              "  content: \"▾\";\n",
              "}\n",
              "\n",
              "/* Pipeline/ColumnTransformer-specific style */\n",
              "\n",
              "#sk-container-id-3 div.sk-label input.sk-toggleable__control:checked~label.sk-toggleable__label {\n",
              "  color: var(--sklearn-color-text);\n",
              "  background-color: var(--sklearn-color-unfitted-level-2);\n",
              "}\n",
              "\n",
              "#sk-container-id-3 div.sk-label.fitted input.sk-toggleable__control:checked~label.sk-toggleable__label {\n",
              "  background-color: var(--sklearn-color-fitted-level-2);\n",
              "}\n",
              "\n",
              "/* Estimator-specific style */\n",
              "\n",
              "/* Colorize estimator box */\n",
              "#sk-container-id-3 div.sk-estimator input.sk-toggleable__control:checked~label.sk-toggleable__label {\n",
              "  /* unfitted */\n",
              "  background-color: var(--sklearn-color-unfitted-level-2);\n",
              "}\n",
              "\n",
              "#sk-container-id-3 div.sk-estimator.fitted input.sk-toggleable__control:checked~label.sk-toggleable__label {\n",
              "  /* fitted */\n",
              "  background-color: var(--sklearn-color-fitted-level-2);\n",
              "}\n",
              "\n",
              "#sk-container-id-3 div.sk-label label.sk-toggleable__label,\n",
              "#sk-container-id-3 div.sk-label label {\n",
              "  /* The background is the default theme color */\n",
              "  color: var(--sklearn-color-text-on-default-background);\n",
              "}\n",
              "\n",
              "/* On hover, darken the color of the background */\n",
              "#sk-container-id-3 div.sk-label:hover label.sk-toggleable__label {\n",
              "  color: var(--sklearn-color-text);\n",
              "  background-color: var(--sklearn-color-unfitted-level-2);\n",
              "}\n",
              "\n",
              "/* Label box, darken color on hover, fitted */\n",
              "#sk-container-id-3 div.sk-label.fitted:hover label.sk-toggleable__label.fitted {\n",
              "  color: var(--sklearn-color-text);\n",
              "  background-color: var(--sklearn-color-fitted-level-2);\n",
              "}\n",
              "\n",
              "/* Estimator label */\n",
              "\n",
              "#sk-container-id-3 div.sk-label label {\n",
              "  font-family: monospace;\n",
              "  font-weight: bold;\n",
              "  display: inline-block;\n",
              "  line-height: 1.2em;\n",
              "}\n",
              "\n",
              "#sk-container-id-3 div.sk-label-container {\n",
              "  text-align: center;\n",
              "}\n",
              "\n",
              "/* Estimator-specific */\n",
              "#sk-container-id-3 div.sk-estimator {\n",
              "  font-family: monospace;\n",
              "  border: 1px dotted var(--sklearn-color-border-box);\n",
              "  border-radius: 0.25em;\n",
              "  box-sizing: border-box;\n",
              "  margin-bottom: 0.5em;\n",
              "  /* unfitted */\n",
              "  background-color: var(--sklearn-color-unfitted-level-0);\n",
              "}\n",
              "\n",
              "#sk-container-id-3 div.sk-estimator.fitted {\n",
              "  /* fitted */\n",
              "  background-color: var(--sklearn-color-fitted-level-0);\n",
              "}\n",
              "\n",
              "/* on hover */\n",
              "#sk-container-id-3 div.sk-estimator:hover {\n",
              "  /* unfitted */\n",
              "  background-color: var(--sklearn-color-unfitted-level-2);\n",
              "}\n",
              "\n",
              "#sk-container-id-3 div.sk-estimator.fitted:hover {\n",
              "  /* fitted */\n",
              "  background-color: var(--sklearn-color-fitted-level-2);\n",
              "}\n",
              "\n",
              "/* Specification for estimator info (e.g. \"i\" and \"?\") */\n",
              "\n",
              "/* Common style for \"i\" and \"?\" */\n",
              "\n",
              ".sk-estimator-doc-link,\n",
              "a:link.sk-estimator-doc-link,\n",
              "a:visited.sk-estimator-doc-link {\n",
              "  float: right;\n",
              "  font-size: smaller;\n",
              "  line-height: 1em;\n",
              "  font-family: monospace;\n",
              "  background-color: var(--sklearn-color-background);\n",
              "  border-radius: 1em;\n",
              "  height: 1em;\n",
              "  width: 1em;\n",
              "  text-decoration: none !important;\n",
              "  margin-left: 1ex;\n",
              "  /* unfitted */\n",
              "  border: var(--sklearn-color-unfitted-level-1) 1pt solid;\n",
              "  color: var(--sklearn-color-unfitted-level-1);\n",
              "}\n",
              "\n",
              ".sk-estimator-doc-link.fitted,\n",
              "a:link.sk-estimator-doc-link.fitted,\n",
              "a:visited.sk-estimator-doc-link.fitted {\n",
              "  /* fitted */\n",
              "  border: var(--sklearn-color-fitted-level-1) 1pt solid;\n",
              "  color: var(--sklearn-color-fitted-level-1);\n",
              "}\n",
              "\n",
              "/* On hover */\n",
              "div.sk-estimator:hover .sk-estimator-doc-link:hover,\n",
              ".sk-estimator-doc-link:hover,\n",
              "div.sk-label-container:hover .sk-estimator-doc-link:hover,\n",
              ".sk-estimator-doc-link:hover {\n",
              "  /* unfitted */\n",
              "  background-color: var(--sklearn-color-unfitted-level-3);\n",
              "  color: var(--sklearn-color-background);\n",
              "  text-decoration: none;\n",
              "}\n",
              "\n",
              "div.sk-estimator.fitted:hover .sk-estimator-doc-link.fitted:hover,\n",
              ".sk-estimator-doc-link.fitted:hover,\n",
              "div.sk-label-container:hover .sk-estimator-doc-link.fitted:hover,\n",
              ".sk-estimator-doc-link.fitted:hover {\n",
              "  /* fitted */\n",
              "  background-color: var(--sklearn-color-fitted-level-3);\n",
              "  color: var(--sklearn-color-background);\n",
              "  text-decoration: none;\n",
              "}\n",
              "\n",
              "/* Span, style for the box shown on hovering the info icon */\n",
              ".sk-estimator-doc-link span {\n",
              "  display: none;\n",
              "  z-index: 9999;\n",
              "  position: relative;\n",
              "  font-weight: normal;\n",
              "  right: .2ex;\n",
              "  padding: .5ex;\n",
              "  margin: .5ex;\n",
              "  width: min-content;\n",
              "  min-width: 20ex;\n",
              "  max-width: 50ex;\n",
              "  color: var(--sklearn-color-text);\n",
              "  box-shadow: 2pt 2pt 4pt #999;\n",
              "  /* unfitted */\n",
              "  background: var(--sklearn-color-unfitted-level-0);\n",
              "  border: .5pt solid var(--sklearn-color-unfitted-level-3);\n",
              "}\n",
              "\n",
              ".sk-estimator-doc-link.fitted span {\n",
              "  /* fitted */\n",
              "  background: var(--sklearn-color-fitted-level-0);\n",
              "  border: var(--sklearn-color-fitted-level-3);\n",
              "}\n",
              "\n",
              ".sk-estimator-doc-link:hover span {\n",
              "  display: block;\n",
              "}\n",
              "\n",
              "/* \"?\"-specific style due to the `<a>` HTML tag */\n",
              "\n",
              "#sk-container-id-3 a.estimator_doc_link {\n",
              "  float: right;\n",
              "  font-size: 1rem;\n",
              "  line-height: 1em;\n",
              "  font-family: monospace;\n",
              "  background-color: var(--sklearn-color-background);\n",
              "  border-radius: 1rem;\n",
              "  height: 1rem;\n",
              "  width: 1rem;\n",
              "  text-decoration: none;\n",
              "  /* unfitted */\n",
              "  color: var(--sklearn-color-unfitted-level-1);\n",
              "  border: var(--sklearn-color-unfitted-level-1) 1pt solid;\n",
              "}\n",
              "\n",
              "#sk-container-id-3 a.estimator_doc_link.fitted {\n",
              "  /* fitted */\n",
              "  border: var(--sklearn-color-fitted-level-1) 1pt solid;\n",
              "  color: var(--sklearn-color-fitted-level-1);\n",
              "}\n",
              "\n",
              "/* On hover */\n",
              "#sk-container-id-3 a.estimator_doc_link:hover {\n",
              "  /* unfitted */\n",
              "  background-color: var(--sklearn-color-unfitted-level-3);\n",
              "  color: var(--sklearn-color-background);\n",
              "  text-decoration: none;\n",
              "}\n",
              "\n",
              "#sk-container-id-3 a.estimator_doc_link.fitted:hover {\n",
              "  /* fitted */\n",
              "  background-color: var(--sklearn-color-fitted-level-3);\n",
              "}\n",
              "</style><div id=\"sk-container-id-3\" class=\"sk-top-container\"><div class=\"sk-text-repr-fallback\"><pre>GridSearchCV(cv=StratifiedKFold(n_splits=10, random_state=42, shuffle=True),\n",
              "             estimator=Pipeline(steps=[(&#x27;preprocess&#x27;,\n",
              "                                        ColumnTransformer(remainder=&#x27;passthrough&#x27;,\n",
              "                                                          transformers=[(&#x27;cat&#x27;,\n",
              "                                                                         OneHotEncoder(cols=[&#x27;FUEL&#x27;],\n",
              "                                                                                       use_cat_names=True),\n",
              "                                                                         [&#x27;FUEL&#x27;]),\n",
              "                                                                        (&#x27;num&#x27;,\n",
              "                                                                         Pipeline(steps=[(&#x27;minmaxscaler&#x27;,\n",
              "                                                                                          MinMaxScaler())]),\n",
              "                                                                         [&#x27;SIZE&#x27;,\n",
              "                                                                          &#x27;DISTANCE&#x27;,\n",
              "                                                                          &#x27;DESIBEL&#x27;,\n",
              "                                                                          &#x27;AIRFLOW&#x27;,\n",
              "                                                                          &#x27;FREQUENCY&#x27;])],\n",
              "                                                          verbose_feature_names_out=False)),\n",
              "                                       (&#x27;classifier&#x27;, BernoulliNB())]),\n",
              "             n_jobs=-1,\n",
              "             param_grid={&#x27;classifier__alpha&#x27;: [0.0, 0.001, 0.01, 0.05, 0.1, 0.5,\n",
              "                                               1.0, 2.0, 5.0, 10.0],\n",
              "                         &#x27;classifier__binarize&#x27;: [None, 1.0, 2.0, 5.0, 8.5,\n",
              "                                                  10.0]},\n",
              "             refit=False,\n",
              "             scoring=[&#x27;accuracy&#x27;, &#x27;precision&#x27;, &#x27;recall&#x27;, &#x27;f1&#x27;, &#x27;roc_auc&#x27;])</pre><b>In a Jupyter environment, please rerun this cell to show the HTML representation or trust the notebook. <br />On GitHub, the HTML representation is unable to render, please try loading this page with nbviewer.org.</b></div><div class=\"sk-container\" hidden><div class=\"sk-item sk-dashed-wrapped\"><div class=\"sk-label-container\"><div class=\"sk-label fitted sk-toggleable\"><input class=\"sk-toggleable__control sk-hidden--visually\" id=\"sk-estimator-id-21\" type=\"checkbox\" ><label for=\"sk-estimator-id-21\" class=\"sk-toggleable__label fitted sk-toggleable__label-arrow fitted\">&nbsp;&nbsp;GridSearchCV<a class=\"sk-estimator-doc-link fitted\" rel=\"noreferrer\" target=\"_blank\" href=\"https://scikit-learn.org/1.4/modules/generated/sklearn.model_selection.GridSearchCV.html\">?<span>Documentation for GridSearchCV</span></a><span class=\"sk-estimator-doc-link fitted\">i<span>Fitted</span></span></label><div class=\"sk-toggleable__content fitted\"><pre>GridSearchCV(cv=StratifiedKFold(n_splits=10, random_state=42, shuffle=True),\n",
              "             estimator=Pipeline(steps=[(&#x27;preprocess&#x27;,\n",
              "                                        ColumnTransformer(remainder=&#x27;passthrough&#x27;,\n",
              "                                                          transformers=[(&#x27;cat&#x27;,\n",
              "                                                                         OneHotEncoder(cols=[&#x27;FUEL&#x27;],\n",
              "                                                                                       use_cat_names=True),\n",
              "                                                                         [&#x27;FUEL&#x27;]),\n",
              "                                                                        (&#x27;num&#x27;,\n",
              "                                                                         Pipeline(steps=[(&#x27;minmaxscaler&#x27;,\n",
              "                                                                                          MinMaxScaler())]),\n",
              "                                                                         [&#x27;SIZE&#x27;,\n",
              "                                                                          &#x27;DISTANCE&#x27;,\n",
              "                                                                          &#x27;DESIBEL&#x27;,\n",
              "                                                                          &#x27;AIRFLOW&#x27;,\n",
              "                                                                          &#x27;FREQUENCY&#x27;])],\n",
              "                                                          verbose_feature_names_out=False)),\n",
              "                                       (&#x27;classifier&#x27;, BernoulliNB())]),\n",
              "             n_jobs=-1,\n",
              "             param_grid={&#x27;classifier__alpha&#x27;: [0.0, 0.001, 0.01, 0.05, 0.1, 0.5,\n",
              "                                               1.0, 2.0, 5.0, 10.0],\n",
              "                         &#x27;classifier__binarize&#x27;: [None, 1.0, 2.0, 5.0, 8.5,\n",
              "                                                  10.0]},\n",
              "             refit=False,\n",
              "             scoring=[&#x27;accuracy&#x27;, &#x27;precision&#x27;, &#x27;recall&#x27;, &#x27;f1&#x27;, &#x27;roc_auc&#x27;])</pre></div> </div></div><div class=\"sk-parallel\"><div class=\"sk-parallel-item\"><div class=\"sk-item\"><div class=\"sk-label-container\"><div class=\"sk-label fitted sk-toggleable\"><input class=\"sk-toggleable__control sk-hidden--visually\" id=\"sk-estimator-id-22\" type=\"checkbox\" ><label for=\"sk-estimator-id-22\" class=\"sk-toggleable__label fitted sk-toggleable__label-arrow fitted\">estimator: Pipeline</label><div class=\"sk-toggleable__content fitted\"><pre>Pipeline(steps=[(&#x27;preprocess&#x27;,\n",
              "                 ColumnTransformer(remainder=&#x27;passthrough&#x27;,\n",
              "                                   transformers=[(&#x27;cat&#x27;,\n",
              "                                                  OneHotEncoder(cols=[&#x27;FUEL&#x27;],\n",
              "                                                                use_cat_names=True),\n",
              "                                                  [&#x27;FUEL&#x27;]),\n",
              "                                                 (&#x27;num&#x27;,\n",
              "                                                  Pipeline(steps=[(&#x27;minmaxscaler&#x27;,\n",
              "                                                                   MinMaxScaler())]),\n",
              "                                                  [&#x27;SIZE&#x27;, &#x27;DISTANCE&#x27;,\n",
              "                                                   &#x27;DESIBEL&#x27;, &#x27;AIRFLOW&#x27;,\n",
              "                                                   &#x27;FREQUENCY&#x27;])],\n",
              "                                   verbose_feature_names_out=False)),\n",
              "                (&#x27;classifier&#x27;, BernoulliNB())])</pre></div> </div></div><div class=\"sk-serial\"><div class=\"sk-item\"><div class=\"sk-serial\"><div class=\"sk-item sk-dashed-wrapped\"><div class=\"sk-label-container\"><div class=\"sk-label fitted sk-toggleable\"><input class=\"sk-toggleable__control sk-hidden--visually\" id=\"sk-estimator-id-23\" type=\"checkbox\" ><label for=\"sk-estimator-id-23\" class=\"sk-toggleable__label fitted sk-toggleable__label-arrow fitted\">&nbsp;preprocess: ColumnTransformer<a class=\"sk-estimator-doc-link fitted\" rel=\"noreferrer\" target=\"_blank\" href=\"https://scikit-learn.org/1.4/modules/generated/sklearn.compose.ColumnTransformer.html\">?<span>Documentation for preprocess: ColumnTransformer</span></a></label><div class=\"sk-toggleable__content fitted\"><pre>ColumnTransformer(remainder=&#x27;passthrough&#x27;,\n",
              "                  transformers=[(&#x27;cat&#x27;,\n",
              "                                 OneHotEncoder(cols=[&#x27;FUEL&#x27;],\n",
              "                                               use_cat_names=True),\n",
              "                                 [&#x27;FUEL&#x27;]),\n",
              "                                (&#x27;num&#x27;,\n",
              "                                 Pipeline(steps=[(&#x27;minmaxscaler&#x27;,\n",
              "                                                  MinMaxScaler())]),\n",
              "                                 [&#x27;SIZE&#x27;, &#x27;DISTANCE&#x27;, &#x27;DESIBEL&#x27;, &#x27;AIRFLOW&#x27;,\n",
              "                                  &#x27;FREQUENCY&#x27;])],\n",
              "                  verbose_feature_names_out=False)</pre></div> </div></div><div class=\"sk-parallel\"><div class=\"sk-parallel-item\"><div class=\"sk-item\"><div class=\"sk-label-container\"><div class=\"sk-label fitted sk-toggleable\"><input class=\"sk-toggleable__control sk-hidden--visually\" id=\"sk-estimator-id-24\" type=\"checkbox\" ><label for=\"sk-estimator-id-24\" class=\"sk-toggleable__label fitted sk-toggleable__label-arrow fitted\">cat</label><div class=\"sk-toggleable__content fitted\"><pre>[&#x27;FUEL&#x27;]</pre></div> </div></div><div class=\"sk-serial\"><div class=\"sk-item\"><div class=\"sk-estimator fitted sk-toggleable\"><input class=\"sk-toggleable__control sk-hidden--visually\" id=\"sk-estimator-id-25\" type=\"checkbox\" ><label for=\"sk-estimator-id-25\" class=\"sk-toggleable__label fitted sk-toggleable__label-arrow fitted\">OneHotEncoder</label><div class=\"sk-toggleable__content fitted\"><pre>OneHotEncoder(cols=[&#x27;FUEL&#x27;], use_cat_names=True)</pre></div> </div></div></div></div></div><div class=\"sk-parallel-item\"><div class=\"sk-item\"><div class=\"sk-label-container\"><div class=\"sk-label fitted sk-toggleable\"><input class=\"sk-toggleable__control sk-hidden--visually\" id=\"sk-estimator-id-26\" type=\"checkbox\" ><label for=\"sk-estimator-id-26\" class=\"sk-toggleable__label fitted sk-toggleable__label-arrow fitted\">num</label><div class=\"sk-toggleable__content fitted\"><pre>[&#x27;SIZE&#x27;, &#x27;DISTANCE&#x27;, &#x27;DESIBEL&#x27;, &#x27;AIRFLOW&#x27;, &#x27;FREQUENCY&#x27;]</pre></div> </div></div><div class=\"sk-serial\"><div class=\"sk-item\"><div class=\"sk-serial\"><div class=\"sk-item\"><div class=\"sk-estimator fitted sk-toggleable\"><input class=\"sk-toggleable__control sk-hidden--visually\" id=\"sk-estimator-id-27\" type=\"checkbox\" ><label for=\"sk-estimator-id-27\" class=\"sk-toggleable__label fitted sk-toggleable__label-arrow fitted\">&nbsp;MinMaxScaler<a class=\"sk-estimator-doc-link fitted\" rel=\"noreferrer\" target=\"_blank\" href=\"https://scikit-learn.org/1.4/modules/generated/sklearn.preprocessing.MinMaxScaler.html\">?<span>Documentation for MinMaxScaler</span></a></label><div class=\"sk-toggleable__content fitted\"><pre>MinMaxScaler()</pre></div> </div></div></div></div></div></div></div><div class=\"sk-parallel-item\"><div class=\"sk-item\"><div class=\"sk-label-container\"><div class=\"sk-label fitted sk-toggleable\"><input class=\"sk-toggleable__control sk-hidden--visually\" id=\"sk-estimator-id-28\" type=\"checkbox\" ><label for=\"sk-estimator-id-28\" class=\"sk-toggleable__label fitted sk-toggleable__label-arrow fitted\">remainder</label><div class=\"sk-toggleable__content fitted\"><pre></pre></div> </div></div><div class=\"sk-serial\"><div class=\"sk-item\"><div class=\"sk-estimator fitted sk-toggleable\"><input class=\"sk-toggleable__control sk-hidden--visually\" id=\"sk-estimator-id-29\" type=\"checkbox\" ><label for=\"sk-estimator-id-29\" class=\"sk-toggleable__label fitted sk-toggleable__label-arrow fitted\">passthrough</label><div class=\"sk-toggleable__content fitted\"><pre>passthrough</pre></div> </div></div></div></div></div></div></div><div class=\"sk-item\"><div class=\"sk-estimator fitted sk-toggleable\"><input class=\"sk-toggleable__control sk-hidden--visually\" id=\"sk-estimator-id-30\" type=\"checkbox\" ><label for=\"sk-estimator-id-30\" class=\"sk-toggleable__label fitted sk-toggleable__label-arrow fitted\">&nbsp;BernoulliNB<a class=\"sk-estimator-doc-link fitted\" rel=\"noreferrer\" target=\"_blank\" href=\"https://scikit-learn.org/1.4/modules/generated/sklearn.naive_bayes.BernoulliNB.html\">?<span>Documentation for BernoulliNB</span></a></label><div class=\"sk-toggleable__content fitted\"><pre>BernoulliNB()</pre></div> </div></div></div></div></div></div></div></div></div></div></div>"
            ],
            "text/plain": [
              "GridSearchCV(cv=StratifiedKFold(n_splits=10, random_state=42, shuffle=True),\n",
              "             estimator=Pipeline(steps=[('preprocess',\n",
              "                                        ColumnTransformer(remainder='passthrough',\n",
              "                                                          transformers=[('cat',\n",
              "                                                                         OneHotEncoder(cols=['FUEL'],\n",
              "                                                                                       use_cat_names=True),\n",
              "                                                                         ['FUEL']),\n",
              "                                                                        ('num',\n",
              "                                                                         Pipeline(steps=[('minmaxscaler',\n",
              "                                                                                          MinMaxScaler())]),\n",
              "                                                                         ['SIZE',\n",
              "                                                                          'DISTANCE',\n",
              "                                                                          'DESIBEL',\n",
              "                                                                          'AIRFLOW',\n",
              "                                                                          'FREQUENCY'])],\n",
              "                                                          verbose_feature_names_out=False)),\n",
              "                                       ('classifier', BernoulliNB())]),\n",
              "             n_jobs=-1,\n",
              "             param_grid={'classifier__alpha': [0.0, 0.001, 0.01, 0.05, 0.1, 0.5,\n",
              "                                               1.0, 2.0, 5.0, 10.0],\n",
              "                         'classifier__binarize': [None, 1.0, 2.0, 5.0, 8.5,\n",
              "                                                  10.0]},\n",
              "             refit=False,\n",
              "             scoring=['accuracy', 'precision', 'recall', 'f1', 'roc_auc'])"
            ]
          },
          "execution_count": 63,
          "metadata": {},
          "output_type": "execute_result"
        }
      ],
      "source": [
        "param_grid = {\n",
        "    'classifier__alpha': [0.0, 0.001, 0.01, 0.05, 0.1, 0.5, 1.0, 2.0, 5.0, 10.0],\n",
        "    'classifier__binarize': [None, 1.0, 2.0, 5.0, 8.5, 10.0]\n",
        "}\n",
        "\n",
        "bn_NB = create_pipeline(BernoulliNB)\n",
        "\n",
        "grid_search = GridSearchCV(bn_NB, param_grid, scoring=SCORING, cv=cv, n_jobs=-1, refit=False)\n",
        "grid_search.fit(X, y)"
      ]
    },
    {
      "cell_type": "code",
      "execution_count": 64,
      "metadata": {
        "id": "KOemzZrvYcHb"
      },
      "outputs": [
        {
          "name": "stdout",
          "output_type": "stream",
          "text": [
            "Principal métrica: mean_test_accuracy\n",
            "\n",
            "Melhores parâmetros: \n",
            "\talpha=10.0\n",
            "\tbinarize=None\n",
            "Melhores métricas:\n",
            "\tAcurácia: 87.56%\n",
            "\tPrecisão: 89.50%\n",
            "\tRecall: 84.99%\n",
            "\tF1: 87.19%\n",
            "\tROC-AUC: 95.35%\n"
          ]
        }
      ],
      "source": [
        "best_params_bnnb = get_pipeline_gscv_results(grid_search)"
      ]
    },
    {
      "cell_type": "markdown",
      "metadata": {
        "id": "HI4C0CklYcHc"
      },
      "source": [
        "#### **Matriz de Confusão**"
      ]
    },
    {
      "cell_type": "code",
      "execution_count": 65,
      "metadata": {
        "id": "zhIf9YvCMoPH"
      },
      "outputs": [
        {
          "data": {
            "image/png": "[encoded data removed]",
            "text/plain": [
              "<Figure size 288x216 with 2 Axes>"
            ]
          },
          "metadata": {
            "needs_background": "light"
          },
          "output_type": "display_data"
        },
        {
          "name": "stdout",
          "output_type": "stream",
          "text": [
            "\n"
          ]
        },
        {
          "data": {
            "image/png": "[encoded data removed]",
            "text/plain": [
              "<Figure size 288x216 with 2 Axes>"
            ]
          },
          "metadata": {
            "needs_background": "light"
          },
          "output_type": "display_data"
        },
        {
          "name": "stdout",
          "output_type": "stream",
          "text": [
            "\n"
          ]
        }
      ],
      "source": [
        "bn_NB = create_pipeline(BernoulliNB, best_params_bnnb)\n",
        "bn_NB.fit(X_train, y_train)\n",
        "preds = bn_NB.predict(X_test)\n",
        "plot_confusion_matrix(y_test, preds)"
      ]
    },
    {
      "cell_type": "markdown",
      "metadata": {
        "id": "lHGTz-YnUc-l"
      },
      "source": [
        "#### **Curva ROC-AUC**"
      ]
    },
    {
      "cell_type": "code",
      "execution_count": 66,
      "metadata": {
        "id": "5UHUqBotUc-t"
      },
      "outputs": [
        {
          "data": {
            "image/png": "[encoded data removed]",
            "text/plain": [
              "<Figure size 432x432 with 1 Axes>"
            ]
          },
          "metadata": {
            "needs_background": "light"
          },
          "output_type": "display_data"
        }
      ],
      "source": [
        "plot_roc_auc_cv_curve(X, y, BernoulliNB, best_params_bnnb, cv)"
      ]
    },
    {
      "cell_type": "markdown",
      "metadata": {
        "id": "rz66D7FXLHoA"
      },
      "source": [
        "## **Resultados**\n",
        "\n",
        "1º: K-NN(n_neighbors=5, 'weights'='distance', metric='manhattan', p=2, leaf_size=25)\n",
        "\n",
        "\tAcurácia: 97.05%\n",
        "\tPrecisão: 97.22%\n",
        "\tRecall: 96.86%\n",
        "\tF1: 97.03%\n",
        "\tROC-AUC: 99.59%\n",
        "\n",
        "2º: 1-NN(n_nighbours=1)\n",
        "\n",
        "    Acurácia: 96.64%\n",
        "    Precisão: 96.60%\n",
        "    Recall: 96.66%\n",
        "    F1: 96.63%\n",
        "\tROC-AUC: 96.64%\n",
        "\n",
        "3º: GaussianNB(var_smoothing=0.657933224657568)\n",
        "\n",
        "\tAcurácia: 87.79%\n",
        "\tPrecisão: 90.18%\n",
        "\tRecall: 84.71%\n",
        "\tF1: 87.35%\n",
        "\tROC-AUC: 95.53%\n",
        "\n",
        "4º: MultinomialNB(alpha=5.0)\n",
        "\n",
        "\tAcurácia: 87.59%\n",
        "\tPrecisão: 89.56%\n",
        "\tRecall: 84.98%\n",
        "\tF1: 87.21%\n",
        "\tROC-AUC: 95.30%\n",
        "\n",
        "5º: BernoulliNB(alpha=10.0, binarize=None)\n",
        "\n",
        "\tAcurácia: 87.56%\n",
        "\tPrecisão: 89.50%\n",
        "\tRecall: 84.99%\n",
        "\tF1: 87.19%\n",
        "\tROC-AUC: 95.35%"
      ]
    },
    {
      "cell_type": "markdown",
      "metadata": {
        "id": "tSwZbrG4sW4z"
      },
      "source": [
        "# **Classificação - Redes Neurais Artificiais**"
      ]
    },
    {
      "cell_type": "markdown",
      "metadata": {
        "id": "0efz5NbOT0Tw"
      },
      "source": [
        "## **MLPClassifier**"
      ]
    },
    {
      "cell_type": "code",
      "execution_count": 67,
      "metadata": {
        "id": "j7ME1Ukk28o6"
      },
      "outputs": [],
      "source": [
        "cv = StratifiedKFold(n_splits=4, shuffle=True, random_state=42)"
      ]
    },
    {
      "cell_type": "code",
      "execution_count": 68,
      "metadata": {
        "id": "mEZta9DdEG2Y"
      },
      "outputs": [],
      "source": [
        "X_train, X_test, y_train, y_test = train_test_split(X, y, stratify=y, test_size=0.2,\n",
        "                                                    shuffle=True, random_state=42)"
      ]
    },
    {
      "cell_type": "markdown",
      "metadata": {
        "id": "r1n0yaKhVVik"
      },
      "source": [
        "### **1 Camada Oculta**"
      ]
    },
    {
      "cell_type": "code",
      "execution_count": 69,
      "metadata": {
        "id": "3JIzzx2Lsb-i"
      },
      "outputs": [
        {
          "name": "stderr",
          "output_type": "stream",
          "text": [
            "[I 2024-02-17 09:39:27,969] A new study created in memory with name: no-name-249b2204-16b0-4317-a787-6ccb4ba1ee66\n",
            "[I 2024-02-17 09:39:31,604] Trial 0 finished with values: [0.8978897347001886, 0.9044982869515223, 0.8887479383664433, 0.8965268643165137, 0.9676367502745554] and parameters: {'hidden_layer_sizes': (2,), 'activation': 'identity', 'solver': 'sgd', 'alpha': 8.926227381843726e-05, 'learning_rate': 'adaptive', 'learning_rate_init': 0.01120760621186057, 'max_iter': 140}. \n",
            "[I 2024-02-17 09:39:35,408] Trial 1 finished with values: [0.6357068438137032, 0.6176161939590665, 0.704482633456943, 0.6581371755811305, 0.7362474582481044] and parameters: {'hidden_layer_sizes': (7,), 'activation': 'tanh', 'solver': 'sgd', 'alpha': 1.9554371852085012e-05, 'learning_rate': 'invscaling', 'learning_rate_init': 0.0040665633135147945, 'max_iter': 100}. \n",
            "[I 2024-02-17 09:39:36,801] Trial 2 finished with values: [0.8966856194080559, 0.9048472686760964, 0.8858674356356411, 0.89504586689766, 0.9673903091303672] and parameters: {'hidden_layer_sizes': (6,), 'activation': 'identity', 'solver': 'adam', 'alpha': 0.029536813356812575, 'learning_rate': 'constant', 'learning_rate_init': 0.06978281265126034, 'max_iter': 100}. \n",
            "[I 2024-02-17 09:39:39,417] Trial 3 finished with values: [0.9383099838224125, 0.9400843989367902, 0.9358519932839037, 0.9379127882495103, 0.9883296913311556] and parameters: {'hidden_layer_sizes': (6,), 'activation': 'relu', 'solver': 'adam', 'alpha': 0.028670381406027644, 'learning_rate': 'adaptive', 'learning_rate_init': 0.025924756604751596, 'max_iter': 180}. \n",
            "[I 2024-02-17 09:39:41,144] Trial 4 finished with values: [0.9012150546230243, 0.9043446808627454, 0.896577953628369, 0.9003711863755962, 0.9700603156613122] and parameters: {'hidden_layer_sizes': (5,), 'activation': 'relu', 'solver': 'adam', 'alpha': 0.0013006590833121738, 'learning_rate': 'adaptive', 'learning_rate_init': 0.013260331922696548, 'max_iter': 180}. \n",
            "[I 2024-02-17 09:39:42,893] Trial 5 finished with values: [0.945763007811103, 0.9484810668060842, 0.9423029163226188, 0.9453037286075411, 0.9901035230904975] and parameters: {'hidden_layer_sizes': (7,), 'activation': 'tanh', 'solver': 'adam', 'alpha': 0.00010576869105669781, 'learning_rate': 'invscaling', 'learning_rate_init': 0.0723427984566542, 'max_iter': 180}. \n",
            "[I 2024-02-17 09:39:44,649] Trial 6 finished with values: [0.8975456585582382, 0.9020596739894938, 0.890935764062092, 0.8964423089096952, 0.9675881674851778] and parameters: {'hidden_layer_sizes': (5,), 'activation': 'identity', 'solver': 'adam', 'alpha': 0.07138306457394986, 'learning_rate': 'invscaling', 'learning_rate_init': 0.0027810936979265548, 'max_iter': 100}. \n",
            "[I 2024-02-17 09:39:45,998] Trial 7 finished with values: [0.8981763399102554, 0.9096362290259622, 0.8833339347536759, 0.8961971384658257, 0.9675721131615878] and parameters: {'hidden_layer_sizes': (7,), 'activation': 'identity', 'solver': 'sgd', 'alpha': 0.005359119432621761, 'learning_rate': 'constant', 'learning_rate_init': 0.06554382343546285, 'max_iter': 120}. \n",
            "[I 2024-02-17 09:39:47,208] Trial 8 finished with values: [0.8978897609966572, 0.9084159891188718, 0.8840263464563253, 0.8960540275134845, 0.9676959322157079] and parameters: {'hidden_layer_sizes': (3,), 'activation': 'identity', 'solver': 'sgd', 'alpha': 0.05492253282928624, 'learning_rate': 'constant', 'learning_rate_init': 0.01519798062003422, 'max_iter': 180}. \n",
            "[I 2024-02-17 09:39:48,963] Trial 9 finished with values: [0.8610823442354986, 0.8642868166761595, 0.8552341081750007, 0.8597349453173101, 0.9434647991012662] and parameters: {'hidden_layer_sizes': (6,), 'activation': 'identity', 'solver': 'sgd', 'alpha': 0.00014283542913498092, 'learning_rate': 'invscaling', 'learning_rate_init': 0.011463075602214, 'max_iter': 120}. \n",
            "[I 2024-02-17 09:39:51,358] Trial 10 finished with values: [0.9418071511668269, 0.9451267326102573, 0.9375803161489853, 0.9413096883660657, 0.9883499595936] and parameters: {'hidden_layer_sizes': (4,), 'activation': 'tanh', 'solver': 'adam', 'alpha': 0.0005853545643349268, 'learning_rate': 'invscaling', 'learning_rate_init': 0.06641911877713384, 'max_iter': 200}. \n",
            "[I 2024-02-17 09:39:53,173] Trial 11 finished with values: [0.9425525114179266, 0.9434677108260733, 0.9410355290836264, 0.9422024636041241, 0.9896613210589716] and parameters: {'hidden_layer_sizes': (7,), 'activation': 'tanh', 'solver': 'adam', 'alpha': 7.14825762955275e-05, 'learning_rate': 'invscaling', 'learning_rate_init': 0.06272223548864894, 'max_iter': 180}. \n",
            "[I 2024-02-17 09:39:57,617] Trial 12 finished with values: [0.9429539533058868, 0.9400781379894937, 0.9457563249962322, 0.9428491058772995, 0.9890662941311821] and parameters: {'hidden_layer_sizes': (7,), 'activation': 'logistic', 'solver': 'adam', 'alpha': 2.19885994198458e-05, 'learning_rate': 'invscaling', 'learning_rate_init': 0.033688356285668936, 'max_iter': 180}. \n",
            "[I 2024-02-17 09:40:02,875] Trial 13 finished with values: [0.9314311432231897, 0.9328084670444217, 0.9291750600182125, 0.9308396271344145, 0.9842108308311601] and parameters: {'hidden_layer_sizes': (7,), 'activation': 'logistic', 'solver': 'adam', 'alpha': 0.000369677181001838, 'learning_rate': 'constant', 'learning_rate_init': 0.02481438012957683, 'max_iter': 200}. \n",
            "[I 2024-02-17 09:40:04,486] Trial 14 finished with values: [0.9033936249997371, 0.9166043732474211, 0.886673409650037, 0.9013164524602737, 0.9722484973508229] and parameters: {'hidden_layer_sizes': (7,), 'activation': 'relu', 'solver': 'adam', 'alpha': 0.00011003436888958573, 'learning_rate': 'invscaling', 'learning_rate_init': 0.019269595403459332, 'max_iter': 140}. \n",
            "[I 2024-02-17 09:40:06,263] Trial 15 finished with values: [0.9384815814275407, 0.9460502740252064, 0.9295182941454914, 0.9376715763577598, 0.9876907506206001] and parameters: {'hidden_layer_sizes': (4,), 'activation': 'logistic', 'solver': 'adam', 'alpha': 6.976407763612102e-05, 'learning_rate': 'invscaling', 'learning_rate_init': 0.09568299286891568, 'max_iter': 120}. \n",
            "[I 2024-02-17 09:40:07,609] Trial 16 finished with values: [0.8987496555162628, 0.9074870301193834, 0.8870207298978787, 0.8971249306923327, 0.9674307516542545] and parameters: {'hidden_layer_sizes': (2,), 'activation': 'logistic', 'solver': 'adam', 'alpha': 2.4506800434385333e-05, 'learning_rate': 'invscaling', 'learning_rate_init': 0.017871319205038486, 'max_iter': 200}. \n",
            "[I 2024-02-17 09:40:09,210] Trial 17 finished with values: [0.8816646690116104, 0.9029720316915723, 0.8540819283092801, 0.8778183612631135, 0.959160861529564] and parameters: {'hidden_layer_sizes': (7,), 'activation': 'tanh', 'solver': 'sgd', 'alpha': 0.01833772197232242, 'learning_rate': 'invscaling', 'learning_rate_init': 0.02104405679908913, 'max_iter': 200}. \n",
            "[I 2024-02-17 09:40:10,540] Trial 18 finished with values: [0.8785112359550562, 0.8869698714917366, 0.866405986325824, 0.8765384708740254, 0.9579238983827617] and parameters: {'hidden_layer_sizes': (5,), 'activation': 'tanh', 'solver': 'sgd', 'alpha': 0.00021027541768994668, 'learning_rate': 'invscaling', 'learning_rate_init': 0.03281702383378845, 'max_iter': 160}. \n",
            "[I 2024-02-17 09:40:11,467] Trial 19 finished with values: [0.8969150297991582, 0.9016037735165428, 0.8905892398117625, 0.8957515179625861, 0.9665345982252611] and parameters: {'hidden_layer_sizes': (7,), 'activation': 'identity', 'solver': 'adam', 'alpha': 0.011258729522213387, 'learning_rate': 'invscaling', 'learning_rate_init': 0.05764110993043904, 'max_iter': 160}. \n",
            "[I 2024-02-17 09:40:13,980] Trial 20 finished with values: [0.9246065127937579, 0.9229924808896469, 0.925831339801786, 0.9243849324286606, 0.9826758749500195] and parameters: {'hidden_layer_sizes': (2,), 'activation': 'tanh', 'solver': 'adam', 'alpha': 1.2255338852622103e-05, 'learning_rate': 'adaptive', 'learning_rate_init': 0.04539146640618287, 'max_iter': 200}. \n",
            "[I 2024-02-17 09:40:16,740] Trial 21 finished with values: [0.9397432202444942, 0.9401445351469299, 0.9387308509531805, 0.939430458293052, 0.9885470648172483] and parameters: {'hidden_layer_sizes': (7,), 'activation': 'tanh', 'solver': 'sgd', 'alpha': 5.059380369892131e-05, 'learning_rate': 'constant', 'learning_rate_init': 0.06998686049706818, 'max_iter': 200}. \n",
            "[I 2024-02-17 09:40:18,911] Trial 22 finished with values: [0.9440428637695673, 0.9472537905928609, 0.9399983973916753, 0.9435744293781703, 0.9902863061244312] and parameters: {'hidden_layer_sizes': (7,), 'activation': 'tanh', 'solver': 'adam', 'alpha': 1.6576283826040238e-05, 'learning_rate': 'invscaling', 'learning_rate_init': 0.08436187520565507, 'max_iter': 160}. \n",
            "[I 2024-02-17 09:40:24,463] Trial 23 finished with values: [0.9419217906212067, 0.9397049763794276, 0.9439137499548934, 0.94178782593144, 0.9889869221160221] and parameters: {'hidden_layer_sizes': (7,), 'activation': 'logistic', 'solver': 'adam', 'alpha': 1.3657136480441186e-05, 'learning_rate': 'invscaling', 'learning_rate_init': 0.021757132671333154, 'max_iter': 160}. \n",
            "[I 2024-02-17 09:40:25,785] Trial 24 finished with values: [0.8983484108518163, 0.9003478859754026, 0.8948523371548289, 0.8975739407416476, 0.9674146898605342] and parameters: {'hidden_layer_sizes': (1,), 'activation': 'identity', 'solver': 'adam', 'alpha': 0.00012803173156036786, 'learning_rate': 'invscaling', 'learning_rate_init': 0.04151410608259569, 'max_iter': 160}. \n",
            "[I 2024-02-17 09:40:27,618] Trial 25 finished with values: [0.905973426892662, 0.9159892703049761, 0.8934669300180215, 0.9042634922453381, 0.9728534406388755] and parameters: {'hidden_layer_sizes': (7,), 'activation': 'relu', 'solver': 'adam', 'alpha': 0.00022432065406232093, 'learning_rate': 'invscaling', 'learning_rate_init': 0.02890910110109218, 'max_iter': 200}. \n",
            "[I 2024-02-17 09:40:28,859] Trial 26 finished with values: [0.8973736270613801, 0.8998951795689767, 0.8934677790820343, 0.8965535666898474, 0.9672789386266536] and parameters: {'hidden_layer_sizes': (3,), 'activation': 'relu', 'solver': 'adam', 'alpha': 5.132285194897349e-05, 'learning_rate': 'invscaling', 'learning_rate_init': 0.09296809914048149, 'max_iter': 160}. \n",
            "[I 2024-02-17 09:40:31,237] Trial 27 finished with values: [0.8993801659412348, 0.8999364654606075, 0.8977300804275886, 0.8987656900184887, 0.9696499638514613] and parameters: {'hidden_layer_sizes': (3,), 'activation': 'logistic', 'solver': 'adam', 'alpha': 0.002069911359624817, 'learning_rate': 'adaptive', 'learning_rate_init': 0.014040382358975994, 'max_iter': 100}. \n",
            "[I 2024-02-17 09:40:32,480] Trial 28 finished with values: [0.881894158292118, 0.8979322962716005, 0.8606478995217647, 0.878867173137056, 0.9601169044801195] and parameters: {'hidden_layer_sizes': (2,), 'activation': 'identity', 'solver': 'sgd', 'alpha': 1.267443496537668e-05, 'learning_rate': 'invscaling', 'learning_rate_init': 0.06413021430005458, 'max_iter': 160}. \n",
            "[I 2024-02-17 09:40:34,243] Trial 29 finished with values: [0.9436990374440675, 0.9452629725571613, 0.9414961463107108, 0.9433145769311586, 0.9897050172915443] and parameters: {'hidden_layer_sizes': (7,), 'activation': 'tanh', 'solver': 'adam', 'alpha': 0.0003497660625943436, 'learning_rate': 'adaptive', 'learning_rate_init': 0.06706321339964748, 'max_iter': 140}. \n",
            "[I 2024-02-17 09:40:35,935] Trial 30 finished with values: [0.9142872789255894, 0.9181510090404738, 0.9093602408794605, 0.913529610882669, 0.9770130160914958] and parameters: {'hidden_layer_sizes': (4,), 'activation': 'relu', 'solver': 'adam', 'alpha': 1.3682846655382791e-05, 'learning_rate': 'constant', 'learning_rate_init': 0.027076179246328602, 'max_iter': 160}. \n",
            "[I 2024-02-17 09:40:37,143] Trial 31 finished with values: [0.8927871679544924, 0.9014708529275767, 0.8809162249764916, 0.8910670787551793, 0.9662692189493214] and parameters: {'hidden_layer_sizes': (7,), 'activation': 'tanh', 'solver': 'sgd', 'alpha': 1.3634251748651868e-05, 'learning_rate': 'invscaling', 'learning_rate_init': 0.09387411040984642, 'max_iter': 120}. \n",
            "[I 2024-02-17 09:40:42,230] Trial 32 finished with values: [0.897373837433128, 0.9093623260756308, 0.8818376716966634, 0.8953106822977098, 0.9675543131988763] and parameters: {'hidden_layer_sizes': (7,), 'activation': 'logistic', 'solver': 'sgd', 'alpha': 3.38623458348638e-05, 'learning_rate': 'adaptive', 'learning_rate_init': 0.03689791666474348, 'max_iter': 180}. \n",
            "[I 2024-02-17 09:40:44,540] Trial 33 finished with values: [0.9449603212586962, 0.9462640872112269, 0.9429919848357167, 0.9446245853927143, 0.9902540262082142] and parameters: {'hidden_layer_sizes': (6,), 'activation': 'logistic', 'solver': 'adam', 'alpha': 7.24466465898645e-05, 'learning_rate': 'invscaling', 'learning_rate_init': 0.09956114044439172, 'max_iter': 200}. \n",
            "[I 2024-02-17 09:40:48,270] Trial 34 finished with values: [0.9285641050049542, 0.9275913451373137, 0.9291744232202026, 0.9283166213670344, 0.9834110161703548] and parameters: {'hidden_layer_sizes': (3,), 'activation': 'tanh', 'solver': 'adam', 'alpha': 5.66867402396816e-05, 'learning_rate': 'invscaling', 'learning_rate_init': 0.014657123434481873, 'max_iter': 180}. \n",
            "[I 2024-02-17 09:40:50,325] Trial 35 finished with values: [0.9410041622050325, 0.9357737162026106, 0.9466792045119261, 0.9411039547573045, 0.9891157293207071] and parameters: {'hidden_layer_sizes': (5,), 'activation': 'tanh', 'solver': 'adam', 'alpha': 0.00022818319243164426, 'learning_rate': 'constant', 'learning_rate_init': 0.04776372711797175, 'max_iter': 180}. \n",
            "[I 2024-02-17 09:40:51,513] Trial 36 finished with values: [0.8986350818030542, 0.9001895525336894, 0.8960029780920258, 0.8979723459942524, 0.9666969464212534] and parameters: {'hidden_layer_sizes': (1,), 'activation': 'tanh', 'solver': 'adam', 'alpha': 0.00020401490816960007, 'learning_rate': 'constant', 'learning_rate_init': 0.049001969922865596, 'max_iter': 160}. \n",
            "[I 2024-02-17 09:40:53,727] Trial 37 finished with values: [0.9211679865740751, 0.9233569721872588, 0.9178855334350795, 0.920516527900003, 0.9794787527151322] and parameters: {'hidden_layer_sizes': (2,), 'activation': 'tanh', 'solver': 'adam', 'alpha': 0.0008755312859465135, 'learning_rate': 'invscaling', 'learning_rate_init': 0.05642216340517767, 'max_iter': 160}. \n",
            "[I 2024-02-17 09:40:54,498] Trial 38 finished with values: [0.765398331015738, 0.712680225055717, 0.9160344677536101, 0.7968110863105189, 0.8963478726200598] and parameters: {'hidden_layer_sizes': (5,), 'activation': 'logistic', 'solver': 'sgd', 'alpha': 2.9355938934481434e-05, 'learning_rate': 'invscaling', 'learning_rate_init': 0.07861169636794464, 'max_iter': 200}. \n",
            "[I 2024-02-17 09:40:55,502] Trial 39 finished with values: [0.8978322506200707, 0.9042606339408126, 0.8890922338237386, 0.8964625882199267, 0.9662089477388568] and parameters: {'hidden_layer_sizes': (7,), 'activation': 'identity', 'solver': 'adam', 'alpha': 3.350372249522371e-05, 'learning_rate': 'adaptive', 'learning_rate_init': 0.0864290894484219, 'max_iter': 200}. \n",
            "[I 2024-02-17 09:40:56,175] Trial 40 finished with values: [0.49782135073388184, 0.49782135073388184, 1.0, 0.6647272687880019, 0.5276401666098696] and parameters: {'hidden_layer_sizes': (3,), 'activation': 'logistic', 'solver': 'sgd', 'alpha': 0.28757757333153483, 'learning_rate': 'invscaling', 'learning_rate_init': 0.0018741829675767434, 'max_iter': 180}. \n",
            "[I 2024-02-17 09:40:58,142] Trial 41 finished with values: [0.9389976364734123, 0.9413160021626453, 0.9358525770154127, 0.9385353022276931, 0.9874356037469745] and parameters: {'hidden_layer_sizes': (5,), 'activation': 'tanh', 'solver': 'adam', 'alpha': 0.008770534033695447, 'learning_rate': 'constant', 'learning_rate_init': 0.024483461911190465, 'max_iter': 160}. \n",
            "[I 2024-02-17 09:41:00,181] Trial 42 finished with values: [0.9427243588395052, 0.9428920674304142, 0.9421860638878217, 0.9424449841342052, 0.9891741996963738] and parameters: {'hidden_layer_sizes': (5,), 'activation': 'tanh', 'solver': 'adam', 'alpha': 3.824761508966609e-05, 'learning_rate': 'constant', 'learning_rate_init': 0.05696707040022573, 'max_iter': 180}. \n",
            "[I 2024-02-17 09:41:01,346] Trial 43 finished with values: [0.8976029717113111, 0.9091319712976361, 0.8826427435805454, 0.8956028165626514, 0.9673561423966681] and parameters: {'hidden_layer_sizes': (4,), 'activation': 'identity', 'solver': 'adam', 'alpha': 0.001595873707623563, 'learning_rate': 'constant', 'learning_rate_init': 0.06905873895545203, 'max_iter': 160}. \n",
            "[I 2024-02-17 09:41:03,384] Trial 44 finished with values: [0.9412336514855401, 0.9423773151998045, 0.9395372494995828, 0.9409038613054191, 0.9886975904464651] and parameters: {'hidden_layer_sizes': (5,), 'activation': 'tanh', 'solver': 'adam', 'alpha': 0.00035522227094970477, 'learning_rate': 'adaptive', 'learning_rate_init': 0.06706032572741825, 'max_iter': 200}. \n",
            "[I 2024-02-17 09:41:04,887] Trial 45 finished with values: [0.8998389604269705, 0.9071101355058296, 0.890128675651179, 0.8984340143520222, 0.9682639186920732] and parameters: {'hidden_layer_sizes': (5,), 'activation': 'relu', 'solver': 'adam', 'alpha': 0.0012730045862007012, 'learning_rate': 'constant', 'learning_rate_init': 0.09040483377448856, 'max_iter': 160}. \n",
            "[I 2024-02-17 09:41:06,666] Trial 46 finished with values: [0.9402590912150861, 0.9400673402017358, 0.9401146130284628, 0.9399836542337029, 0.9889074181098423] and parameters: {'hidden_layer_sizes': (6,), 'activation': 'tanh', 'solver': 'adam', 'alpha': 0.0003278993186635671, 'learning_rate': 'constant', 'learning_rate_init': 0.08848156335071826, 'max_iter': 200}. \n",
            "[I 2024-02-17 09:41:10,195] Trial 47 finished with values: [0.9451898105392038, 0.9461525651228463, 0.9438009305741584, 0.9448517492016796, 0.990391915838932] and parameters: {'hidden_layer_sizes': (7,), 'activation': 'logistic', 'solver': 'adam', 'alpha': 0.00011807188244246892, 'learning_rate': 'invscaling', 'learning_rate_init': 0.08284960911919045, 'max_iter': 200}. \n",
            "[I 2024-02-17 09:41:11,477] Trial 48 finished with values: [0.8993230894563783, 0.9021706164143186, 0.8948513819578142, 0.8984557451344168, 0.9673094136767473] and parameters: {'hidden_layer_sizes': (5,), 'activation': 'identity', 'solver': 'adam', 'alpha': 0.0006314620282233496, 'learning_rate': 'constant', 'learning_rate_init': 0.02160028436085799, 'max_iter': 180}. \n",
            "[I 2024-02-17 09:41:13,550] Trial 49 finished with values: [0.8969150692438608, 0.9043979251870802, 0.8866754792435689, 0.8954464401108548, 0.9672530510046414] and parameters: {'hidden_layer_sizes': (1,), 'activation': 'relu', 'solver': 'sgd', 'alpha': 0.002298332407245199, 'learning_rate': 'constant', 'learning_rate_init': 0.009508771912056908, 'max_iter': 180}. \n"
          ]
        }
      ],
      "source": [
        "def objective(trial):\n",
        "    params = {\n",
        "        'hidden_layer_sizes': trial.suggest_categorical('hidden_layer_sizes', [(x,) for x in range(1,8)]),\n",
        "        'activation': trial.suggest_categorical('activation', ['identity', 'logistic', 'tanh', 'relu']),\n",
        "        'solver': trial.suggest_categorical('solver', ['sgd', 'adam']),\n",
        "        'alpha': trial.suggest_float(\"alpha\", 1e-5, 0.3, log=True),\n",
        "        'learning_rate': trial.suggest_categorical('learning_rate', ['constant', 'invscaling', 'adaptive']),\n",
        "        'learning_rate_init': trial.suggest_float('learning_rate_init', 1e-3, 1e-1, log=True),\n",
        "        'max_iter': trial.suggest_int('max_iter', 100, 200, step=20),\n",
        "        'early_stopping': True,\n",
        "        'validation_fraction': 0.2,\n",
        "        'random_state': 42\n",
        "    }\n",
        "\n",
        "    mlp = create_pipeline(MLPClassifier, params)\n",
        "    scores = cross_validate(mlp, X, y, scoring=['accuracy', 'precision', 'recall', 'f1', 'roc_auc'],\n",
        "                            cv=cv, n_jobs=-1)\n",
        "    accuracy = scores['test_accuracy'].mean()\n",
        "    precision = scores['test_precision'].mean()\n",
        "    recall = scores['test_recall'].mean()\n",
        "    f1 = scores['test_f1'].mean()\n",
        "    roc_auc = scores['test_roc_auc'].mean()\n",
        "\n",
        "    return accuracy, precision, recall, f1, roc_auc\n",
        "\n",
        "study = get_optuna_study(objective, 50)"
      ]
    },
    {
      "cell_type": "markdown",
      "metadata": {
        "id": "-1M-8SxhvARp"
      },
      "source": [
        "#### **Métricas de Desempenho**"
      ]
    },
    {
      "cell_type": "code",
      "execution_count": 70,
      "metadata": {
        "id": "U5hxoHOukpsT"
      },
      "outputs": [
        {
          "name": "stdout",
          "output_type": "stream",
          "text": [
            "Principal métrica: Acurácia\n",
            "\n",
            "Melhores parâmetros: \n",
            "\thidden_layer_sizes=(7,)\n",
            "\tactivation=tanh\n",
            "\tsolver=adam\n",
            "\talpha=0.00010576869105669781\n",
            "\tlearning_rate=invscaling\n",
            "\tlearning_rate_init=0.0723427984566542\n",
            "\tmax_iter=180\n",
            "\n",
            "Melhores métricas:\n",
            "\tAcurácia: 94.58%\n",
            "\tPrecisão: 94.85%\n",
            "\tRecall: 94.23%\n",
            "\tF1: 94.53%\n",
            "\tROC-AUC: 99.01%\n"
          ]
        }
      ],
      "source": [
        "mlp1_results = get_best_trial_results(study, 0)\n",
        "best_params_mlp1, metrics_mlp1 = mlp1_results['params'], mlp1_results['trial_metrics']\n",
        "print_best_results(best_params_mlp1, metrics_mlp1)"
      ]
    },
    {
      "cell_type": "markdown",
      "metadata": {
        "id": "8vwDC72ecKLE"
      },
      "source": [
        "#### **Matriz de Confusão**"
      ]
    },
    {
      "cell_type": "code",
      "execution_count": 71,
      "metadata": {
        "id": "Njj23HUCMskf"
      },
      "outputs": [
        {
          "data": {
            "image/png": "[encoded data removed]",
            "text/plain": [
              "<Figure size 288x216 with 2 Axes>"
            ]
          },
          "metadata": {
            "needs_background": "light"
          },
          "output_type": "display_data"
        },
        {
          "name": "stdout",
          "output_type": "stream",
          "text": [
            "\n"
          ]
        },
        {
          "data": {
            "image/png": "[encoded data removed]",
            "text/plain": [
              "<Figure size 288x216 with 2 Axes>"
            ]
          },
          "metadata": {
            "needs_background": "light"
          },
          "output_type": "display_data"
        },
        {
          "name": "stdout",
          "output_type": "stream",
          "text": [
            "\n"
          ]
        }
      ],
      "source": [
        "mlp1 = create_pipeline(MLPClassifier, best_params_mlp1)\n",
        "mlp1.fit(X_train, y_train)\n",
        "preds = mlp1.predict(X_test)\n",
        "plot_confusion_matrix(y_test, preds)"
      ]
    },
    {
      "cell_type": "markdown",
      "metadata": {
        "id": "hrP8ck9Icp74"
      },
      "source": [
        "#### **Curva ROC-AUC**"
      ]
    },
    {
      "cell_type": "code",
      "execution_count": 72,
      "metadata": {
        "id": "SfwwWpkjUk_s"
      },
      "outputs": [
        {
          "data": {
            "image/png": "[encoded data removed]",
            "text/plain": [
              "<Figure size 432x432 with 1 Axes>"
            ]
          },
          "metadata": {
            "needs_background": "light"
          },
          "output_type": "display_data"
        }
      ],
      "source": [
        "plot_roc_auc_cv_curve(X, y, MLPClassifier, best_params_mlp1, cv)"
      ]
    },
    {
      "cell_type": "markdown",
      "metadata": {
        "id": "ngUtGfkpVgUN"
      },
      "source": [
        "### **2 Camadas Ocultas**"
      ]
    },
    {
      "cell_type": "code",
      "execution_count": 73,
      "metadata": {
        "id": "iTdX6qgkVgUY"
      },
      "outputs": [
        {
          "name": "stderr",
          "output_type": "stream",
          "text": [
            "[I 2024-02-17 09:41:26,534] A new study created in memory with name: no-name-c56107f5-b28a-4818-bfd0-a35493670d27\n",
            "[I 2024-02-17 09:41:27,370] Trial 0 finished with values: [0.5021786492661182, 0.0, 0.0, 0.0, 0.2837123104820984] and parameters: {'hidden_layer_sizes': (2, 5), 'activation': 'logistic', 'solver': 'sgd', 'alpha': 0.1340734336194926, 'learning_rate': 'invscaling', 'learning_rate_init': 0.004473636174621266, 'max_iter': 140}. \n",
            "[I 2024-02-17 09:41:28,613] Trial 1 finished with values: [0.8988642949706426, 0.9032057250306103, 0.8925475528913814, 0.8978132795744642, 0.9683355918490477] and parameters: {'hidden_layer_sizes': (2, 2), 'activation': 'tanh', 'solver': 'adam', 'alpha': 0.03964033694082833, 'learning_rate': 'invscaling', 'learning_rate_init': 0.04119839624605188, 'max_iter': 200}. \n",
            "[I 2024-02-17 09:41:33,897] Trial 2 finished with values: [0.9269573250390765, 0.9324116373431502, 0.9199588416219671, 0.9261379009434886, 0.9839437457671545] and parameters: {'hidden_layer_sizes': (5, 5), 'activation': 'relu', 'solver': 'adam', 'alpha': 0.0005388415030282724, 'learning_rate': 'constant', 'learning_rate_init': 0.0016863473810115068, 'max_iter': 200}. \n",
            "[I 2024-02-17 09:41:37,730] Trial 3 finished with values: [0.5021786492661182, 0.0, 0.0, 0.0, 0.5] and parameters: {'hidden_layer_sizes': (7, 2), 'activation': 'relu', 'solver': 'sgd', 'alpha': 0.007759928779676623, 'learning_rate': 'adaptive', 'learning_rate_init': 0.0675660889251874, 'max_iter': 140}. \n",
            "[I 2024-02-17 09:41:39,109] Trial 4 finished with values: [0.8980042558204604, 0.9014981645614956, 0.8926632378631606, 0.8970243216554182, 0.9679964317448407] and parameters: {'hidden_layer_sizes': (3, 4), 'activation': 'relu', 'solver': 'adam', 'alpha': 2.4105211678100118e-05, 'learning_rate': 'adaptive', 'learning_rate_init': 0.01883041116446474, 'max_iter': 180}. \n",
            "[I 2024-02-17 09:41:40,844] Trial 5 finished with values: [0.9000109393308917, 0.9107313955095252, 0.8859834920729261, 0.898164789142714, 0.9672273363644934] and parameters: {'hidden_layer_sizes': (1, 1), 'activation': 'logistic', 'solver': 'sgd', 'alpha': 0.0005468696567461756, 'learning_rate': 'constant', 'learning_rate_init': 0.07637120051791049, 'max_iter': 140}. \n",
            "[I 2024-02-17 09:41:44,469] Trial 6 finished with values: [0.9248371196741763, 0.917698339802248, 0.9329732948141293, 0.9251721448471429, 0.9811310336233663] and parameters: {'hidden_layer_sizes': (4, 4), 'activation': 'relu', 'solver': 'adam', 'alpha': 0.03429384417905495, 'learning_rate': 'invscaling', 'learning_rate_init': 0.012561970368593842, 'max_iter': 140}. \n",
            "[I 2024-02-17 09:41:46,679] Trial 7 finished with values: [0.9000109919238286, 0.9056859232474387, 0.8920883153933183, 0.8987803535244561, 0.9682884276444603] and parameters: {'hidden_layer_sizes': (7, 7), 'activation': 'tanh', 'solver': 'adam', 'alpha': 0.0010840154254343909, 'learning_rate': 'adaptive', 'learning_rate_init': 0.0012328003831367795, 'max_iter': 120}. \n",
            "[I 2024-02-17 09:41:47,359] Trial 8 finished with values: [0.5021786492661182, 0.0, 0.0, 0.0, 0.5] and parameters: {'hidden_layer_sizes': (7, 2), 'activation': 'relu', 'solver': 'sgd', 'alpha': 0.0101691677376682, 'learning_rate': 'constant', 'learning_rate_init': 0.022036691466201717, 'max_iter': 160}. \n",
            "[I 2024-02-17 09:41:51,615] Trial 9 finished with values: [0.9306847048168819, 0.9294773993202058, 0.9314757050945963, 0.9304572501931424, 0.9848273147536079] and parameters: {'hidden_layer_sizes': (5, 5), 'activation': 'relu', 'solver': 'sgd', 'alpha': 3.468178347988752e-05, 'learning_rate': 'constant', 'learning_rate_init': 0.010158615943652546, 'max_iter': 180}. \n",
            "[I 2024-02-17 09:41:53,327] Trial 10 finished with values: [0.8982337451009679, 0.902669251705073, 0.8917419503424912, 0.8971552793201781, 0.9674981452878666] and parameters: {'hidden_layer_sizes': (3, 3), 'activation': 'identity', 'solver': 'sgd', 'alpha': 4.5541548657037855e-05, 'learning_rate': 'constant', 'learning_rate_init': 0.005811289772645465, 'max_iter': 180}. \n",
            "[I 2024-02-17 09:41:57,232] Trial 11 finished with values: [0.934812316845097, 0.9381624741176353, 0.930552401046896, 0.9342401056536999, 0.9869409337737578] and parameters: {'hidden_layer_sizes': (5, 5), 'activation': 'relu', 'solver': 'adam', 'alpha': 0.00020852863322945328, 'learning_rate': 'constant', 'learning_rate_init': 0.004900376398705142, 'max_iter': 200}. \n",
            "[I 2024-02-17 09:41:58,361] Trial 12 finished with values: [0.8977178215374388, 0.9020333718453794, 0.8915130214579703, 0.8966078221985213, 0.9672506334476365] and parameters: {'hidden_layer_sizes': (1, 7), 'activation': 'relu', 'solver': 'adam', 'alpha': 0.0010518454007878038, 'learning_rate': 'constant', 'learning_rate_init': 0.014956237536920405, 'max_iter': 200}. \n",
            "[I 2024-02-17 09:41:59,497] Trial 13 finished with values: [0.8979470347050273, 0.9042022254715232, 0.8893236568337979, 0.8965977711722133, 0.9674579381235979] and parameters: {'hidden_layer_sizes': (4, 7), 'activation': 'identity', 'solver': 'adam', 'alpha': 0.0014712912487831133, 'learning_rate': 'adaptive', 'learning_rate_init': 0.005228734892336621, 'max_iter': 200}. \n",
            "[I 2024-02-17 09:42:00,708] Trial 14 finished with values: [0.8970297612911776, 0.9040450681566314, 0.8878251119172502, 0.8955914134399667, 0.9669490073328617] and parameters: {'hidden_layer_sizes': (4, 3), 'activation': 'identity', 'solver': 'adam', 'alpha': 6.679212884072054e-05, 'learning_rate': 'adaptive', 'learning_rate_init': 0.05923870959003164, 'max_iter': 120}. \n",
            "[I 2024-02-17 09:42:01,649] Trial 15 finished with values: [0.5021786492661182, 0.0, 0.0, 0.0, 0.5] and parameters: {'hidden_layer_sizes': (7, 2), 'activation': 'relu', 'solver': 'adam', 'alpha': 0.012362037438375849, 'learning_rate': 'invscaling', 'learning_rate_init': 0.016113594407465324, 'max_iter': 100}. \n",
            "[I 2024-02-17 09:42:07,442] Trial 16 finished with values: [0.9406602569901272, 0.9410055247414831, 0.9398848881464296, 0.9403404374160471, 0.9890622418017299] and parameters: {'hidden_layer_sizes': (6, 7), 'activation': 'tanh', 'solver': 'adam', 'alpha': 4.06812169836387e-05, 'learning_rate': 'constant', 'learning_rate_init': 0.003462147614681189, 'max_iter': 180}. \n",
            "[I 2024-02-17 09:42:08,239] Trial 17 finished with values: [0.5021786492661182, 0.0, 0.0, 0.0, 0.34640731833491145] and parameters: {'hidden_layer_sizes': (1, 1), 'activation': 'tanh', 'solver': 'adam', 'alpha': 1.2097957192942217e-05, 'learning_rate': 'constant', 'learning_rate_init': 0.0027515584613902406, 'max_iter': 160}. \n",
            "[I 2024-02-17 09:42:09,420] Trial 18 finished with values: [0.8997817393115374, 0.9080095575857166, 0.8887475138344367, 0.898236663824319, 0.9680170903013302] and parameters: {'hidden_layer_sizes': (2, 4), 'activation': 'tanh', 'solver': 'adam', 'alpha': 3.0052838708351674e-05, 'learning_rate': 'constant', 'learning_rate_init': 0.00985071595051225, 'max_iter': 200}. \n",
            "[I 2024-02-17 09:42:10,910] Trial 19 finished with values: [0.8985202056804579, 0.8991455173901427, 0.8969235757481846, 0.8979536682305018, 0.9674628399317734] and parameters: {'hidden_layer_sizes': (1, 6), 'activation': 'tanh', 'solver': 'adam', 'alpha': 0.0016806063962890411, 'learning_rate': 'invscaling', 'learning_rate_init': 0.0038356856447462092, 'max_iter': 200}. \n",
            "[I 2024-02-17 09:42:16,623] Trial 20 finished with values: [0.9414629698390025, 0.9407934840456587, 0.9418413969650207, 0.9412408687719265, 0.9890493642552157] and parameters: {'hidden_layer_sizes': (6, 2), 'activation': 'logistic', 'solver': 'adam', 'alpha': 1.3093272798060032e-05, 'learning_rate': 'constant', 'learning_rate_init': 0.011089381545463507, 'max_iter': 120}. \n",
            "[I 2024-02-17 09:42:18,914] Trial 21 finished with values: [0.8534564998558952, 0.8459369807321844, 0.8629511448566887, 0.8543170097354019, 0.9331773076437523] and parameters: {'hidden_layer_sizes': (6, 2), 'activation': 'tanh', 'solver': 'sgd', 'alpha': 0.00021448713828103077, 'learning_rate': 'invscaling', 'learning_rate_init': 0.013675667692380874, 'max_iter': 120}. \n",
            "[I 2024-02-17 09:42:22,731] Trial 22 finished with values: [0.9408899829388513, 0.9363441405325352, 0.9456401624259457, 0.9409188553422928, 0.9889381617792377] and parameters: {'hidden_layer_sizes': (6, 7), 'activation': 'logistic', 'solver': 'adam', 'alpha': 1.2096102132214031e-05, 'learning_rate': 'constant', 'learning_rate_init': 0.032935397000996694, 'max_iter': 120}. \n",
            "[I 2024-02-17 09:42:26,725] Trial 23 finished with values: [0.9082106778388089, 0.9138116342897755, 0.9003851566629237, 0.9069484522282534, 0.9721051210640439] and parameters: {'hidden_layer_sizes': (5, 6), 'activation': 'logistic', 'solver': 'adam', 'alpha': 9.624311790972699e-05, 'learning_rate': 'constant', 'learning_rate_init': 0.012578525122757879, 'max_iter': 140}. \n",
            "[I 2024-02-17 09:42:29,049] Trial 24 finished with values: [0.9434123007516582, 0.941972575763513, 0.9446056309925347, 0.9432128851823813, 0.9897311788278906] and parameters: {'hidden_layer_sizes': (6, 7), 'activation': 'tanh', 'solver': 'adam', 'alpha': 1.1886609554825175e-05, 'learning_rate': 'constant', 'learning_rate_init': 0.04032534953910975, 'max_iter': 120}. \n",
            "[I 2024-02-17 09:42:31,320] Trial 25 finished with values: [0.9433548429680088, 0.943043573800619, 0.9433376600220332, 0.9431343157827028, 0.9897660134934056] and parameters: {'hidden_layer_sizes': (6, 4), 'activation': 'tanh', 'solver': 'adam', 'alpha': 2.2901535494095436e-05, 'learning_rate': 'constant', 'learning_rate_init': 0.04229250296384707, 'max_iter': 100}. \n",
            "[I 2024-02-17 09:42:33,805] Trial 26 finished with values: [0.9375068633782757, 0.9355341641452491, 0.9391929009757869, 0.9373132624890006, 0.9875924711321675] and parameters: {'hidden_layer_sizes': (6, 5), 'activation': 'tanh', 'solver': 'adam', 'alpha': 2.0154270053984445e-05, 'learning_rate': 'constant', 'learning_rate_init': 0.07011063040793367, 'max_iter': 120}. \n",
            "[I 2024-02-17 09:42:36,835] Trial 27 finished with values: [0.923402976023932, 0.9228838921098401, 0.9231792352904967, 0.9229399453036051, 0.9813978529833065] and parameters: {'hidden_layer_sizes': (5, 7), 'activation': 'relu', 'solver': 'adam', 'alpha': 0.00011100508506662128, 'learning_rate': 'constant', 'learning_rate_init': 0.038535974651962894, 'max_iter': 100}. \n",
            "[I 2024-02-17 09:42:38,023] Trial 28 finished with values: [0.8986349371724776, 0.9124682208153782, 0.8810300526207422, 0.8964000503275279, 0.9676150363838851] and parameters: {'hidden_layer_sizes': (1, 7), 'activation': 'identity', 'solver': 'sgd', 'alpha': 1.2727375885807806e-05, 'learning_rate': 'constant', 'learning_rate_init': 0.0702708640603851, 'max_iter': 100}. \n",
            "[I 2024-02-17 09:42:39,715] Trial 29 finished with values: [0.8986924081043612, 0.9027797547754655, 0.8927777553719218, 0.8976372285144354, 0.9676269724917477] and parameters: {'hidden_layer_sizes': (6, 4), 'activation': 'identity', 'solver': 'adam', 'alpha': 9.347759298909084e-05, 'learning_rate': 'invscaling', 'learning_rate_init': 0.012034395468287091, 'max_iter': 100}. \n",
            "[I 2024-02-17 09:42:43,100] Trial 30 finished with values: [0.9430684481296899, 0.945443143174469, 0.9402304041332437, 0.9426269585450339, 0.9895069636673621] and parameters: {'hidden_layer_sizes': (5, 7), 'activation': 'logistic', 'solver': 'adam', 'alpha': 2.018289250532983e-05, 'learning_rate': 'invscaling', 'learning_rate_init': 0.07178938088458632, 'max_iter': 100}. \n",
            "[I 2024-02-17 09:42:47,683] Trial 31 finished with values: [0.9408895490471212, 0.9451345667234472, 0.9358543812764404, 0.9403138878580014, 0.9895490157882445] and parameters: {'hidden_layer_sizes': (5, 7), 'activation': 'logistic', 'solver': 'adam', 'alpha': 3.635460795375087e-05, 'learning_rate': 'invscaling', 'learning_rate_init': 0.05252581751446507, 'max_iter': 100}. \n",
            "[I 2024-02-17 09:42:52,635] Trial 32 finished with values: [0.919848995159346, 0.9273063843895185, 0.910399282965441, 0.9187615868573873, 0.9795797234879722] and parameters: {'hidden_layer_sizes': (5, 4), 'activation': 'logistic', 'solver': 'sgd', 'alpha': 3.2657308130781974e-05, 'learning_rate': 'adaptive', 'learning_rate_init': 0.05772124114070381, 'max_iter': 100}. \n",
            "[I 2024-02-17 09:42:55,015] Trial 33 finished with values: [0.9425525114179265, 0.9401596742150966, 0.9448351436085645, 0.9424298183928272, 0.9895077387885924] and parameters: {'hidden_layer_sizes': (5, 5), 'activation': 'tanh', 'solver': 'adam', 'alpha': 2.8850459977573988e-05, 'learning_rate': 'invscaling', 'learning_rate_init': 0.04758783828977106, 'max_iter': 100}. \n",
            "[I 2024-02-17 09:42:57,635] Trial 34 finished with values: [0.940201593986734, 0.9386420243005915, 0.9414948727146912, 0.9400084974686392, 0.9885085072114496] and parameters: {'hidden_layer_sizes': (4, 1), 'activation': 'logistic', 'solver': 'adam', 'alpha': 5.098196174790968e-05, 'learning_rate': 'constant', 'learning_rate_init': 0.07620303358974576, 'max_iter': 140}. \n",
            "[I 2024-02-17 09:42:59,118] Trial 35 finished with values: [0.9058026181815887, 0.9150669607005417, 0.8938188139849333, 0.9042108838991132, 0.972058017398534] and parameters: {'hidden_layer_sizes': (3, 7), 'activation': 'relu', 'solver': 'adam', 'alpha': 3.170931597191768e-05, 'learning_rate': 'invscaling', 'learning_rate_init': 0.08092803579770638, 'max_iter': 140}. \n",
            "[I 2024-02-17 09:43:00,053] Trial 36 finished with values: [0.49782135073388184, 0.49782135073388184, 1.0, 0.6647272687880019, 0.26135519491689846] and parameters: {'hidden_layer_sizes': (7, 6), 'activation': 'logistic', 'solver': 'sgd', 'alpha': 8.318270299226247e-05, 'learning_rate': 'invscaling', 'learning_rate_init': 0.0013199117526408702, 'max_iter': 160}. \n",
            "[I 2024-02-17 09:43:02,564] Trial 37 finished with values: [0.9447312395734503, 0.9423800786020431, 0.9471402993375179, 0.9446237668567987, 0.9901802112194504] and parameters: {'hidden_layer_sizes': (7, 1), 'activation': 'logistic', 'solver': 'adam', 'alpha': 1.0236960229417206e-05, 'learning_rate': 'adaptive', 'learning_rate_init': 0.0421812237483524, 'max_iter': 100}. \n",
            "[I 2024-02-17 09:43:05,615] Trial 38 finished with values: [0.9457056815097961, 0.9437602831436916, 0.9478319150426548, 0.945581370883017, 0.9913540622382522] and parameters: {'hidden_layer_sizes': (7, 1), 'activation': 'logistic', 'solver': 'adam', 'alpha': 1.1822174659030982e-05, 'learning_rate': 'adaptive', 'learning_rate_init': 0.06334174600550485, 'max_iter': 100}. \n",
            "[I 2024-02-17 09:43:09,519] Trial 39 finished with values: [0.9381377551020408, 0.9411633953591357, 0.934239143124598, 0.9376345951923821, 0.9877983897809235] and parameters: {'hidden_layer_sizes': (3, 6), 'activation': 'logistic', 'solver': 'adam', 'alpha': 1.2506042113261141e-05, 'learning_rate': 'invscaling', 'learning_rate_init': 0.03689405116029545, 'max_iter': 120}. \n",
            "[I 2024-02-17 09:43:10,316] Trial 40 finished with values: [0.5021786492661182, 0.0, 0.0, 0.0, 0.5] and parameters: {'hidden_layer_sizes': (4, 2), 'activation': 'relu', 'solver': 'adam', 'alpha': 1.3427167513141987e-05, 'learning_rate': 'adaptive', 'learning_rate_init': 0.07325148036309286, 'max_iter': 120}. \n",
            "[I 2024-02-17 09:43:13,075] Trial 41 finished with values: [0.945476389452802, 0.9470647410458197, 0.9435698259631039, 0.9451228536009711, 0.9904499760076061] and parameters: {'hidden_layer_sizes': (7, 1), 'activation': 'logistic', 'solver': 'adam', 'alpha': 5.274738304108728e-05, 'learning_rate': 'adaptive', 'learning_rate_init': 0.043727698271591266, 'max_iter': 100}. \n",
            "[I 2024-02-17 09:43:15,000] Trial 42 finished with values: [0.8985202977180976, 0.9063392464267445, 0.8879408499555302, 0.8969999731899606, 0.9673288843571263] and parameters: {'hidden_layer_sizes': (1, 6), 'activation': 'logistic', 'solver': 'adam', 'alpha': 6.976672438242601e-05, 'learning_rate': 'adaptive', 'learning_rate_init': 0.016718067145356376, 'max_iter': 100}. \n",
            "[I 2024-02-17 09:43:18,241] Trial 43 finished with values: [0.9456484735425971, 0.9451618404937701, 0.9457571209937445, 0.9454230024411264, 0.9905372011486417] and parameters: {'hidden_layer_sizes': (7, 1), 'activation': 'logistic', 'solver': 'adam', 'alpha': 1.9708644466531155e-05, 'learning_rate': 'adaptive', 'learning_rate_init': 0.03151637239372376, 'max_iter': 100}. \n",
            "[I 2024-02-17 09:43:21,747] Trial 44 finished with values: [0.9434695218670914, 0.9432236121034352, 0.943454353257328, 0.943242602137121, 0.9898528738674728] and parameters: {'hidden_layer_sizes': (6, 6), 'activation': 'logistic', 'solver': 'adam', 'alpha': 2.0822924418599982e-05, 'learning_rate': 'adaptive', 'learning_rate_init': 0.06795328434852671, 'max_iter': 100}. \n",
            "[I 2024-02-17 09:43:24,911] Trial 45 finished with values: [0.9457632839240222, 0.9452824403522753, 0.9464500102949012, 0.9455556093674645, 0.991196733277294] and parameters: {'hidden_layer_sizes': (7, 1), 'activation': 'logistic', 'solver': 'adam', 'alpha': 0.0003129615673880955, 'learning_rate': 'adaptive', 'learning_rate_init': 0.08646715415971704, 'max_iter': 100}. \n",
            "[I 2024-02-17 09:43:28,966] Trial 46 finished with values: [0.9096993077717634, 0.9158876689779198, 0.9014159203747769, 0.9085524911600608, 0.9738395465884088] and parameters: {'hidden_layer_sizes': (4, 6), 'activation': 'tanh', 'solver': 'adam', 'alpha': 0.14621051765020732, 'learning_rate': 'adaptive', 'learning_rate_init': 0.009586605716337095, 'max_iter': 160}. \n",
            "[I 2024-02-17 09:43:30,206] Trial 47 finished with values: [0.8976603243090866, 0.9045210365772964, 0.8882871619398565, 0.8962207997442952, 0.9674127638532148] and parameters: {'hidden_layer_sizes': (3, 5), 'activation': 'identity', 'solver': 'adam', 'alpha': 0.012600103201650389, 'learning_rate': 'constant', 'learning_rate_init': 0.00889195981513833, 'max_iter': 140}. \n",
            "[I 2024-02-17 09:43:31,358] Trial 48 finished with values: [0.8962270747387708, 0.903607804136368, 0.8862145966839805, 0.8947606868101349, 0.9663827377742134] and parameters: {'hidden_layer_sizes': (7, 6), 'activation': 'tanh', 'solver': 'sgd', 'alpha': 0.05892291428628391, 'learning_rate': 'invscaling', 'learning_rate_init': 0.06040055855203018, 'max_iter': 120}. \n",
            "[I 2024-02-17 09:43:35,251] Trial 49 finished with values: [0.8991510316630518, 0.9115136553036355, 0.8832196825774187, 0.8971254388204875, 0.9671106218344764] and parameters: {'hidden_layer_sizes': (1, 2), 'activation': 'tanh', 'solver': 'sgd', 'alpha': 1.677219677561494e-05, 'learning_rate': 'adaptive', 'learning_rate_init': 0.029757814292108904, 'max_iter': 140}. \n"
          ]
        }
      ],
      "source": [
        "def objective(trial):\n",
        "    params = {\n",
        "        'hidden_layer_sizes': trial.suggest_categorical('hidden_layer_sizes',\n",
        "                                                        [(x,y) for x in range(1,8) for y in range(1,8)]),\n",
        "        'activation': trial.suggest_categorical('activation', ['identity', 'logistic', 'tanh', 'relu']),\n",
        "        'solver': trial.suggest_categorical('solver', ['sgd', 'adam']),\n",
        "        'alpha': trial.suggest_float(\"alpha\", 1e-5, 0.3, log=True),\n",
        "        'learning_rate': trial.suggest_categorical('learning_rate', ['constant', 'invscaling', 'adaptive']),\n",
        "        'learning_rate_init': trial.suggest_float('learning_rate_init', 1e-3, 1e-1, log=True),\n",
        "        'max_iter': trial.suggest_int('max_iter', 100, 200, step=20),\n",
        "        'early_stopping': True,\n",
        "        'validation_fraction': 0.2,\n",
        "        'random_state': 42\n",
        "    }\n",
        "\n",
        "    mlp = create_pipeline(MLPClassifier, params)\n",
        "    scores = cross_validate(mlp, X, y, scoring=['accuracy', 'precision', 'recall', 'f1', 'roc_auc'],\n",
        "                            cv=cv, n_jobs=-1)\n",
        "    accuracy = scores['test_accuracy'].mean()\n",
        "    precision = scores['test_precision'].mean()\n",
        "    recall = scores['test_recall'].mean()\n",
        "    f1 = scores['test_f1'].mean()\n",
        "    roc_auc = scores['test_roc_auc'].mean()\n",
        "\n",
        "    return accuracy, precision, recall, f1, roc_auc\n",
        "\n",
        "study = get_optuna_study(objective, 50)"
      ]
    },
    {
      "cell_type": "markdown",
      "metadata": {
        "id": "duZSTy55vEBQ"
      },
      "source": [
        "#### **Métricas de Desempenho**"
      ]
    },
    {
      "cell_type": "code",
      "execution_count": 74,
      "metadata": {
        "id": "8Hp6CbqccmnA"
      },
      "outputs": [
        {
          "name": "stdout",
          "output_type": "stream",
          "text": [
            "Principal métrica: Acurácia\n",
            "\n",
            "Melhores parâmetros: \n",
            "\thidden_layer_sizes=(7, 1)\n",
            "\tactivation=logistic\n",
            "\tsolver=adam\n",
            "\talpha=0.0003129615673880955\n",
            "\tlearning_rate=adaptive\n",
            "\tlearning_rate_init=0.08646715415971704\n",
            "\tmax_iter=100\n",
            "\n",
            "Melhores métricas:\n",
            "\tAcurácia: 94.58%\n",
            "\tPrecisão: 94.53%\n",
            "\tRecall: 94.65%\n",
            "\tF1: 94.56%\n",
            "\tROC-AUC: 99.12%\n"
          ]
        }
      ],
      "source": [
        "results_mlp2 = get_best_trial_results(study, 0)\n",
        "best_params_mlp2, metrics_mlp2 = results_mlp2['params'], results_mlp2['trial_metrics']\n",
        "print_best_results(best_params_mlp2, metrics_mlp2)"
      ]
    },
    {
      "cell_type": "markdown",
      "metadata": {
        "id": "R86BN3MJcxWu"
      },
      "source": [
        "#### **Matriz de Confusão**"
      ]
    },
    {
      "cell_type": "code",
      "execution_count": 75,
      "metadata": {
        "id": "bTMCcdNiM2OQ"
      },
      "outputs": [
        {
          "data": {
            "image/png": "[encoded data removed]",
            "text/plain": [
              "<Figure size 288x216 with 2 Axes>"
            ]
          },
          "metadata": {
            "needs_background": "light"
          },
          "output_type": "display_data"
        },
        {
          "name": "stdout",
          "output_type": "stream",
          "text": [
            "\n"
          ]
        },
        {
          "data": {
            "image/png": "[encoded data removed]",
            "text/plain": [
              "<Figure size 288x216 with 2 Axes>"
            ]
          },
          "metadata": {
            "needs_background": "light"
          },
          "output_type": "display_data"
        },
        {
          "name": "stdout",
          "output_type": "stream",
          "text": [
            "\n"
          ]
        }
      ],
      "source": [
        "mlp2 = create_pipeline(MLPClassifier, best_params_mlp2)\n",
        "mlp2.fit(X_train, y_train)\n",
        "preds = mlp2.predict(X_test)\n",
        "plot_confusion_matrix(y_test, preds)"
      ]
    },
    {
      "cell_type": "markdown",
      "metadata": {
        "id": "1g7OUesJc0Cg"
      },
      "source": [
        "#### **Curva ROC-AUC**"
      ]
    },
    {
      "cell_type": "code",
      "execution_count": 76,
      "metadata": {
        "id": "B8n4WSs0VgUZ"
      },
      "outputs": [
        {
          "data": {
            "image/png": "[encoded data removed]",
            "text/plain": [
              "<Figure size 432x432 with 1 Axes>"
            ]
          },
          "metadata": {
            "needs_background": "light"
          },
          "output_type": "display_data"
        }
      ],
      "source": [
        "plot_roc_auc_cv_curve(X, y, MLPClassifier, best_params_mlp2, cv)"
      ]
    },
    {
      "cell_type": "markdown",
      "metadata": {
        "id": "koALEiQUUCtK"
      },
      "source": [
        "## **Keras**"
      ]
    },
    {
      "cell_type": "code",
      "execution_count": 77,
      "metadata": {
        "id": "mwYPX1zkYNNf"
      },
      "outputs": [],
      "source": [
        "X_train, X_test, y_train, y_test = train_test_split(X, y, stratify=y, test_size=0.2,\n",
        "                                                    shuffle=True, random_state=42)\n",
        "\n",
        "X_train, X_val, y_train, y_val = train_test_split(X_train, y_train, stratify=y_train, test_size=0.2,\n",
        "                                                  shuffle=True, random_state=42)\n",
        "\n",
        "categorical_encoder = ce.OneHotEncoder(cols=CATEGORY_FT, use_cat_names=True)\n",
        "\n",
        "column_trasformer = ColumnTransformer(\n",
        "    [\n",
        "        (\"cat\", categorical_encoder, CATEGORY_FT),\n",
        "        (\"num\", MinMaxScaler(), NUMERICAL_FT),\n",
        "    ],\n",
        "    remainder='passthrough',\n",
        "    verbose_feature_names_out=False,\n",
        ")\n",
        "\n",
        "X_train = column_trasformer.fit_transform(X_train)\n",
        "X_val = column_trasformer.transform(X_val)\n",
        "X_test = column_trasformer.transform(X_test)\n",
        "\n",
        "y_train = y_train.values.reshape(-1,1)\n",
        "y_val = y_val.values.reshape(-1,1)\n",
        "y_test = y_test.values"
      ]
    },
    {
      "cell_type": "code",
      "execution_count": 78,
      "metadata": {
        "id": "R1Ka1zXZsdfQ"
      },
      "outputs": [
        {
          "name": "stderr",
          "output_type": "stream",
          "text": [
            "[I 2024-02-17 09:43:51,510] A new study created in memory with name: no-name-e190ed7d-225e-48ec-931e-7059511adfd6\n",
            "[I 2024-02-17 09:43:59,204] Trial 0 finished with value: 0.9214674691888793 and parameters: {'batch_size': 96, 'epochs': 200, 'n_layers': 2, 'n_units_l1': 5, 'dropout_l1': 0.0, 'n_units_l2': 2, 'dropout_l2': 0.0, 'learning_rate': 0.029154431891537533, 'optimizer_name': 'rmsprop'}. Best is trial 0 with value: 0.9214674691888793.\n",
            "[I 2024-02-17 09:44:15,009] Trial 1 finished with value: 0.8933791917454859 and parameters: {'batch_size': 32, 'epochs': 200, 'n_layers': 2, 'n_units_l1': 2, 'dropout_l1': 0.1, 'n_units_l2': 2, 'dropout_l2': 0.1, 'learning_rate': 0.0012561043700013551, 'optimizer_name': 'adam'}. Best is trial 0 with value: 0.9214674691888793.\n",
            "[I 2024-02-17 09:44:19,800] Trial 2 finished with value: 0.8953854972771568 and parameters: {'batch_size': 160, 'epochs': 30, 'n_layers': 1, 'n_units_l1': 3, 'dropout_l1': 0.2, 'learning_rate': 0.013826232179369865, 'optimizer_name': 'rmsprop'}. Best is trial 0 with value: 0.9214674691888793.\n",
            "[I 2024-02-17 09:44:22,581] Trial 3 finished with value: 0.5021496130696474 and parameters: {'batch_size': 160, 'epochs': 10, 'n_layers': 2, 'n_units_l1': 2, 'dropout_l1': 0.0, 'n_units_l2': 7, 'dropout_l2': 0.5, 'learning_rate': 0.01712337597316398, 'optimizer_name': 'adam'}. Best is trial 0 with value: 0.9214674691888793.\n",
            "[I 2024-02-17 09:44:24,816] Trial 4 finished with value: 0.8873602751504729 and parameters: {'batch_size': 192, 'epochs': 90, 'n_layers': 1, 'n_units_l1': 4, 'dropout_l1': 0.0, 'learning_rate': 0.04337920697490941, 'optimizer_name': 'rmsprop'}. Best is trial 0 with value: 0.9214674691888793.\n",
            "[I 2024-02-17 09:44:26,256] Trial 5 pruned. Trial was pruned at epoch 0.\n",
            "[I 2024-02-17 09:44:28,177] Trial 6 pruned. Trial was pruned at epoch 0.\n",
            "[I 2024-02-17 09:44:35,545] Trial 7 finished with value: 0.9323588420750931 and parameters: {'batch_size': 96, 'epochs': 110, 'n_layers': 1, 'n_units_l1': 6, 'dropout_l1': 0.0, 'learning_rate': 0.08862326508576249, 'optimizer_name': 'adam'}. Best is trial 7 with value: 0.9323588420750931.\n",
            "[I 2024-02-17 09:44:37,708] Trial 8 pruned. Trial was pruned at epoch 0.\n",
            "[I 2024-02-17 09:44:39,538] Trial 9 pruned. Trial was pruned at epoch 0.\n",
            "[I 2024-02-17 09:44:47,414] Trial 10 finished with value: 0.9025508741759817 and parameters: {'batch_size': 64, 'epochs': 150, 'n_layers': 1, 'n_units_l1': 4, 'dropout_l1': 0.2, 'learning_rate': 0.0653345907676779, 'optimizer_name': 'adam'}. Best is trial 7 with value: 0.9323588420750931.\n",
            "[I 2024-02-17 09:44:50,089] Trial 11 pruned. Trial was pruned at epoch 6.\n",
            "[I 2024-02-17 09:44:51,420] Trial 12 pruned. Trial was pruned at epoch 0.\n",
            "[I 2024-02-17 09:44:52,836] Trial 13 pruned. Trial was pruned at epoch 0.\n",
            "[I 2024-02-17 09:44:54,849] Trial 14 pruned. Trial was pruned at epoch 0.\n",
            "[I 2024-02-17 09:44:56,138] Trial 15 pruned. Trial was pruned at epoch 0.\n",
            "[I 2024-02-17 09:45:02,627] Trial 16 pruned. Trial was pruned at epoch 6.\n",
            "[I 2024-02-17 09:45:11,049] Trial 17 finished with value: 0.9375179134422471 and parameters: {'batch_size': 96, 'epochs': 130, 'n_layers': 2, 'n_units_l1': 7, 'dropout_l1': 0.0, 'n_units_l2': 1, 'dropout_l2': 0.0, 'learning_rate': 0.06210350612011153, 'optimizer_name': 'adam'}. Best is trial 17 with value: 0.9375179134422471.\n",
            "[I 2024-02-17 09:45:13,321] Trial 18 pruned. Trial was pruned at epoch 0.\n",
            "[I 2024-02-17 09:45:14,929] Trial 19 pruned. Trial was pruned at epoch 0.\n",
            "[I 2024-02-17 09:45:17,724] Trial 20 pruned. Trial was pruned at epoch 6.\n",
            "[I 2024-02-17 09:45:20,064] Trial 21 pruned. Trial was pruned at epoch 0.\n",
            "[I 2024-02-17 09:45:21,690] Trial 22 pruned. Trial was pruned at epoch 0.\n",
            "[I 2024-02-17 09:45:23,175] Trial 23 pruned. Trial was pruned at epoch 0.\n",
            "[I 2024-02-17 09:45:24,495] Trial 24 pruned. Trial was pruned at epoch 0.\n",
            "[I 2024-02-17 09:45:26,429] Trial 25 pruned. Trial was pruned at epoch 0.\n",
            "[I 2024-02-17 09:45:28,021] Trial 26 pruned. Trial was pruned at epoch 0.\n",
            "[I 2024-02-17 09:45:29,103] Trial 27 pruned. Trial was pruned at epoch 0.\n",
            "[I 2024-02-17 09:45:30,497] Trial 28 pruned. Trial was pruned at epoch 0.\n",
            "[I 2024-02-17 09:45:32,207] Trial 29 pruned. Trial was pruned at epoch 0.\n",
            "[I 2024-02-17 09:45:34,497] Trial 30 pruned. Trial was pruned at epoch 0.\n",
            "[I 2024-02-17 09:45:36,054] Trial 31 pruned. Trial was pruned at epoch 0.\n",
            "[I 2024-02-17 09:45:39,346] Trial 32 pruned. Trial was pruned at epoch 6.\n",
            "[I 2024-02-17 09:45:43,016] Trial 33 finished with value: 0.8991114932645458 and parameters: {'batch_size': 96, 'epochs': 130, 'n_layers': 2, 'n_units_l1': 6, 'dropout_l1': 0.0, 'n_units_l2': 2, 'dropout_l2': 0.1, 'learning_rate': 0.08274476563630823, 'optimizer_name': 'adam'}. Best is trial 17 with value: 0.9375179134422471.\n",
            "[I 2024-02-17 09:45:50,101] Trial 34 pruned. Trial was pruned at epoch 16.\n",
            "[I 2024-02-17 09:45:53,021] Trial 35 pruned. Trial was pruned at epoch 6.\n",
            "[I 2024-02-17 09:45:55,014] Trial 36 pruned. Trial was pruned at epoch 0.\n",
            "[I 2024-02-17 09:46:00,569] Trial 37 finished with value: 0.8896531957580969 and parameters: {'batch_size': 32, 'epochs': 180, 'n_layers': 1, 'n_units_l1': 5, 'dropout_l1': 0.2, 'learning_rate': 0.040774562075596814, 'optimizer_name': 'rmsprop'}. Best is trial 17 with value: 0.9375179134422471.\n",
            "[I 2024-02-17 09:46:02,347] Trial 38 pruned. Trial was pruned at epoch 0.\n",
            "[I 2024-02-17 09:46:03,808] Trial 39 pruned. Trial was pruned at epoch 0.\n",
            "[I 2024-02-17 09:46:05,435] Trial 40 pruned. Trial was pruned at epoch 0.\n",
            "[I 2024-02-17 09:46:10,095] Trial 41 pruned. Trial was pruned at epoch 6.\n",
            "[I 2024-02-17 09:46:11,909] Trial 42 pruned. Trial was pruned at epoch 0.\n",
            "[I 2024-02-17 09:46:13,394] Trial 43 pruned. Trial was pruned at epoch 0.\n",
            "[I 2024-02-17 09:46:14,967] Trial 44 pruned. Trial was pruned at epoch 0.\n",
            "[I 2024-02-17 09:46:16,378] Trial 45 pruned. Trial was pruned at epoch 0.\n",
            "[I 2024-02-17 09:46:17,739] Trial 46 pruned. Trial was pruned at epoch 0.\n",
            "[I 2024-02-17 09:46:21,860] Trial 47 pruned. Trial was pruned at epoch 6.\n",
            "[I 2024-02-17 09:46:23,525] Trial 48 pruned. Trial was pruned at epoch 0.\n",
            "[I 2024-02-17 09:46:27,169] Trial 49 finished with value: 0.9188879335053024 and parameters: {'batch_size': 128, 'epochs': 160, 'n_layers': 2, 'n_units_l1': 5, 'dropout_l1': 0.0, 'n_units_l2': 2, 'dropout_l2': 0.1, 'learning_rate': 0.05610111439832024, 'optimizer_name': 'adam'}. Best is trial 17 with value: 0.9375179134422471.\n"
          ]
        }
      ],
      "source": [
        "def objective(trial):\n",
        "    batch_size = trial.suggest_int('batch_size', 32, 256, step=32)\n",
        "    epochs = trial.suggest_int('epochs', 10, 200, step=10)\n",
        "\n",
        "    model = build_keras_model_optuna(trial, X_train)\n",
        "\n",
        "    with suppress_stdout():\n",
        "        model.fit(\n",
        "            X_train,\n",
        "            y_train,\n",
        "            batch_size=batch_size,\n",
        "            callbacks=[tf.keras.callbacks.EarlyStopping(monitor='accuracy', patience=3, mode='max'),\n",
        "                       optuna.integration.TFKerasPruningCallback(trial, \"val_accuracy\")],\n",
        "            epochs=epochs,\n",
        "            validation_data=(X_val, y_val),\n",
        "            use_multiprocessing=True\n",
        "        )\n",
        "\n",
        "        preds = model.predict(X_test).round()\n",
        "    accuracy = accuracy_score(y_test, preds)\n",
        "\n",
        "    return accuracy\n",
        "\n",
        "study = get_optuna_study(objective, 50, False)"
      ]
    },
    {
      "cell_type": "code",
      "execution_count": 79,
      "metadata": {
        "id": "7r1lLxFTId63"
      },
      "outputs": [],
      "source": [
        "params = study.best_trial.params\n",
        "\n",
        "epochs = params.get('epochs', 100)\n",
        "batch_size = params.get('batch_size', 64)\n",
        "\n",
        "n_input = len(X_train[0])\n",
        "n_output = 1 # Classificação binária\n",
        "n_layers = params.get('n_layers', 1)\n",
        "\n",
        "default_n_units_l = 2*n_input/3 + n_output\n",
        "hidden_layers_details = {\n",
        "    i: [\n",
        "        params.get(f'n_units_l{i}', default_n_units_l),\n",
        "        'relu',\n",
        "        params.get(f'dropout_l{i}', 0.0)\n",
        "    ] for i in range(1,n_layers+1)\n",
        "}\n",
        "\n",
        "lr = params.get('learning_rate', 0.001)\n",
        "opt_name = params.get('optimizer_name', 'adam')\n",
        "if opt_name == 'adam':\n",
        "    optimizer = Adam(learning_rate=lr)\n",
        "if opt_name == 'rmsprop':\n",
        "    optimizer = RMSprop(learning_rate=lr)\n",
        "\n",
        "callbacks = [tf.keras.callbacks.EarlyStopping(monitor='val_accuracy', patience=3, mode='max')]"
      ]
    },
    {
      "cell_type": "markdown",
      "metadata": {
        "id": "phplbr9ggR2d"
      },
      "source": [
        "#### **Com o conjunto de validação**"
      ]
    },
    {
      "cell_type": "code",
      "execution_count": 80,
      "metadata": {
        "id": "Dzf999uPJQpE"
      },
      "outputs": [
        {
          "name": "stdout",
          "output_type": "stream",
          "text": [
            "Epoch 1/130\n",
            "117/117 [==============================] - 2s 4ms/step - loss: 0.3015 - accuracy: 0.8813 - val_loss: 0.2113 - val_accuracy: 0.9111\n",
            "Epoch 2/130\n",
            "117/117 [==============================] - 0s 3ms/step - loss: 0.1962 - accuracy: 0.9175 - val_loss: 0.2094 - val_accuracy: 0.9061\n",
            "Epoch 3/130\n",
            "117/117 [==============================] - 0s 3ms/step - loss: 0.1817 - accuracy: 0.9219 - val_loss: 0.1846 - val_accuracy: 0.9233\n",
            "Epoch 4/130\n",
            "117/117 [==============================] - 0s 3ms/step - loss: 0.1716 - accuracy: 0.9269 - val_loss: 0.1836 - val_accuracy: 0.9176\n",
            "Epoch 5/130\n",
            "117/117 [==============================] - 0s 3ms/step - loss: 0.1624 - accuracy: 0.9280 - val_loss: 0.1591 - val_accuracy: 0.9337\n",
            "Epoch 6/130\n",
            "117/117 [==============================] - 0s 3ms/step - loss: 0.1626 - accuracy: 0.9301 - val_loss: 0.1722 - val_accuracy: 0.9215\n",
            "Epoch 7/130\n",
            "117/117 [==============================] - 0s 3ms/step - loss: 0.1587 - accuracy: 0.9303 - val_loss: 0.1560 - val_accuracy: 0.9283\n",
            "Epoch 8/130\n",
            "117/117 [==============================] - 0s 3ms/step - loss: 0.1555 - accuracy: 0.9324 - val_loss: 0.1909 - val_accuracy: 0.9068\n"
          ]
        },
        {
          "data": {
            "text/plain": [
              "<keras.callbacks.History at 0x20deb15dc90>"
            ]
          },
          "execution_count": 80,
          "metadata": {},
          "output_type": "execute_result"
        }
      ],
      "source": [
        "clf = build_keras_model(\n",
        "    n_input=n_input,\n",
        "    n_layers=n_layers,\n",
        "    hidden_layers_details=hidden_layers_details,\n",
        "    n_output=n_output,\n",
        "    out_l_act_func='sigmoid', # sigmoid para classificação binária\n",
        "    optimizer=optimizer,\n",
        ")\n",
        "\n",
        "clf.fit(\n",
        "    X_train,\n",
        "    y_train,\n",
        "    epochs=epochs,\n",
        "    batch_size=batch_size,\n",
        "    validation_data=(X_val, y_val),\n",
        "    callbacks=callbacks,\n",
        "    verbose=1,\n",
        "    use_multiprocessing=True,\n",
        ")"
      ]
    },
    {
      "cell_type": "code",
      "execution_count": 81,
      "metadata": {
        "id": "kxBlfzXfEjGs"
      },
      "outputs": [],
      "source": [
        "# weights, biases = model.layers[0].get_weights()\n",
        "# print(\"weights\",weights.size, weights, \"biases\", biases)\n",
        "# model.summary()"
      ]
    },
    {
      "cell_type": "markdown",
      "metadata": {
        "id": "69ofvEMTNDdi"
      },
      "source": [
        "##### **Métricas de desempenho**"
      ]
    },
    {
      "cell_type": "code",
      "execution_count": 82,
      "metadata": {
        "id": "JNq4w9S6OPaR"
      },
      "outputs": [
        {
          "name": "stdout",
          "output_type": "stream",
          "text": [
            "110/110 [==============================] - 0s 2ms/step\n",
            "Principal métrica: Acurácia\n",
            "\n",
            "Melhores parâmetros: \n",
            "\tbatch_size=96\n",
            "\tepochs=130\n",
            "\tn_layers=2\n",
            "\tn_units_l1=7\n",
            "\tdropout_l1=0.0\n",
            "\tn_units_l2=1\n",
            "\tdropout_l2=0.0\n",
            "\tlearning_rate=0.06210350612011153\n",
            "\toptimizer_name=adam\n",
            "\n",
            "Melhores métricas:\n",
            "\tAcurácia: 90.71%\n",
            "\tPrecisão: 86.14%\n",
            "\tRecall: 96.95%\n",
            "\tF1: 91.22%\n",
            "\tROC-AUC: 90.74%\n"
          ]
        }
      ],
      "source": [
        "preds = clf.predict(X_test).round().ravel()\n",
        "\n",
        "accuracy = accuracy_score(y_test, preds)\n",
        "precision = precision_score(y_test, preds)\n",
        "recall = recall_score(y_test, preds)\n",
        "f1 = f1_score(y_test, preds)\n",
        "roc_auc = roc_auc_score(y_test, preds)\n",
        "\n",
        "metrics_keras = [accuracy, precision, recall, f1, roc_auc]\n",
        "\n",
        "print_best_results(params, metrics_keras)"
      ]
    },
    {
      "cell_type": "markdown",
      "metadata": {
        "id": "HA7OGH_nNGVI"
      },
      "source": [
        "##### **Matriz de Confusão**"
      ]
    },
    {
      "cell_type": "code",
      "execution_count": 83,
      "metadata": {
        "id": "9nWSMS8qvIDK"
      },
      "outputs": [
        {
          "data": {
            "image/png": "[encoded data removed]",
            "text/plain": [
              "<Figure size 288x216 with 2 Axes>"
            ]
          },
          "metadata": {
            "needs_background": "light"
          },
          "output_type": "display_data"
        },
        {
          "name": "stdout",
          "output_type": "stream",
          "text": [
            "\n"
          ]
        },
        {
          "data": {
            "image/png": "[encoded data removed]",
            "text/plain": [
              "<Figure size 288x216 with 2 Axes>"
            ]
          },
          "metadata": {
            "needs_background": "light"
          },
          "output_type": "display_data"
        },
        {
          "name": "stdout",
          "output_type": "stream",
          "text": [
            "\n"
          ]
        }
      ],
      "source": [
        "plot_confusion_matrix(y_test, preds)"
      ]
    },
    {
      "cell_type": "markdown",
      "metadata": {
        "id": "iNzLGBuAreai"
      },
      "source": [
        "## **Resultados**\n",
        "\n",
        "1º: MLPClassier_1HiddenLayer(hidden_layer_sizes=(7,), activation='tanh', solver='adam', alpha=0.00010576869105669781, learning_rate='invscaling', learning_rate_init=0.0723427984566542, max_iter=180)\n",
        "\n",
        "\tAcurácia: 94.58%\n",
        "\tPrecisão: 94.85%\n",
        "\tRecall: 94.23%\n",
        "\tF1: 94.53%\n",
        "\tROC-AUC: 99.01%\n",
        "\n",
        "2º: MLPClassier_2HiddenLayer(hidden_layer_sizes=(7,1), activation='logistic', solver='adam', alpha=0.0003129615673880955, learning_rate='adaptive', learning_rate_init=0.08646715415971704, max_iter=100)\n",
        "\n",
        "\tAcurácia: 94.58%\n",
        "\tPrecisão: 94.53%\n",
        "\tRecall: 94.65%\n",
        "\tF1: 94.56%\n",
        "\tROC-AUC: 99.12%\n",
        "\n",
        "3º: TensorFlow/Keras(batch_size=96, epochs=130, n_layers=2, n_units_l1=7, dropout_l1=0.0, n_units_l2=1, dropout_l2=0.0, learning_rate=0.06210350612011153, optimizer_name=adam)\n",
        "\n",
        "\tAcurácia: 90.71%\n",
        "\tPrecisão: 86.14%\n",
        "\tRecall: 96.95%\n",
        "\tF1: 91.22%\n",
        "\tROC-AUC: 90.74%"
      ]
    },
    {
      "cell_type": "markdown",
      "metadata": {
        "id": "QAqGc9APwFWv"
      },
      "source": [
        "# **Resultados Finais**\n",
        "\n",
        "1º: K-NN(n_neighbors=7, 'weights'='distance', metric='manhattan', p=2, leaf_size=24)\n",
        "\n",
        "\tAcurácia: 97.03%\n",
        "\tPrecisão: 97.19%\n",
        "\tRecall: 96.83%\n",
        "\tF1: 97.01%\n",
        "\tROC-AUC: 99.64%\n",
        "\n",
        "2º: 1-NN(n_nighbours=1)\n",
        "\n",
        "    Acurácia: 96.64%\n",
        "    Precisão: 96.60%\n",
        "    Recall: 96.66%\n",
        "    F1: 96.63%\n",
        "\tROC-AUC: 96.64%\n",
        "\n",
        "3º: MLPClassier_1HiddenLayer(hidden_layer_sizes=(7,), activation='tanh', solver='adam', alpha=0.00010576869105669781, learning_rate='invscaling', learning_rate_init=0.0723427984566542, max_iter=180)\n",
        "\n",
        "\tAcurácia: 94.58%\n",
        "\tPrecisão: 94.85%\n",
        "\tRecall: 94.23%\n",
        "\tF1: 94.53%\n",
        "\tROC-AUC: 99.01%\n",
        "\n",
        "4º: MLPClassier_2HiddenLayer(hidden_layer_sizes=(7,1), activation='logistic', solver='adam', alpha=0.0003129615673880955, learning_rate='adaptive', learning_rate_init=0.08646715415971704, max_iter=100)\n",
        "\n",
        "\tAcurácia: 94.58%\n",
        "\tPrecisão: 94.53%\n",
        "\tRecall: 94.65%\n",
        "\tF1: 94.56%\n",
        "\tROC-AUC: 99.12%\n",
        "\n",
        "5º: TensorFlow/Keras(batch_size=96, epochs=130, n_layers=2, n_units_l1=7, dropout_l1=0.0, n_units_l2=1, dropout_l2=0.0, learning_rate=0.06210350612011153, optimizer_name=adam)\n",
        "\n",
        "\tAcurácia: 90.71%\n",
        "\tPrecisão: 86.14%\n",
        "\tRecall: 96.95%\n",
        "\tF1: 91.22%\n",
        "\tROC-AUC: 90.74%\n",
        "\n",
        "6º: GaussianNB(var_smoothing=0.657933224657568)\n",
        "\n",
        "\tAcurácia: 87.79%\n",
        "\tPrecisão: 90.18%\n",
        "\tRecall: 84.71%\n",
        "\tF1: 87.35%\n",
        "\tROC-AUC: 95.53%\n",
        "\n",
        "7º: MultinomialNB(alpha=5.0)\n",
        "\n",
        "\tAcurácia: 87.59%\n",
        "\tPrecisão: 89.56%\n",
        "\tRecall: 84.98%\n",
        "\tF1: 87.21%\n",
        "\tROC-AUC: 95.30%\n",
        "\n",
        "8º: BernoulliNB(alpha=10.0, binarize=None)\n",
        "\n",
        "\tAcurácia: 87.56%\n",
        "\tPrecisão: 89.50%\n",
        "\tRecall: 84.99%\n",
        "\tF1: 87.19%\n",
        "\tROC-AUC: 95.35%"
      ]
    }
  ],
  "metadata": {
    "colab": {
      "collapsed_sections": [
        "9MbLF9uSN5JO",
        "1ybqzTOqeF92",
        "XuBqlY3eNN6t"
      ],
      "provenance": [],
      "toc_visible": true
    },
    "kernelspec": {
      "display_name": "Python 3",
      "name": "python3"
    },
    "language_info": {
      "codemirror_mode": {
        "name": "ipython",
        "version": 3
      },
      "file_extension": ".py",
      "mimetype": "text/x-python",
      "name": "python",
      "nbconvert_exporter": "python",
      "pygments_lexer": "ipython3",
      "version": "3.10.11"
    }
  },
  "nbformat": 4,
  "nbformat_minor": 0
}
